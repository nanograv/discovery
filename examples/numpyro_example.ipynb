{
 "cells": [
  {
   "cell_type": "markdown",
   "id": "09a43d70-2f4e-4c54-8f65-7c6a724734a7",
   "metadata": {},
   "source": [
    "## Parameter estimation with discovery and numpyro"
   ]
  },
  {
   "cell_type": "markdown",
   "id": "fb628997-7226-4a11-b113-0435055360e1",
   "metadata": {},
   "source": [
    "Creating MCMC chains with discovery likelihoods and `numpyro`'s [NUTS sampler](https://num.pyro.ai/en/latest/mcmc.html)."
   ]
  },
  {
   "cell_type": "markdown",
   "id": "97e56c9a-69f7-4398-ad7e-ff7b89b4b6b1",
   "metadata": {},
   "source": [
    "Obviously, `discovery.samplers.numpyro` requires `numpyro`."
   ]
  },
  {
   "cell_type": "code",
   "execution_count": 1,
   "id": "35ea2696-df49-4372-aa4c-9168cd610fe2",
   "metadata": {},
   "outputs": [],
   "source": [
    "import sys\n",
    "import os\n",
    "import glob\n",
    "\n",
    "import tqdm"
   ]
  },
  {
   "cell_type": "code",
   "execution_count": 2,
   "id": "cdb73210-6d6c-490e-924b-1275d541f0cc",
   "metadata": {},
   "outputs": [],
   "source": [
    "import numpy as np\n",
    "import pandas as pd\n",
    "import matplotlib.pyplot as pp\n",
    "\n",
    "%matplotlib inline"
   ]
  },
  {
   "cell_type": "code",
   "execution_count": 3,
   "id": "05f57f4e-48f9-423e-9302-c4b48d25b816",
   "metadata": {},
   "outputs": [],
   "source": [
    "import jax\n",
    "jax.config.update('jax_enable_x64', True)\n",
    "\n",
    "import jax.random\n",
    "import jax.numpy as jnp"
   ]
  },
  {
   "cell_type": "code",
   "execution_count": 4,
   "id": "3b02e719-113a-4dca-b3b6-5dab9be1c6c0",
   "metadata": {},
   "outputs": [],
   "source": [
    "import discovery as ds\n",
    "import discovery.models.nanograv as ds_nanograv\n",
    "import discovery.samplers.numpyro as ds_numpyro"
   ]
  },
  {
   "cell_type": "markdown",
   "id": "16ff150c-4c89-446f-a21a-6017c05c0cbb",
   "metadata": {},
   "source": [
    "Read nanograv pulsars"
   ]
  },
  {
   "cell_type": "code",
   "execution_count": 32,
   "id": "9139090f-6373-492d-aa0e-520522625ac9",
   "metadata": {},
   "outputs": [],
   "source": [
    "allpsrs = [ds.Pulsar.read_feather(psrfile) for psrfile in sorted(glob.glob('../data/*-[JB]*.feather'))]"
   ]
  },
  {
   "cell_type": "markdown",
   "id": "7ad64559-204c-46ea-a5dd-f5e1fe809654",
   "metadata": {},
   "source": [
    "Run with fewer pulsars to converge on GPU"
   ]
  },
  {
   "cell_type": "code",
   "execution_count": 6,
   "id": "e4f28d66-2848-4868-a946-f5d3c9e954cf",
   "metadata": {},
   "outputs": [],
   "source": [
    "allpsrs = allpsrs[:5]"
   ]
  },
  {
   "cell_type": "markdown",
   "id": "6a7cc22f-af1a-477b-a97f-5a6ac19c7bc0",
   "metadata": {},
   "source": [
    "Set up a NANOGrav CURN model. Possible options to `makemodel_curn` are `rn_components`, `crn_components`, and `gamma=<fixed_value>`. For an HD model, use `ds_nanograv.makemodel_hd`."
   ]
  },
  {
   "cell_type": "code",
   "execution_count": 12,
   "id": "c242a56b-b41c-4663-994c-aa28ac000bb2",
   "metadata": {},
   "outputs": [],
   "source": [
    "model = ds_nanograv.makemodel_curn(allpsrs)"
   ]
  },
  {
   "cell_type": "markdown",
   "id": "549fb3a0-3942-4332-8969-7fc554a3ff2e",
   "metadata": {},
   "source": [
    "Obtain the likelihood"
   ]
  },
  {
   "cell_type": "code",
   "execution_count": 16,
   "id": "7ce9eb9c-63ff-4bda-a990-e2a7c5c13d61",
   "metadata": {},
   "outputs": [],
   "source": [
    "logl = model.logL"
   ]
  },
  {
   "cell_type": "markdown",
   "id": "7e6ff010-5323-4c2a-b6ae-267a8f5ee60c",
   "metadata": {},
   "source": [
    "These are the parameters."
   ]
  },
  {
   "cell_type": "code",
   "execution_count": 17,
   "id": "dd04e903-c7b7-41cc-b18c-eefc4494baa2",
   "metadata": {},
   "outputs": [
    {
     "data": {
      "text/plain": [
       "['B1855+09_red_noise_gamma',\n",
       " 'B1855+09_red_noise_log10_A',\n",
       " 'B1937+21_red_noise_gamma',\n",
       " 'B1937+21_red_noise_log10_A',\n",
       " 'B1953+29_red_noise_gamma',\n",
       " 'B1953+29_red_noise_log10_A',\n",
       " 'J0023+0923_red_noise_gamma',\n",
       " 'J0023+0923_red_noise_log10_A',\n",
       " 'J0030+0451_red_noise_gamma',\n",
       " 'J0030+0451_red_noise_log10_A',\n",
       " 'crn_gamma',\n",
       " 'crn_log10_A']"
      ]
     },
     "execution_count": 17,
     "metadata": {},
     "output_type": "execute_result"
    }
   ],
   "source": [
    "logl.params"
   ]
  },
  {
   "cell_type": "markdown",
   "id": "108e770a-a451-446d-b6ea-322d0adb22a8",
   "metadata": {},
   "source": [
    "Sample parameter values from their default uniform priors."
   ]
  },
  {
   "cell_type": "code",
   "execution_count": 18,
   "id": "d3a62f76-a3c3-47f4-96e8-a6faa8d4cebf",
   "metadata": {},
   "outputs": [],
   "source": [
    "p0 = ds.sample_uniform(logl.params)"
   ]
  },
  {
   "cell_type": "markdown",
   "id": "7f23912e-4231-4902-a806-7785423e1609",
   "metadata": {},
   "source": [
    "Try likelihood, compiled version, likelihood gradient."
   ]
  },
  {
   "cell_type": "code",
   "execution_count": 20,
   "id": "4076c392-bccd-4c79-805b-a175038a152d",
   "metadata": {},
   "outputs": [
    {
     "data": {
      "text/plain": [
       "Array(914691.13889637, dtype=float64)"
      ]
     },
     "execution_count": 20,
     "metadata": {},
     "output_type": "execute_result"
    }
   ],
   "source": [
    "logl(p0)"
   ]
  },
  {
   "cell_type": "code",
   "execution_count": 21,
   "id": "db56602b-cdea-436d-95d9-dd32dc9620c5",
   "metadata": {},
   "outputs": [
    {
     "data": {
      "text/plain": [
       "Array(914691.13889637, dtype=float64)"
      ]
     },
     "execution_count": 21,
     "metadata": {},
     "output_type": "execute_result"
    }
   ],
   "source": [
    "jax.jit(logl)(p0)"
   ]
  },
  {
   "cell_type": "code",
   "execution_count": 22,
   "id": "f18444c6-9440-4b14-a472-efe7e123fe1c",
   "metadata": {},
   "outputs": [
    {
     "data": {
      "text/plain": [
       "{'B1855+09_red_noise_gamma': Array(-0.0009749, dtype=float64, weak_type=True),\n",
       " 'B1855+09_red_noise_log10_A': Array(-0.00166683, dtype=float64, weak_type=True),\n",
       " 'B1937+21_red_noise_gamma': Array(-0.0004357, dtype=float64, weak_type=True),\n",
       " 'B1937+21_red_noise_log10_A': Array(-0.00086616, dtype=float64, weak_type=True),\n",
       " 'B1953+29_red_noise_gamma': Array(-0.01444272, dtype=float64, weak_type=True),\n",
       " 'B1953+29_red_noise_log10_A': Array(-0.02485109, dtype=float64, weak_type=True),\n",
       " 'J0023+0923_red_noise_gamma': Array(-4.61835094e-11, dtype=float64, weak_type=True),\n",
       " 'J0023+0923_red_noise_log10_A': Array(-9.62121944e-11, dtype=float64, weak_type=True),\n",
       " 'J0030+0451_red_noise_gamma': Array(-0.00069229, dtype=float64, weak_type=True),\n",
       " 'J0030+0451_red_noise_log10_A': Array(-0.00137895, dtype=float64, weak_type=True),\n",
       " 'crn_gamma': Array(-25.50380024, dtype=float64, weak_type=True),\n",
       " 'crn_log10_A': Array(-504.46209096, dtype=float64, weak_type=True)}"
      ]
     },
     "execution_count": 22,
     "metadata": {},
     "output_type": "execute_result"
    }
   ],
   "source": [
    "jax.grad(logl)(p0)"
   ]
  },
  {
   "cell_type": "markdown",
   "id": "591da3cd-eb8a-464d-b14c-9beef62d1cdf",
   "metadata": {},
   "source": [
    "Make a numpyro model, transforming likelihood to standard `[-inf, inf]` parameter ranges."
   ]
  },
  {
   "cell_type": "code",
   "execution_count": 23,
   "id": "411b4ede-9262-4f50-ad30-4235a811ec68",
   "metadata": {},
   "outputs": [],
   "source": [
    "npmodel = ds_numpyro.makemodel_transformed(logl)"
   ]
  },
  {
   "cell_type": "markdown",
   "id": "ac215bf8-4eca-44df-b027-fdf14db4a9aa",
   "metadata": {},
   "source": [
    "Make a numpyro NUTS sampler object. Numypro arguments for `infer.MCMC` and `infer.NUTS` are supported."
   ]
  },
  {
   "cell_type": "code",
   "execution_count": 27,
   "id": "5a43c03d-1505-47c0-9d4d-18b26939bc43",
   "metadata": {},
   "outputs": [],
   "source": [
    "npsampler = ds_numpyro.makesampler_nuts(npmodel)"
   ]
  },
  {
   "cell_type": "markdown",
   "id": "9b4fc3ad-41ee-48f2-a9a6-9cb283f66d9d",
   "metadata": {},
   "source": [
    "Run with a set random seed."
   ]
  },
  {
   "cell_type": "code",
   "execution_count": 28,
   "id": "51434038-d03b-4485-b05b-e62ffaab807a",
   "metadata": {},
   "outputs": [
    {
     "name": "stderr",
     "output_type": "stream",
     "text": [
      "sample: 100%|███████████████████████████████████████████████████████████████████████████| 1536/1536 [00:53<00:00, 28.91it/s, 31 steps of size 1.37e-01. acc. prob=0.85]\n"
     ]
    }
   ],
   "source": [
    "npsampler.run(jax.random.PRNGKey(42))"
   ]
  },
  {
   "cell_type": "markdown",
   "id": "51664e95-e7a7-471e-853b-20968aadf0ba",
   "metadata": {},
   "source": [
    "`discovery` enhances the `numpyro` sampler with a method `to_df()` that returns the sampler chain as a pandas `DataFrame`."
   ]
  },
  {
   "cell_type": "code",
   "execution_count": 29,
   "id": "923a89b0-d981-4a84-9b5e-06aed3db9f17",
   "metadata": {},
   "outputs": [],
   "source": [
    "chain = npsampler.to_df()"
   ]
  },
  {
   "cell_type": "code",
   "execution_count": 31,
   "id": "1d01a09a-382c-4caf-9f22-ea8447a38660",
   "metadata": {},
   "outputs": [
    {
     "data": {
      "text/html": [
       "<div>\n",
       "<style scoped>\n",
       "    .dataframe tbody tr th:only-of-type {\n",
       "        vertical-align: middle;\n",
       "    }\n",
       "\n",
       "    .dataframe tbody tr th {\n",
       "        vertical-align: top;\n",
       "    }\n",
       "\n",
       "    .dataframe thead th {\n",
       "        text-align: right;\n",
       "    }\n",
       "</style>\n",
       "<table border=\"1\" class=\"dataframe\">\n",
       "  <thead>\n",
       "    <tr style=\"text-align: right;\">\n",
       "      <th></th>\n",
       "      <th>B1855+09_red_noise_gamma</th>\n",
       "      <th>B1855+09_red_noise_log10_A</th>\n",
       "      <th>B1937+21_red_noise_gamma</th>\n",
       "      <th>B1937+21_red_noise_log10_A</th>\n",
       "      <th>B1953+29_red_noise_gamma</th>\n",
       "      <th>B1953+29_red_noise_log10_A</th>\n",
       "      <th>J0023+0923_red_noise_gamma</th>\n",
       "      <th>J0023+0923_red_noise_log10_A</th>\n",
       "      <th>J0030+0451_red_noise_gamma</th>\n",
       "      <th>J0030+0451_red_noise_log10_A</th>\n",
       "      <th>crn_gamma</th>\n",
       "      <th>crn_log10_A</th>\n",
       "    </tr>\n",
       "  </thead>\n",
       "  <tbody>\n",
       "    <tr>\n",
       "      <th>0</th>\n",
       "      <td>6.476984</td>\n",
       "      <td>-18.148467</td>\n",
       "      <td>4.089248</td>\n",
       "      <td>-13.520661</td>\n",
       "      <td>1.075246</td>\n",
       "      <td>-12.642510</td>\n",
       "      <td>5.500433</td>\n",
       "      <td>-18.054510</td>\n",
       "      <td>0.494193</td>\n",
       "      <td>-15.080699</td>\n",
       "      <td>4.255313</td>\n",
       "      <td>-14.181534</td>\n",
       "    </tr>\n",
       "    <tr>\n",
       "      <th>1</th>\n",
       "      <td>0.013168</td>\n",
       "      <td>-16.318226</td>\n",
       "      <td>3.942949</td>\n",
       "      <td>-13.649348</td>\n",
       "      <td>4.265511</td>\n",
       "      <td>-13.434208</td>\n",
       "      <td>1.890570</td>\n",
       "      <td>-13.717133</td>\n",
       "      <td>5.991677</td>\n",
       "      <td>-18.095588</td>\n",
       "      <td>3.959131</td>\n",
       "      <td>-14.168350</td>\n",
       "    </tr>\n",
       "    <tr>\n",
       "      <th>2</th>\n",
       "      <td>0.008013</td>\n",
       "      <td>-17.412356</td>\n",
       "      <td>4.291904</td>\n",
       "      <td>-13.584551</td>\n",
       "      <td>4.502505</td>\n",
       "      <td>-13.422527</td>\n",
       "      <td>2.607725</td>\n",
       "      <td>-16.042287</td>\n",
       "      <td>5.190236</td>\n",
       "      <td>-17.986991</td>\n",
       "      <td>3.985542</td>\n",
       "      <td>-14.211795</td>\n",
       "    </tr>\n",
       "    <tr>\n",
       "      <th>3</th>\n",
       "      <td>2.891030</td>\n",
       "      <td>-17.814518</td>\n",
       "      <td>4.211965</td>\n",
       "      <td>-13.615802</td>\n",
       "      <td>0.395461</td>\n",
       "      <td>-12.660168</td>\n",
       "      <td>4.132601</td>\n",
       "      <td>-19.332417</td>\n",
       "      <td>0.611211</td>\n",
       "      <td>-17.589698</td>\n",
       "      <td>3.217800</td>\n",
       "      <td>-13.794063</td>\n",
       "    </tr>\n",
       "    <tr>\n",
       "      <th>4</th>\n",
       "      <td>2.965423</td>\n",
       "      <td>-15.693120</td>\n",
       "      <td>3.741948</td>\n",
       "      <td>-13.572435</td>\n",
       "      <td>0.256944</td>\n",
       "      <td>-12.584014</td>\n",
       "      <td>0.387995</td>\n",
       "      <td>-19.913435</td>\n",
       "      <td>6.216158</td>\n",
       "      <td>-17.504121</td>\n",
       "      <td>3.778628</td>\n",
       "      <td>-13.996851</td>\n",
       "    </tr>\n",
       "    <tr>\n",
       "      <th>...</th>\n",
       "      <td>...</td>\n",
       "      <td>...</td>\n",
       "      <td>...</td>\n",
       "      <td>...</td>\n",
       "      <td>...</td>\n",
       "      <td>...</td>\n",
       "      <td>...</td>\n",
       "      <td>...</td>\n",
       "      <td>...</td>\n",
       "      <td>...</td>\n",
       "      <td>...</td>\n",
       "      <td>...</td>\n",
       "    </tr>\n",
       "    <tr>\n",
       "      <th>1019</th>\n",
       "      <td>2.442326</td>\n",
       "      <td>-18.021231</td>\n",
       "      <td>4.636352</td>\n",
       "      <td>-13.734986</td>\n",
       "      <td>2.430792</td>\n",
       "      <td>-13.031007</td>\n",
       "      <td>4.129197</td>\n",
       "      <td>-16.518822</td>\n",
       "      <td>2.839567</td>\n",
       "      <td>-19.432986</td>\n",
       "      <td>3.057165</td>\n",
       "      <td>-13.757071</td>\n",
       "    </tr>\n",
       "    <tr>\n",
       "      <th>1020</th>\n",
       "      <td>2.880649</td>\n",
       "      <td>-18.471594</td>\n",
       "      <td>4.405029</td>\n",
       "      <td>-13.796660</td>\n",
       "      <td>2.809793</td>\n",
       "      <td>-13.066353</td>\n",
       "      <td>4.538688</td>\n",
       "      <td>-16.337045</td>\n",
       "      <td>1.827672</td>\n",
       "      <td>-19.730748</td>\n",
       "      <td>3.071215</td>\n",
       "      <td>-13.836040</td>\n",
       "    </tr>\n",
       "    <tr>\n",
       "      <th>1021</th>\n",
       "      <td>5.352179</td>\n",
       "      <td>-19.604518</td>\n",
       "      <td>4.404296</td>\n",
       "      <td>-13.660947</td>\n",
       "      <td>2.805014</td>\n",
       "      <td>-13.006893</td>\n",
       "      <td>3.836079</td>\n",
       "      <td>-16.749440</td>\n",
       "      <td>1.109886</td>\n",
       "      <td>-18.662330</td>\n",
       "      <td>3.386114</td>\n",
       "      <td>-13.757132</td>\n",
       "    </tr>\n",
       "    <tr>\n",
       "      <th>1022</th>\n",
       "      <td>3.455395</td>\n",
       "      <td>-16.677092</td>\n",
       "      <td>3.856385</td>\n",
       "      <td>-13.595281</td>\n",
       "      <td>2.120671</td>\n",
       "      <td>-12.838609</td>\n",
       "      <td>1.916079</td>\n",
       "      <td>-14.054348</td>\n",
       "      <td>2.648604</td>\n",
       "      <td>-18.986566</td>\n",
       "      <td>3.253295</td>\n",
       "      <td>-13.718977</td>\n",
       "    </tr>\n",
       "    <tr>\n",
       "      <th>1023</th>\n",
       "      <td>5.113523</td>\n",
       "      <td>-16.633020</td>\n",
       "      <td>4.296183</td>\n",
       "      <td>-13.660373</td>\n",
       "      <td>0.912844</td>\n",
       "      <td>-12.634724</td>\n",
       "      <td>5.172464</td>\n",
       "      <td>-17.452296</td>\n",
       "      <td>1.656672</td>\n",
       "      <td>-16.131782</td>\n",
       "      <td>3.260820</td>\n",
       "      <td>-13.887976</td>\n",
       "    </tr>\n",
       "  </tbody>\n",
       "</table>\n",
       "<p>1024 rows × 12 columns</p>\n",
       "</div>"
      ],
      "text/plain": [
       "      B1855+09_red_noise_gamma  B1855+09_red_noise_log10_A  \\\n",
       "0                     6.476984                  -18.148467   \n",
       "1                     0.013168                  -16.318226   \n",
       "2                     0.008013                  -17.412356   \n",
       "3                     2.891030                  -17.814518   \n",
       "4                     2.965423                  -15.693120   \n",
       "...                        ...                         ...   \n",
       "1019                  2.442326                  -18.021231   \n",
       "1020                  2.880649                  -18.471594   \n",
       "1021                  5.352179                  -19.604518   \n",
       "1022                  3.455395                  -16.677092   \n",
       "1023                  5.113523                  -16.633020   \n",
       "\n",
       "      B1937+21_red_noise_gamma  B1937+21_red_noise_log10_A  \\\n",
       "0                     4.089248                  -13.520661   \n",
       "1                     3.942949                  -13.649348   \n",
       "2                     4.291904                  -13.584551   \n",
       "3                     4.211965                  -13.615802   \n",
       "4                     3.741948                  -13.572435   \n",
       "...                        ...                         ...   \n",
       "1019                  4.636352                  -13.734986   \n",
       "1020                  4.405029                  -13.796660   \n",
       "1021                  4.404296                  -13.660947   \n",
       "1022                  3.856385                  -13.595281   \n",
       "1023                  4.296183                  -13.660373   \n",
       "\n",
       "      B1953+29_red_noise_gamma  B1953+29_red_noise_log10_A  \\\n",
       "0                     1.075246                  -12.642510   \n",
       "1                     4.265511                  -13.434208   \n",
       "2                     4.502505                  -13.422527   \n",
       "3                     0.395461                  -12.660168   \n",
       "4                     0.256944                  -12.584014   \n",
       "...                        ...                         ...   \n",
       "1019                  2.430792                  -13.031007   \n",
       "1020                  2.809793                  -13.066353   \n",
       "1021                  2.805014                  -13.006893   \n",
       "1022                  2.120671                  -12.838609   \n",
       "1023                  0.912844                  -12.634724   \n",
       "\n",
       "      J0023+0923_red_noise_gamma  J0023+0923_red_noise_log10_A  \\\n",
       "0                       5.500433                    -18.054510   \n",
       "1                       1.890570                    -13.717133   \n",
       "2                       2.607725                    -16.042287   \n",
       "3                       4.132601                    -19.332417   \n",
       "4                       0.387995                    -19.913435   \n",
       "...                          ...                           ...   \n",
       "1019                    4.129197                    -16.518822   \n",
       "1020                    4.538688                    -16.337045   \n",
       "1021                    3.836079                    -16.749440   \n",
       "1022                    1.916079                    -14.054348   \n",
       "1023                    5.172464                    -17.452296   \n",
       "\n",
       "      J0030+0451_red_noise_gamma  J0030+0451_red_noise_log10_A  crn_gamma  \\\n",
       "0                       0.494193                    -15.080699   4.255313   \n",
       "1                       5.991677                    -18.095588   3.959131   \n",
       "2                       5.190236                    -17.986991   3.985542   \n",
       "3                       0.611211                    -17.589698   3.217800   \n",
       "4                       6.216158                    -17.504121   3.778628   \n",
       "...                          ...                           ...        ...   \n",
       "1019                    2.839567                    -19.432986   3.057165   \n",
       "1020                    1.827672                    -19.730748   3.071215   \n",
       "1021                    1.109886                    -18.662330   3.386114   \n",
       "1022                    2.648604                    -18.986566   3.253295   \n",
       "1023                    1.656672                    -16.131782   3.260820   \n",
       "\n",
       "      crn_log10_A  \n",
       "0      -14.181534  \n",
       "1      -14.168350  \n",
       "2      -14.211795  \n",
       "3      -13.794063  \n",
       "4      -13.996851  \n",
       "...           ...  \n",
       "1019   -13.757071  \n",
       "1020   -13.836040  \n",
       "1021   -13.757132  \n",
       "1022   -13.718977  \n",
       "1023   -13.887976  \n",
       "\n",
       "[1024 rows x 12 columns]"
      ]
     },
     "execution_count": 31,
     "metadata": {},
     "output_type": "execute_result"
    }
   ],
   "source": [
    "chain"
   ]
  },
  {
   "cell_type": "code",
   "execution_count": 34,
   "id": "6937d72b-79c9-4ad2-a60d-5ab84012f15d",
   "metadata": {},
   "outputs": [
    {
     "data": {
      "image/png": "[encoded data removed]",
      "text/plain": [
       "<Figure size 640x480 with 1 Axes>"
      ]
     },
     "metadata": {},
     "output_type": "display_data"
    }
   ],
   "source": [
    "pp.hist(chain['crn_log10_A'], bins=20, histtype='step', density=True);"
   ]
  },
  {
   "cell_type": "code",
   "execution_count": null,
   "id": "42d400da-1326-4a70-b962-b85dc205b174",
   "metadata": {},
   "outputs": [],
   "source": []
  },
  {
   "cell_type": "markdown",
   "id": "005a772d-16ea-42bb-b891-285e8b58d5e3",
   "metadata": {},
   "source": [
    "## Experimenting with FFTint"
   ]
  },
  {
   "cell_type": "code",
   "execution_count": 33,
   "id": "f5d4e5ae-6c45-4754-a514-ffd2bd942e2b",
   "metadata": {},
   "outputs": [],
   "source": [
    "allpsrs = [ds.Pulsar.read_feather(psrfile) for psrfile in sorted(glob.glob('../data/*-[JB]*.feather'))]"
   ]
  },
  {
   "cell_type": "code",
   "execution_count": 67,
   "id": "f7af33ce-a539-486b-80e9-cf31230b4f99",
   "metadata": {},
   "outputs": [],
   "source": [
    "tspan = ds.getspan(allpsrs)\n",
    "\n",
    "onesm = lambda psr: ds.PulsarLikelihood([psr.residuals,\n",
    "                                         ds.makenoise_measurement(psr, psr.noisedict),\n",
    "                                         ds.makegp_ecorr(psr, psr.noisedict),\n",
    "                                         ds.makegp_timing(psr, svd=True),\n",
    "                                         ds.makegp_fftcov(psr, ds.powerlaw, 61, tspan, oversample=6, name='rednoise')])\n",
    "\n",
    "onegm = lambda allpsrs: ds.GlobalLikelihood([onesm(psr) for psr in allpsrs],\n",
    "                                            globalgp=ds.makeglobalgp_fftcov(allpsrs, ds.powerlaw, ds.hd_orf, 61,\n",
    "                                                                            T=tspan, oversample=6, name='gw'))"
   ]
  },
  {
   "cell_type": "code",
   "execution_count": 101,
   "id": "2818f897-c1f1-4b6f-96b8-f8e095d09b65",
   "metadata": {},
   "outputs": [
    {
     "name": "stdout",
     "output_type": "stream",
     "text": [
      "CPU times: user 29.3 s, sys: 29.7 s, total: 59 s\n",
      "Wall time: 6.94 s\n"
     ]
    }
   ],
   "source": [
    "%time logl = onegm(allpsrs[:30]).logL"
   ]
  },
  {
   "cell_type": "code",
   "execution_count": 102,
   "id": "a6765b46-1aff-43fa-853a-b2bbc94ce5cc",
   "metadata": {},
   "outputs": [],
   "source": [
    "p0 = ds.sample_uniform(logl.params)"
   ]
  },
  {
   "cell_type": "code",
   "execution_count": 103,
   "id": "bfe95c2b-01d0-4dde-b44b-e5b5eb3d672f",
   "metadata": {},
   "outputs": [
    {
     "name": "stdout",
     "output_type": "stream",
     "text": [
      "CPU times: user 172 ms, sys: 342 ms, total: 514 ms\n",
      "Wall time: 92.9 ms\n"
     ]
    },
    {
     "data": {
      "text/plain": [
       "Array(3517956.48725933, dtype=float64)"
      ]
     },
     "execution_count": 103,
     "metadata": {},
     "output_type": "execute_result"
    }
   ],
   "source": [
    "%time logl(p0).block_until_ready()"
   ]
  },
  {
   "cell_type": "code",
   "execution_count": 94,
   "id": "1eecb038-05e4-4ac9-aa38-dde6189e38ef",
   "metadata": {},
   "outputs": [
    {
     "name": "stdout",
     "output_type": "stream",
     "text": [
      "316 ms ± 11.8 ms per loop (mean ± std. dev. of 7 runs, 1 loop each)\n"
     ]
    }
   ],
   "source": [
    "%timeit logl(p0).block_until_ready()"
   ]
  },
  {
   "cell_type": "code",
   "execution_count": 107,
   "id": "6061b075-c2dc-4a73-ada5-d2cb7eef7fc3",
   "metadata": {},
   "outputs": [],
   "source": [
    "jlogl = jax.jit(jax.value_and_grad(logl))"
   ]
  },
  {
   "cell_type": "code",
   "execution_count": 111,
   "id": "8367cc07-d7ee-4ef7-a1e0-89d6c228b633",
   "metadata": {},
   "outputs": [
    {
     "name": "stdout",
     "output_type": "stream",
     "text": [
      "CPU times: user 759 ms, sys: 818 ms, total: 1.58 s\n",
      "Wall time: 195 ms\n"
     ]
    },
    {
     "data": {
      "text/plain": [
       "Array(3517956.48725926, dtype=float64)"
      ]
     },
     "execution_count": 111,
     "metadata": {},
     "output_type": "execute_result"
    }
   ],
   "source": [
    "%time jlogl(p0)[0].block_until_ready()"
   ]
  },
  {
   "cell_type": "code",
   "execution_count": 113,
   "id": "a50efa1c-8c62-46c6-b216-5e22d5e0e2af",
   "metadata": {},
   "outputs": [
    {
     "name": "stdout",
     "output_type": "stream",
     "text": [
      "175 ms ± 2.42 ms per loop (mean ± std. dev. of 7 runs, 1 loop each)\n"
     ]
    }
   ],
   "source": [
    "%timeit jlogl(p0)[0].block_until_ready()"
   ]
  },
  {
   "cell_type": "code",
   "execution_count": null,
   "id": "dcc3395e-fc4d-4cfe-8115-bfbf23f8c948",
   "metadata": {},
   "outputs": [],
   "source": []
  },
  {
   "cell_type": "code",
   "execution_count": 2477,
   "id": "dacbe4be-322f-4984-bef5-332551f87f66",
   "metadata": {},
   "outputs": [
    {
     "data": {
      "text/plain": [
       "<module 'discovery' from '/Users/vallis/Documents/discovery/src/discovery/__init__.py'>"
      ]
     },
     "execution_count": 2477,
     "metadata": {},
     "output_type": "execute_result"
    }
   ],
   "source": [
    "import importlib\n",
    "\n",
    "importlib.reload(ds.matrix)\n",
    "importlib.reload(ds.signals)\n",
    "importlib.reload(ds.likelihood)\n",
    "importlib.reload(ds)"
   ]
  },
  {
   "cell_type": "code",
   "execution_count": 2478,
   "id": "a7b62798-7aeb-4a23-b428-292e22973a78",
   "metadata": {},
   "outputs": [],
   "source": [
    "tspan = ds.getspan(allpsrs)\n",
    "\n",
    "onesm = lambda psr: ds.PulsarLikelihood([psr.residuals,\n",
    "                                         ds.makenoise_measurement(psr, psr.noisedict),\n",
    "                                         ds.makegp_ecorr(psr, psr.noisedict),\n",
    "                                         ds.makegp_timing(psr, svd=True)])\n",
    "\n",
    "onegm = lambda allpsrs: ds.ArrayLikelihood([onesm(psr) for psr in allpsrs],\n",
    "                                           commongp=ds.makecommongp_fftcov(allpsrs, ds.powerlaw, 61,\n",
    "                                                                           T=tspan, oversample=6, name='rednoise'), \n",
    "                                           globalgp=ds.makeglobalgp_fftcov(allpsrs, ds.powerlaw, ds.hd_orf, 61,\n",
    "                                                                           T=tspan, oversample=6, name='gw'))"
   ]
  },
  {
   "cell_type": "code",
   "execution_count": 2479,
   "id": "1b940911-4b53-477a-a353-5745c6f9b54a",
   "metadata": {},
   "outputs": [
    {
     "name": "stdout",
     "output_type": "stream",
     "text": [
      "CPU times: user 22.5 s, sys: 12.7 s, total: 35.2 s\n",
      "Wall time: 3.73 s\n"
     ]
    }
   ],
   "source": [
    "%time model = onegm(allpsrs[:10])"
   ]
  },
  {
   "cell_type": "code",
   "execution_count": 2396,
   "id": "a7e5e1ac-39ff-440c-9dd4-04147941f8db",
   "metadata": {},
   "outputs": [],
   "source": [
    "clogl1 = model.cglogL(100, 5, 200, make_logdet='CG-Woodbury')\n",
    "clogl2 = model.cglogL(100, 5, 200, make_logdet='CG-MDL')\n",
    "clogl3 = model.cglogL(100, 5, 200, make_logdet='G-series')\n",
    "clogl4 = model.cglogL(100, 5, 200, make_logdet='D-series')"
   ]
  },
  {
   "cell_type": "code",
   "execution_count": 2481,
   "id": "488d04e3-18b7-4d3b-83a1-9ed2981e42c1",
   "metadata": {},
   "outputs": [],
   "source": [
    "jlogl = jax.jit(model.logL)\n",
    "clogl1 = jax.jit(model.cglogL(100, detmatvecs=5, detsamples=200, clip=1e-6, make_logdet='CG-Woodbury'))\n",
    "clogl2 = jax.jit(model.cglogL(100, detmatvecs=5, detsamples=200, clip=1e-6, make_logdet='CG-MDL'))\n",
    "clogl3 = jax.jit(model.cglogL(100, detmatvecs=5, detsamples=200, make_logdet='G-series'))\n",
    "clogl4 = jax.jit(model.cglogL(100, detmatvecs=5, detsamples=200, make_logdet='D-series'))"
   ]
  },
  {
   "cell_type": "code",
   "execution_count": 2482,
   "id": "4f68efed-0498-4e1a-84e2-c05237ab12f6",
   "metadata": {},
   "outputs": [
    {
     "name": "stderr",
     "output_type": "stream",
     "text": [
      "100%|███████████████████████████████████████████████████████████████████████████████████████████████████████████████████| 1000/1000 [01:15<00:00, 13.30it/s]\n"
     ]
    }
   ],
   "source": [
    "p0s, cls = [], []\n",
    "for i in tqdm.tqdm(range(1000)):\n",
    "    p0 = ds.sample_uniform(model.logL.params)\n",
    "    p0s.append(p0)\n",
    "    cls.append([jlogl(p0), clogl1(p0), clogl2(p0), clogl3(p0), clogl4(p0)])"
   ]
  },
  {
   "cell_type": "code",
   "execution_count": null,
   "id": "a2d72f29-8410-4d91-bab8-a1357298c115",
   "metadata": {},
   "outputs": [],
   "source": [
    "cls2 = []\n",
    "for i in tqdm.tqdm(range(1000)):\n",
    "    cls2.append([jlogl(p0), clogl1(p0), clogl2(p0), clogl3(p0), clogl4(p0)])"
   ]
  },
  {
   "cell_type": "code",
   "execution_count": 2446,
   "id": "f29f3348-b390-479d-930e-be8e912e42cc",
   "metadata": {},
   "outputs": [],
   "source": [
    "cls = jnp.array(cls)"
   ]
  },
  {
   "cell_type": "code",
   "execution_count": 2475,
   "id": "759dd79e-2be9-47e0-a4de-bbde930395c9",
   "metadata": {},
   "outputs": [
    {
     "data": {
      "text/plain": [
       "[<matplotlib.lines.Line2D at 0x3b9c282d0>]"
      ]
     },
     "execution_count": 2475,
     "metadata": {},
     "output_type": "execute_result"
    },
    {
     "data": {
      "image/png": "[encoded data removed]",
      "text/plain": [
       "<Figure size 640x480 with 4 Axes>"
      ]
     },
     "metadata": {},
     "output_type": "display_data"
    }
   ],
   "source": [
    "pp.subplot(2,2,1); pp.plot(cls[:,0], cls[:,1] - cls[:,0], '.')\n",
    "pp.subplot(2,2,2); pp.plot(cls[:,0], cls[:,2] - cls[:,0], '.')\n",
    "\n",
    "mask = jnp.abs(cls[:,3] - cls[:,0]) < 2000\n",
    "pp.subplot(2,2,3); pp.plot(cls[mask,0], cls[mask,3] - cls[mask,0], '.')\n",
    "pp.plot(cls[~mask,0], jnp.zeros(jnp.sum(~mask)), '.')\n",
    "\n",
    "pp.subplot(2,2,4)\n",
    "# pp.plot(cls[:,0], cls[:,4] - cls[:,0], '.')\n",
    "mask = jnp.abs(cls[:,3] - cls[:,0]) < 10\n",
    "pp.plot(cls[mask,0], cls[mask,4] - cls[mask,0], '.')"
   ]
  },
  {
   "cell_type": "code",
   "execution_count": 2452,
   "id": "a0cc9a1f-805c-44fe-8929-0e70a844d5f3",
   "metadata": {},
   "outputs": [
    {
     "data": {
      "text/plain": [
       "Array([False, False, False, False, False, False, False, False, False,\n",
       "       False, False, False, False, False, False, False, False, False,\n",
       "       False, False, False, False, False, False, False, False, False,\n",
       "       False, False, False, False, False, False, False, False, False,\n",
       "       False, False, False, False, False, False, False, False, False,\n",
       "       False, False, False, False, False, False, False, False, False,\n",
       "       False, False, False, False, False, False, False, False, False,\n",
       "       False, False, False, False, False, False, False, False, False,\n",
       "       False, False, False, False, False, False, False, False, False,\n",
       "       False, False, False, False, False, False, False, False, False,\n",
       "       False, False, False, False, False, False, False, False, False,\n",
       "       False, False, False, False, False, False, False, False, False,\n",
       "       False, False, False, False, False, False, False, False, False,\n",
       "       False, False, False, False, False, False, False, False, False,\n",
       "       False, False, False, False, False, False, False, False, False,\n",
       "       False, False, False, False, False, False, False, False, False,\n",
       "       False, False, False, False, False, False, False, False, False,\n",
       "       False, False, False, False, False, False, False, False, False,\n",
       "       False, False, False, False, False, False, False, False, False,\n",
       "       False, False, False, False, False, False, False, False, False,\n",
       "       False, False, False, False, False, False, False, False, False,\n",
       "       False, False, False, False, False, False, False, False, False,\n",
       "       False, False, False, False, False, False, False, False, False,\n",
       "       False, False, False, False, False, False, False, False, False,\n",
       "       False, False, False, False, False, False, False, False, False,\n",
       "       False, False, False, False, False, False, False, False, False,\n",
       "       False, False, False, False, False, False, False, False, False,\n",
       "       False, False, False, False, False, False, False, False, False,\n",
       "       False, False, False, False, False, False, False, False, False,\n",
       "       False, False, False, False, False, False, False, False, False,\n",
       "       False, False, False, False, False, False, False, False, False,\n",
       "       False, False, False, False, False, False, False, False, False,\n",
       "       False, False, False, False, False, False, False, False, False,\n",
       "       False, False, False, False, False, False, False, False, False,\n",
       "       False, False, False, False, False, False, False, False, False,\n",
       "       False, False, False, False, False, False, False, False, False,\n",
       "       False, False, False, False, False, False, False, False, False,\n",
       "       False, False, False, False, False, False, False, False, False,\n",
       "       False, False, False, False, False, False, False, False, False,\n",
       "       False, False, False, False, False, False, False, False, False,\n",
       "       False, False, False, False, False, False, False, False, False,\n",
       "       False, False, False, False, False, False, False, False, False,\n",
       "       False, False, False, False, False, False, False, False, False,\n",
       "       False, False, False, False, False, False, False, False, False,\n",
       "       False, False, False, False, False, False, False, False, False,\n",
       "       False, False, False, False, False, False, False, False, False,\n",
       "       False, False, False, False, False, False, False, False, False,\n",
       "       False, False, False, False, False, False, False, False, False,\n",
       "       False, False, False, False, False, False, False, False, False,\n",
       "       False, False, False, False, False, False, False, False, False,\n",
       "       False, False, False, False, False, False, False, False, False,\n",
       "       False, False, False, False, False, False, False, False, False,\n",
       "       False, False, False, False, False, False, False, False, False,\n",
       "       False, False, False, False, False, False, False, False, False,\n",
       "       False, False, False, False, False, False, False, False, False,\n",
       "       False, False, False, False, False, False, False, False, False,\n",
       "       False, False, False, False, False, False, False, False, False,\n",
       "       False, False, False, False, False, False, False, False, False,\n",
       "       False, False, False, False, False, False, False, False, False,\n",
       "       False, False, False, False, False, False, False, False, False,\n",
       "       False, False, False, False, False, False, False, False, False,\n",
       "       False, False, False, False, False, False, False, False, False,\n",
       "       False, False, False, False, False, False, False, False, False,\n",
       "       False, False, False, False, False, False, False, False, False,\n",
       "       False, False, False, False, False, False, False, False, False,\n",
       "       False, False, False, False, False, False, False, False, False,\n",
       "       False, False, False, False, False, False, False, False, False,\n",
       "       False, False, False, False, False, False, False, False, False,\n",
       "       False, False, False, False, False, False, False, False, False,\n",
       "       False, False, False, False, False, False, False, False, False,\n",
       "       False, False, False, False, False, False, False, False, False,\n",
       "       False, False, False, False, False, False, False, False, False,\n",
       "       False, False, False, False, False, False, False, False, False,\n",
       "       False, False, False, False, False, False, False, False, False,\n",
       "       False, False, False, False, False, False, False, False, False,\n",
       "       False, False, False, False, False, False, False, False, False,\n",
       "       False, False, False, False, False, False, False, False, False,\n",
       "       False, False, False, False, False, False, False, False, False,\n",
       "       False, False, False, False, False, False, False, False, False,\n",
       "       False, False, False, False, False, False, False, False, False,\n",
       "       False, False, False, False, False, False, False, False, False,\n",
       "       False, False, False, False, False, False, False, False, False,\n",
       "       False, False, False, False, False, False, False, False, False,\n",
       "       False, False, False, False, False, False, False, False, False,\n",
       "       False, False, False, False, False, False, False, False, False,\n",
       "       False, False, False, False, False, False, False, False, False,\n",
       "       False, False, False, False, False, False, False, False, False,\n",
       "       False, False, False, False, False, False, False, False, False,\n",
       "       False, False, False, False, False, False, False, False, False,\n",
       "       False, False, False, False, False, False, False, False, False,\n",
       "       False, False, False, False, False, False, False, False, False,\n",
       "       False, False, False, False, False, False, False, False, False,\n",
       "       False, False, False, False, False, False, False, False, False,\n",
       "       False, False, False, False, False, False, False, False, False,\n",
       "       False, False, False, False, False, False, False, False, False,\n",
       "       False, False, False, False, False, False, False, False, False,\n",
       "       False, False, False, False, False, False, False, False, False,\n",
       "       False, False, False, False, False, False, False, False, False,\n",
       "       False, False, False, False, False, False, False, False, False,\n",
       "       False, False, False, False, False, False, False, False, False,\n",
       "       False, False, False, False, False, False, False, False, False,\n",
       "       False, False, False, False, False, False, False, False, False,\n",
       "       False, False, False, False, False, False, False, False, False,\n",
       "       False, False, False, False, False, False, False, False, False,\n",
       "       False, False, False, False, False, False, False, False, False,\n",
       "       False, False, False, False, False, False, False, False, False,\n",
       "       False, False, False, False, False, False, False, False, False,\n",
       "       False, False, False, False, False, False, False, False, False,\n",
       "       False, False, False, False, False, False, False, False, False,\n",
       "       False, False, False, False, False, False, False, False, False,\n",
       "       False, False, False, False, False, False, False, False, False,\n",
       "       False], dtype=bool)"
      ]
     },
     "execution_count": 2452,
     "metadata": {},
     "output_type": "execute_result"
    }
   ],
   "source": [
    "jnp.isnan(cls[:,3])"
   ]
  },
  {
   "cell_type": "code",
   "execution_count": 2347,
   "id": "1fed3783-e7bb-4ab1-84fd-68fab67984f6",
   "metadata": {},
   "outputs": [
    {
     "name": "stdout",
     "output_type": "stream",
     "text": [
      "23.4 ms ± 125 μs per loop (mean ± std. dev. of 7 runs, 100 loops each)\n"
     ]
    }
   ],
   "source": [
    "%timeit clogl1(p0)"
   ]
  },
  {
   "cell_type": "code",
   "execution_count": 2348,
   "id": "9b87bf30-2de5-4acb-be95-9cdc9cad1dcc",
   "metadata": {},
   "outputs": [
    {
     "name": "stdout",
     "output_type": "stream",
     "text": [
      "19.6 ms ± 2.51 ms per loop (mean ± std. dev. of 7 runs, 10 loops each)\n"
     ]
    }
   ],
   "source": [
    "%timeit clogl2(p0)"
   ]
  },
  {
   "cell_type": "code",
   "execution_count": 2349,
   "id": "21fb234a-54b9-497d-b0ff-35aa2fc24fe8",
   "metadata": {},
   "outputs": [
    {
     "name": "stdout",
     "output_type": "stream",
     "text": [
      "9.56 ms ± 121 μs per loop (mean ± std. dev. of 7 runs, 100 loops each)\n"
     ]
    }
   ],
   "source": [
    "%timeit clogl3(p0)"
   ]
  },
  {
   "cell_type": "code",
   "execution_count": 2350,
   "id": "2c4c42d2-71d6-4477-a001-2390ba07c5a0",
   "metadata": {},
   "outputs": [
    {
     "name": "stdout",
     "output_type": "stream",
     "text": [
      "10.2 ms ± 46.8 μs per loop (mean ± std. dev. of 7 runs, 100 loops each)\n"
     ]
    }
   ],
   "source": [
    "%timeit clogl4(p0)"
   ]
  },
  {
   "cell_type": "code",
   "execution_count": 2357,
   "id": "ebcb5401-a57e-4fb6-bd16-a7dd9c4db452",
   "metadata": {},
   "outputs": [],
   "source": [
    "glogl1 = jax.jit(jax.grad(model.cglogL(100, 5, 200, make_logdet='CG-Woodbury')))\n",
    "glogl2 = jax.jit(jax.grad(model.cglogL(100, 5, 200, make_logdet='CG-MDL')))\n",
    "glogl3 = jax.jit(jax.grad(model.cglogL(100, 5, 200, make_logdet='G-series')))\n",
    "glogl4 = jax.jit(jax.grad(model.cglogL(100, 5, 200, make_logdet='D-series')))"
   ]
  },
  {
   "cell_type": "code",
   "execution_count": 2362,
   "id": "a3c011a5-6a46-414c-a1e9-18231bdc0df4",
   "metadata": {},
   "outputs": [
    {
     "name": "stdout",
     "output_type": "stream",
     "text": [
      "85.4 ms ± 424 μs per loop (mean ± std. dev. of 7 runs, 100 loops each)\n"
     ]
    }
   ],
   "source": [
    "%timeit glogl1(p0)['B1855+09_rednoise_gamma']"
   ]
  },
  {
   "cell_type": "code",
   "execution_count": 2363,
   "id": "b3a47017-f80c-4f0a-96a2-8358b0ae9ff0",
   "metadata": {},
   "outputs": [
    {
     "name": "stdout",
     "output_type": "stream",
     "text": [
      "62.8 ms ± 14.6 ms per loop (mean ± std. dev. of 7 runs, 10 loops each)\n"
     ]
    }
   ],
   "source": [
    "%timeit glogl2(p0)['B1855+09_rednoise_gamma']"
   ]
  },
  {
   "cell_type": "code",
   "execution_count": 2364,
   "id": "998c644f-7277-489d-b2c7-8d4615f97a44",
   "metadata": {},
   "outputs": [
    {
     "name": "stdout",
     "output_type": "stream",
     "text": [
      "32.2 ms ± 13.3 ms per loop (mean ± std. dev. of 7 runs, 10 loops each)\n"
     ]
    }
   ],
   "source": [
    "%timeit glogl3(p0)['B1855+09_rednoise_gamma']"
   ]
  },
  {
   "cell_type": "code",
   "execution_count": 2365,
   "id": "32e6e893-a4eb-46a0-b3a7-bb2714aa7d8a",
   "metadata": {},
   "outputs": [
    {
     "name": "stdout",
     "output_type": "stream",
     "text": [
      "25.8 ms ± 1.68 ms per loop (mean ± std. dev. of 7 runs, 10 loops each)\n"
     ]
    }
   ],
   "source": [
    "%timeit glogl4(p0)['B1855+09_rednoise_gamma']"
   ]
  },
  {
   "cell_type": "code",
   "execution_count": null,
   "id": "c65592ae-87cb-45ba-ad13-667704c739f1",
   "metadata": {},
   "outputs": [],
   "source": []
  },
  {
   "cell_type": "code",
   "execution_count": null,
   "id": "e29ab73f-cee3-442a-90a0-bd69b9d573f4",
   "metadata": {},
   "outputs": [],
   "source": []
  },
  {
   "cell_type": "markdown",
   "id": "02acc3b3-d7b5-4f7d-9da2-5207620c1580",
   "metadata": {},
   "source": [
    "clogl(p0)"
   ]
  },
  {
   "cell_type": "code",
   "execution_count": null,
   "id": "2471dbb7-5ee6-4a9a-863c-1ec98b41d5bf",
   "metadata": {},
   "outputs": [],
   "source": []
  },
  {
   "cell_type": "code",
   "execution_count": 1428,
   "id": "df8ec016-2ec1-4ace-b6f6-63ad0f76e4d1",
   "metadata": {},
   "outputs": [],
   "source": [
    "jnpa, jspa = jax.numpy.linalg, jax.scipy.linalg"
   ]
  },
  {
   "cell_type": "markdown",
   "id": "ab97d50b-e462-434c-9806-d2d9ca639200",
   "metadata": {},
   "source": [
    "orfcf, phicf, FtNmF = clogl(p0)"
   ]
  },
  {
   "cell_type": "code",
   "execution_count": 1213,
   "id": "132ed7b4-fcf4-4e3e-82f0-4f65922d9c52",
   "metadata": {},
   "outputs": [],
   "source": [
    "orfmat = orfcf[0].T @ orfcf[0]"
   ]
  },
  {
   "cell_type": "code",
   "execution_count": 1214,
   "id": "1b0d5dfb-24c8-4849-9b32-74cb79b49215",
   "metadata": {},
   "outputs": [],
   "source": [
    "phimat = phicf[0].T @ phicf[0]"
   ]
  },
  {
   "cell_type": "code",
   "execution_count": 1431,
   "id": "692849d2-dda0-407e-af6b-c4da46cfd060",
   "metadata": {},
   "outputs": [],
   "source": [
    "phiinv = jspa.cho_solve(phicf, jnp.eye(61))"
   ]
  },
  {
   "cell_type": "code",
   "execution_count": null,
   "id": "28f30bca-9a64-4721-9018-359bc2035683",
   "metadata": {},
   "outputs": [],
   "source": [
    "orfinv = jspa.cho_solve(orfcf, jax.numpy.eye(5))"
   ]
  },
  {
   "cell_type": "markdown",
   "id": "d744e624-c592-4c98-b014-f4e0aa2a2ab1",
   "metadata": {},
   "source": [
    "Try CG approach"
   ]
  },
  {
   "cell_type": "code",
   "execution_count": 1891,
   "id": "ae75bad9-aca3-40b7-b42a-188c35dc242c",
   "metadata": {},
   "outputs": [],
   "source": [
    "Y = np.random.randn(5,61)"
   ]
  },
  {
   "cell_type": "code",
   "execution_count": 1907,
   "id": "70199b7b-7c2f-4a2e-b190-fa03086d45bb",
   "metadata": {},
   "outputs": [],
   "source": [
    "AY = jnp.einsum('akl,al->ak', FtNmF, jnp.einsum('ab,bc,cl->al',\n",
    "                                                orfcf[0].T, orfcf[0], jnp.einsum('li,ij,aj->al',\n",
    "                                                                                 phicf[0].T, phicf[0], Y))) + Y"
   ]
  },
  {
   "cell_type": "code",
   "execution_count": null,
   "id": "338756a9-d5aa-4a25-879d-1ba1a21ba6d2",
   "metadata": {},
   "outputs": [],
   "source": []
  },
  {
   "cell_type": "markdown",
   "id": "a1d0867f-73eb-4d84-b4cc-2aba60bc29c5",
   "metadata": {},
   "source": [
    "Do diagonal part separately"
   ]
  },
  {
   "cell_type": "code",
   "execution_count": 1778,
   "id": "77c2139e-29f7-49db-a574-c1b43c8face2",
   "metadata": {},
   "outputs": [],
   "source": [
    "orfinv = jspa.cho_solve(orfcf, jax.numpy.eye(5))"
   ]
  },
  {
   "cell_type": "code",
   "execution_count": 1789,
   "id": "08b7d00d-f2ec-4112-aced-a8996bce1988",
   "metadata": {},
   "outputs": [],
   "source": [
    "orfinv = np.diag(np.diag(orfinv)) + 1.0 * (orfinv - np.diag(np.diag(orfinv)))"
   ]
  },
  {
   "cell_type": "code",
   "execution_count": 1790,
   "id": "f9f6ecd0-65ff-40fa-be0a-b74adbcd7a40",
   "metadata": {},
   "outputs": [],
   "source": [
    "Sigma = jnp.block([[jnp.make2d(val * phiinv) for val in row] for row in orfinv]) + jax.scipy.linalg.block_diag(*FtNmF)"
   ]
  },
  {
   "cell_type": "code",
   "execution_count": 1791,
   "id": "7e731e3d-ee26-4fc8-97fb-5528fd11ae3b",
   "metadata": {},
   "outputs": [
    {
     "data": {
      "text/plain": [
       "Array(13947.71346878, dtype=float64)"
      ]
     },
     "execution_count": 1791,
     "metadata": {},
     "output_type": "execute_result"
    }
   ],
   "source": [
    "2.0 * jnp.sum(jnp.log(jnp.abs(jnp.diag(jspa.cho_factor(Sigma)[0]))))"
   ]
  },
  {
   "cell_type": "code",
   "execution_count": 1792,
   "id": "d4b53c9b-a944-45c1-ad39-774a92a3e246",
   "metadata": {},
   "outputs": [],
   "source": [
    "i1, i2 = jnp.diag_indices(61, ndim=2)\n",
    "cfD = jspa.cho_factor(jnp.diag(orfinv)[:,None,None] * phiinv[None,:,:] + FtNmF)\n",
    "logD = 2.0 * jnp.sum(jnp.log(jnp.abs(cfD[0][:, i1, i2])))"
   ]
  },
  {
   "cell_type": "code",
   "execution_count": 1793,
   "id": "5e37a19b-a431-4056-b889-4b4f55ea6085",
   "metadata": {},
   "outputs": [
    {
     "data": {
      "text/plain": [
       "Array(13955.54579081, dtype=float64)"
      ]
     },
     "execution_count": 1793,
     "metadata": {},
     "output_type": "execute_result"
    }
   ],
   "source": [
    "logD"
   ]
  },
  {
   "cell_type": "code",
   "execution_count": 1794,
   "id": "fd8c2b79-e7e3-4fbf-a4f2-282053cb141c",
   "metadata": {},
   "outputs": [],
   "source": [
    "E = jax.vmap(lambda c, m: jspa.cho_solve((c, False), m), in_axes=(0,None))(cfD[0], phiinv)"
   ]
  },
  {
   "cell_type": "code",
   "execution_count": 1795,
   "id": "7cc82092-453f-443f-9136-aa59bd820c7d",
   "metadata": {},
   "outputs": [],
   "source": [
    "traces = jnp.einsum('nij,mji->nm', E, E)"
   ]
  },
  {
   "cell_type": "code",
   "execution_count": 1796,
   "id": "d3861ba1-2270-4b47-a925-e9492e70f395",
   "metadata": {},
   "outputs": [],
   "source": [
    "gamma_prod = orfinv * orfinv.T"
   ]
  },
  {
   "cell_type": "code",
   "execution_count": 1797,
   "id": "1884fdbf-0d6c-4651-8787-a4fe98170231",
   "metadata": {},
   "outputs": [],
   "source": [
    "off_diag_mask = ~jnp.eye(5, dtype=bool)"
   ]
  },
  {
   "cell_type": "code",
   "execution_count": 1798,
   "id": "ee154497-c2ba-4ad0-8b47-a60d6bc84fb5",
   "metadata": {},
   "outputs": [
    {
     "data": {
      "text/plain": [
       "Array(13948.28660354, dtype=float64)"
      ]
     },
     "execution_count": 1798,
     "metadata": {},
     "output_type": "execute_result"
    }
   ],
   "source": [
    "logD -0.5 * jnp.sum(gamma_prod * traces * off_diag_mask)"
   ]
  },
  {
   "cell_type": "code",
   "execution_count": 1799,
   "id": "a98b6cda-35aa-4f7b-8492-7cf8e0c5c835",
   "metadata": {},
   "outputs": [],
   "source": [
    "traces3 = jnp.einsum('aij,bjk,ckl->abc', E, E, E)"
   ]
  },
  {
   "cell_type": "code",
   "execution_count": 1800,
   "id": "e2e32f6f-2382-4974-9b5b-caff0079e431",
   "metadata": {},
   "outputs": [],
   "source": [
    "gamma_prod3 = jnp.einsum('ij,jk,ki->ijk', orfinv, orfinv, orfinv)"
   ]
  },
  {
   "cell_type": "code",
   "execution_count": 1811,
   "id": "0a1ed6aa-3540-4aa8-92ba-59e4a324e89d",
   "metadata": {},
   "outputs": [],
   "source": [
    "N = 5\n",
    "i_idx, j_idx, k_idx = jnp.meshgrid(jnp.arange(N), jnp.arange(N), jnp.arange(N), indexing=\"ij\")\n",
    "off_diag_mask3 = (i_idx != j_idx) & (j_idx != k_idx) & (k_idx != i_idx)"
   ]
  },
  {
   "cell_type": "code",
   "execution_count": 1814,
   "id": "cb4c4c0b-7633-448f-abad-535685017bec",
   "metadata": {},
   "outputs": [
    {
     "data": {
      "text/plain": [
       "Array(13947.98884995, dtype=float64)"
      ]
     },
     "execution_count": 1814,
     "metadata": {},
     "output_type": "execute_result"
    }
   ],
   "source": [
    "logD -0.5 * jnp.sum(gamma_prod * traces * off_diag_mask) + (1/3.0) * jnp.sum(gamma_prod3 * traces3 * off_diag_mask3)"
   ]
  },
  {
   "cell_type": "code",
   "execution_count": 1812,
   "id": "5d5df700-e96b-40da-a5fb-0380b19e1c4b",
   "metadata": {},
   "outputs": [
    {
     "data": {
      "text/plain": [
       "Array([[0.        , 0.03479127, 0.00658194, 0.00171398, 0.00128241],\n",
       "       [0.03479127, 0.        , 0.06683175, 0.00038445, 0.00065086],\n",
       "       [0.00658194, 0.06683175, 0.        , 0.00020929, 0.00080526],\n",
       "       [0.00171398, 0.00038445, 0.00020929, 0.        , 0.09413359],\n",
       "       [0.00128241, 0.00065086, 0.00080526, 0.09413359, 0.        ]],      dtype=float64)"
      ]
     },
     "execution_count": 1812,
     "metadata": {},
     "output_type": "execute_result"
    }
   ],
   "source": [
    "gamma_prod * off_diag_mask"
   ]
  },
  {
   "cell_type": "code",
   "execution_count": 1813,
   "id": "782f45e5-6589-4945-b00d-39a599a5f775",
   "metadata": {},
   "outputs": [
    {
     "data": {
      "text/plain": [
       "Array([[[ 0.00000000e+00,  0.00000000e+00,  0.00000000e+00,\n",
       "          0.00000000e+00,  0.00000000e+00],\n",
       "        [ 0.00000000e+00,  0.00000000e+00, -3.91204329e-03,\n",
       "         -1.51411036e-04, -1.70408337e-04],\n",
       "        [ 0.00000000e+00, -3.91204329e-03,  0.00000000e+00,\n",
       "         -4.85902188e-05, -8.24436405e-05],\n",
       "        [ 0.00000000e+00, -1.51411036e-04, -4.85902188e-05,\n",
       "          0.00000000e+00, -4.54870215e-04],\n",
       "        [ 0.00000000e+00, -1.70408337e-04, -8.24436405e-05,\n",
       "         -4.54870215e-04,  0.00000000e+00]],\n",
       "\n",
       "       [[ 0.00000000e+00,  0.00000000e+00, -3.91204329e-03,\n",
       "         -1.51411036e-04, -1.70408337e-04],\n",
       "        [ 0.00000000e+00,  0.00000000e+00,  0.00000000e+00,\n",
       "          0.00000000e+00,  0.00000000e+00],\n",
       "        [-3.91204329e-03,  0.00000000e+00,  0.00000000e+00,\n",
       "         -7.33298393e-05, -1.87155088e-04],\n",
       "        [-1.51411036e-04,  0.00000000e+00, -7.33298393e-05,\n",
       "          0.00000000e+00, -1.53474143e-04],\n",
       "        [-1.70408337e-04,  0.00000000e+00, -1.87155088e-04,\n",
       "         -1.53474143e-04,  0.00000000e+00]],\n",
       "\n",
       "       [[ 0.00000000e+00, -3.91204329e-03,  0.00000000e+00,\n",
       "         -4.85902188e-05, -8.24436405e-05],\n",
       "        [-3.91204329e-03,  0.00000000e+00,  0.00000000e+00,\n",
       "         -7.33298393e-05, -1.87155088e-04],\n",
       "        [ 0.00000000e+00,  0.00000000e+00,  0.00000000e+00,\n",
       "          0.00000000e+00,  0.00000000e+00],\n",
       "        [-4.85902188e-05, -7.33298393e-05,  0.00000000e+00,\n",
       "          0.00000000e+00, -1.25953118e-04],\n",
       "        [-8.24436405e-05, -1.87155088e-04,  0.00000000e+00,\n",
       "         -1.25953118e-04,  0.00000000e+00]],\n",
       "\n",
       "       [[ 0.00000000e+00, -1.51411036e-04, -4.85902188e-05,\n",
       "          0.00000000e+00, -4.54870215e-04],\n",
       "        [-1.51411036e-04,  0.00000000e+00, -7.33298393e-05,\n",
       "          0.00000000e+00, -1.53474143e-04],\n",
       "        [-4.85902188e-05, -7.33298393e-05,  0.00000000e+00,\n",
       "          0.00000000e+00, -1.25953118e-04],\n",
       "        [ 0.00000000e+00,  0.00000000e+00,  0.00000000e+00,\n",
       "          0.00000000e+00,  0.00000000e+00],\n",
       "        [-4.54870215e-04, -1.53474143e-04, -1.25953118e-04,\n",
       "          0.00000000e+00,  0.00000000e+00]],\n",
       "\n",
       "       [[ 0.00000000e+00, -1.70408337e-04, -8.24436405e-05,\n",
       "         -4.54870215e-04,  0.00000000e+00],\n",
       "        [-1.70408337e-04,  0.00000000e+00, -1.87155088e-04,\n",
       "         -1.53474143e-04,  0.00000000e+00],\n",
       "        [-8.24436405e-05, -1.87155088e-04,  0.00000000e+00,\n",
       "         -1.25953118e-04,  0.00000000e+00],\n",
       "        [-4.54870215e-04, -1.53474143e-04, -1.25953118e-04,\n",
       "          0.00000000e+00,  0.00000000e+00],\n",
       "        [ 0.00000000e+00,  0.00000000e+00,  0.00000000e+00,\n",
       "          0.00000000e+00,  0.00000000e+00]]], dtype=float64)"
      ]
     },
     "execution_count": 1813,
     "metadata": {},
     "output_type": "execute_result"
    }
   ],
   "source": [
    "gamma_prod3 * off_diag_mask3"
   ]
  },
  {
   "cell_type": "code",
   "execution_count": null,
   "id": "4f7a16cb-6616-4909-9c72-0d50c1bf1f40",
   "metadata": {},
   "outputs": [],
   "source": [
    "    traces = jnp.einsum('nij,nkj->nk', E, E)  # shape (N, N), Tr(E_i @ E_j)\n",
    "\n",
    "    # Elementwise product of Gamma * Gamma^T (outer product of Gamma)\n",
    "    gamma_prod = Gamma * Gamma.T  # shape (N, N)\n",
    "\n",
    "    # Mask out the diagonal (i ≠ j)\n",
    "    off_diag_mask = ~jnp.eye(N, dtype=bool)\n",
    "\n",
    "    correction_matrix = gamma_prod * traces * off_diag_mask\n",
    "\n",
    "    correction = -0.5 * jnp.sum(correction_matrix)"
   ]
  },
  {
   "cell_type": "code",
   "execution_count": 1443,
   "id": "c7010d35-1754-43cc-bbfb-7f39e8e6a891",
   "metadata": {},
   "outputs": [
    {
     "data": {
      "text/plain": [
       "(5, 61, 61)"
      ]
     },
     "execution_count": 1443,
     "metadata": {},
     "output_type": "execute_result"
    }
   ],
   "source": [
    "cfD[0].shape"
   ]
  },
  {
   "cell_type": "markdown",
   "id": "4714ea43-2004-4ea3-92cf-5f6f8f0bcf79",
   "metadata": {},
   "source": []
  },
  {
   "cell_type": "markdown",
   "id": "52117b32-3629-4f78-bb63-b34d732f6b6d",
   "metadata": {},
   "source": [
    "Expand in G"
   ]
  },
  {
   "cell_type": "code",
   "execution_count": 1251,
   "id": "3ca48e45-2eae-443a-b12a-f0d911054e09",
   "metadata": {},
   "outputs": [],
   "source": [
    "phiG = phimat @ FtNmF"
   ]
  },
  {
   "cell_type": "code",
   "execution_count": 1257,
   "id": "e472486a-e456-4d83-a1d1-2c7212bfb1ce",
   "metadata": {},
   "outputs": [],
   "source": [
    "phiG = phicf[0].T @ (phicf[0] @ FtNmF)"
   ]
  },
  {
   "cell_type": "code",
   "execution_count": 1258,
   "id": "a18bc02b-4f7b-45c5-97e7-93eef453be00",
   "metadata": {},
   "outputs": [
    {
     "data": {
      "text/plain": [
       "Array(4.76161646e-05, dtype=float64)"
      ]
     },
     "execution_count": 1258,
     "metadata": {},
     "output_type": "execute_result"
    }
   ],
   "source": [
    "jax.numpy.diag(orfmat) @ jax.numpy.trace(phiG, axis1=1, axis2=2)"
   ]
  },
  {
   "cell_type": "code",
   "execution_count": 1259,
   "id": "924bf751-facd-4ea3-8e1e-073a672f34e9",
   "metadata": {},
   "outputs": [
    {
     "data": {
      "text/plain": [
       "Array(-4.13378557e-11, dtype=float64)"
      ]
     },
     "execution_count": 1259,
     "metadata": {},
     "output_type": "execute_result"
    }
   ],
   "source": [
    "-0.5 * jax.numpy.diag(orfmat)**2 @ jax.numpy.trace(phiG @ phiG, axis1=1, axis2=2)"
   ]
  },
  {
   "cell_type": "code",
   "execution_count": 1260,
   "id": "11c1431f-460a-46f3-997b-9557d430e813",
   "metadata": {},
   "outputs": [
    {
     "data": {
      "text/plain": [
       "Array(7.7885939e-17, dtype=float64)"
      ]
     },
     "execution_count": 1260,
     "metadata": {},
     "output_type": "execute_result"
    }
   ],
   "source": [
    "+(1/3) * jax.numpy.diag(orfmat)**3 @ jax.numpy.trace(phiG @ phiG @ phiG, axis1=1, axis2=2)"
   ]
  },
  {
   "cell_type": "code",
   "execution_count": null,
   "id": "60bca864-430c-4851-a025-93b983dc90d8",
   "metadata": {},
   "outputs": [],
   "source": []
  },
  {
   "cell_type": "code",
   "execution_count": 1173,
   "id": "3cee02e2-a341-47fe-8a47-568e98f835e6",
   "metadata": {},
   "outputs": [],
   "source": [
    "clogl = jax.jit(model.cglogL(100, 40, 2000))"
   ]
  },
  {
   "cell_type": "code",
   "execution_count": 1176,
   "id": "605d0d1e-8f02-4868-8678-9dcf3f5aa2b5",
   "metadata": {},
   "outputs": [
    {
     "name": "stdout",
     "output_type": "stream",
     "text": [
      "CPU times: user 379 μs, sys: 638 μs, total: 1.02 ms\n",
      "Wall time: 529 μs\n"
     ]
    },
    {
     "data": {
      "text/plain": [
       "Array(1134194.33500131, dtype=float64)"
      ]
     },
     "execution_count": 1176,
     "metadata": {},
     "output_type": "execute_result"
    }
   ],
   "source": [
    "%time clogl(p0)"
   ]
  },
  {
   "cell_type": "code",
   "execution_count": 1153,
   "id": "14e0beaf-50ba-4490-a1f4-b8ab48e43b81",
   "metadata": {},
   "outputs": [],
   "source": [
    "glogl = jax.jit(jax.grad(model.cglogL(100, 40, 1000)))"
   ]
  },
  {
   "cell_type": "code",
   "execution_count": 1154,
   "id": "f5871e6f-d7ff-4c35-aeb1-2f405a2957f1",
   "metadata": {},
   "outputs": [
    {
     "name": "stdout",
     "output_type": "stream",
     "text": [
      "CPU times: user 7.78 s, sys: 1.31 s, total: 9.09 s\n",
      "Wall time: 4.37 s\n"
     ]
    },
    {
     "data": {
      "text/plain": [
       "Array(0.00686568, dtype=float64, weak_type=True)"
      ]
     },
     "execution_count": 1154,
     "metadata": {},
     "output_type": "execute_result"
    }
   ],
   "source": [
    "%time glogl(p0)['B1855+09_rednoise_gamma'].block_until_ready()"
   ]
  },
  {
   "cell_type": "code",
   "execution_count": 1120,
   "id": "aafa1eb4-0dff-43e3-bb07-6e51307bc61e",
   "metadata": {},
   "outputs": [
    {
     "name": "stdout",
     "output_type": "stream",
     "text": [
      "CPU times: user 1.21 ms, sys: 1.51 ms, total: 2.72 ms\n",
      "Wall time: 1.55 ms\n"
     ]
    },
    {
     "data": {
      "text/plain": [
       "Array(1131072.60448816, dtype=float64)"
      ]
     },
     "execution_count": 1120,
     "metadata": {},
     "output_type": "execute_result"
    }
   ],
   "source": [
    "%time clogl(p0)"
   ]
  },
  {
   "cell_type": "code",
   "execution_count": 1133,
   "id": "d896e9a2-de24-449d-a0a7-6a5ec7e525c5",
   "metadata": {},
   "outputs": [],
   "source": [
    "glogl = jax.jit(jax.grad(model.logL))"
   ]
  },
  {
   "cell_type": "code",
   "execution_count": 1138,
   "id": "d23ca804-05c4-430e-b60d-ae7cb3b7c402",
   "metadata": {},
   "outputs": [
    {
     "name": "stdout",
     "output_type": "stream",
     "text": [
      "CPU times: user 114 ms, sys: 126 ms, total: 240 ms\n",
      "Wall time: 54.4 ms\n"
     ]
    },
    {
     "data": {
      "text/plain": [
       "Array(0.00686569, dtype=float64, weak_type=True)"
      ]
     },
     "execution_count": 1138,
     "metadata": {},
     "output_type": "execute_result"
    }
   ],
   "source": [
    "%time glogl(p0)['B1855+09_rednoise_gamma'].block_until_ready()"
   ]
  },
  {
   "cell_type": "code",
   "execution_count": 1121,
   "id": "7194227b-dd5a-4973-83ce-55293662161f",
   "metadata": {},
   "outputs": [
    {
     "name": "stdout",
     "output_type": "stream",
     "text": [
      "CPU times: user 400 μs, sys: 598 μs, total: 998 μs\n",
      "Wall time: 543 μs\n"
     ]
    },
    {
     "data": {
      "text/plain": [
       "Array(1131072.71669768, dtype=float64)"
      ]
     },
     "execution_count": 1121,
     "metadata": {},
     "output_type": "execute_result"
    }
   ],
   "source": [
    "%time logl(p0)"
   ]
  },
  {
   "cell_type": "code",
   "execution_count": null,
   "id": "2d93cbe0-a513-4c6d-a05d-037009b36fea",
   "metadata": {},
   "outputs": [],
   "source": []
  },
  {
   "cell_type": "code",
   "execution_count": 877,
   "id": "18ebe6be-c1fd-4160-b3d3-894ad0751ca8",
   "metadata": {},
   "outputs": [],
   "source": [
    "clogls = [model.cglogL(1000, n, 1000)(p0) for n in range(10,110,10)]"
   ]
  },
  {
   "cell_type": "code",
   "execution_count": 880,
   "id": "80ebc465-4cdc-4db1-8934-0b72a55d1b5c",
   "metadata": {},
   "outputs": [],
   "source": [
    "clogls2 = [model.cglogL(1000, 50, l)(p0) for l in range(100,1100,100)]"
   ]
  },
  {
   "cell_type": "code",
   "execution_count": 881,
   "id": "63355c0e-b676-4598-9253-a5d75ab45b14",
   "metadata": {},
   "outputs": [
    {
     "data": {
      "text/plain": [
       "<matplotlib.lines.Line2D at 0x71b1efc50>"
      ]
     },
     "execution_count": 881,
     "metadata": {},
     "output_type": "execute_result"
    },
    {
     "data": {
      "image/png": "[encoded data removed]",
      "text/plain": [
       "<Figure size 640x480 with 1 Axes>"
      ]
     },
     "metadata": {},
     "output_type": "display_data"
    }
   ],
   "source": [
    "pp.plot(range(100,1100,100), clogls2)\n",
    "pp.axhline(logl(p0))"
   ]
  },
  {
   "cell_type": "code",
   "execution_count": 879,
   "id": "cda3f267-abf9-4dfc-92ff-e87a01dcad88",
   "metadata": {},
   "outputs": [
    {
     "data": {
      "text/plain": [
       "<matplotlib.lines.Line2D at 0x632274550>"
      ]
     },
     "execution_count": 879,
     "metadata": {},
     "output_type": "execute_result"
    },
    {
     "data": {
      "image/png": "[encoded data removed]",
      "text/plain": [
       "<Figure size 640x480 with 1 Axes>"
      ]
     },
     "metadata": {},
     "output_type": "display_data"
    }
   ],
   "source": [
    "pp.plot(range(10,110,10), clogls)\n",
    "pp.axhline(logl(p0))"
   ]
  },
  {
   "cell_type": "code",
   "execution_count": 873,
   "id": "0d053184-65ad-4f24-8773-f3ffd881128d",
   "metadata": {},
   "outputs": [
    {
     "data": {
      "text/plain": [
       "Array(18940.87119336, dtype=float64)"
      ]
     },
     "execution_count": 873,
     "metadata": {},
     "output_type": "execute_result"
    }
   ],
   "source": [
    "logl = jax.jit(model.logL)\n",
    "logl(p0)"
   ]
  },
  {
   "cell_type": "code",
   "execution_count": null,
   "id": "a115d5e0-90f3-47c5-86ce-29711fb99f9a",
   "metadata": {},
   "outputs": [],
   "source": []
  },
  {
   "cell_type": "code",
   "execution_count": 759,
   "id": "23ac976f-8938-4ed3-8cbe-5cf139446f5a",
   "metadata": {},
   "outputs": [],
   "source": [
    "p0 = ds.sample_uniform(logl.params)"
   ]
  },
  {
   "cell_type": "code",
   "execution_count": 760,
   "id": "0d378213-f04a-4e60-8cf7-05d430fd0f27",
   "metadata": {},
   "outputs": [
    {
     "name": "stdout",
     "output_type": "stream",
     "text": [
      "10.2 ms ± 397 μs per loop (mean ± std. dev. of 7 runs, 100 loops each)\n"
     ]
    }
   ],
   "source": [
    "%timeit logl(p0)"
   ]
  },
  {
   "cell_type": "code",
   "execution_count": 781,
   "id": "5485e307-a3f0-434b-ad2d-85460e287a0c",
   "metadata": {},
   "outputs": [
    {
     "ename": "NameError",
     "evalue": "name 'jnp' is not defined",
     "output_type": "error",
     "traceback": [
      "\u001b[0;31m---------------------------------------------------------------------------\u001b[0m",
      "\u001b[0;31mNameError\u001b[0m                                 Traceback (most recent call last)",
      "Cell \u001b[0;32mIn[781], line 1\u001b[0m\n\u001b[0;32m----> 1\u001b[0m clogl \u001b[38;5;241m=\u001b[39m \u001b[43mmodel\u001b[49m\u001b[38;5;241;43m.\u001b[39;49m\u001b[43mcglogL\u001b[49m\u001b[43m(\u001b[49m\u001b[38;5;241;43m1000\u001b[39;49m\u001b[43m)\u001b[49m\n\u001b[1;32m      2\u001b[0m clogl(p0)\n",
      "File \u001b[0;32m~/Documents/discovery/src/discovery/likelihood.py:620\u001b[0m, in \u001b[0;36mArrayLikelihood.cglogL\u001b[0;34m(self, maxiter)\u001b[0m\n\u001b[1;32m    618\u001b[0m tridiag_sym \u001b[38;5;241m=\u001b[39m decomp\u001b[38;5;241m.\u001b[39mtridiag_sym(num_matvecs)\n\u001b[1;32m    619\u001b[0m problem \u001b[38;5;241m=\u001b[39m funm\u001b[38;5;241m.\u001b[39mintegrand_funm_sym_logdet(tridiag_sym)\n\u001b[0;32m--> 620\u001b[0m x_like \u001b[38;5;241m=\u001b[39m \u001b[43mjnp\u001b[49m\u001b[38;5;241m.\u001b[39mones((npsr \u001b[38;5;241m*\u001b[39m ngp,), dtype\u001b[38;5;241m=\u001b[39m\u001b[38;5;28mfloat\u001b[39m)\n\u001b[1;32m    621\u001b[0m sampler \u001b[38;5;241m=\u001b[39m stochtrace\u001b[38;5;241m.\u001b[39msampler_normal(x_like, num\u001b[38;5;241m=\u001b[39m\u001b[38;5;241m1_000\u001b[39m)\n\u001b[1;32m    622\u001b[0m estimator \u001b[38;5;241m=\u001b[39m stochtrace\u001b[38;5;241m.\u001b[39mestimator(problem, sampler\u001b[38;5;241m=\u001b[39msampler)\n",
      "\u001b[0;31mNameError\u001b[0m: name 'jnp' is not defined"
     ]
    }
   ],
   "source": [
    "clogl = model.cglogL(1000)\n",
    "clogl(p0)"
   ]
  },
  {
   "cell_type": "code",
   "execution_count": null,
   "id": "c92380c3-8a59-459e-b038-677a4f6c52a1",
   "metadata": {},
   "outputs": [],
   "source": []
  },
  {
   "cell_type": "code",
   "execution_count": 776,
   "id": "94af4fb9-ce26-4789-9212-883379d68d7e",
   "metadata": {},
   "outputs": [],
   "source": [
    "import matfree\n",
    "from matfree import decomp, funm, stochtrace"
   ]
  },
  {
   "cell_type": "code",
   "execution_count": 777,
   "id": "2e0e71b4-24dd-4a1e-a81e-b4ce99c04de7",
   "metadata": {},
   "outputs": [
    {
     "ename": "NameError",
     "evalue": "name 'x_like' is not defined",
     "output_type": "error",
     "traceback": [
      "\u001b[0;31m---------------------------------------------------------------------------\u001b[0m",
      "\u001b[0;31mNameError\u001b[0m                                 Traceback (most recent call last)",
      "Cell \u001b[0;32mIn[777], line 4\u001b[0m\n\u001b[1;32m      2\u001b[0m tridiag_sym \u001b[38;5;241m=\u001b[39m decomp\u001b[38;5;241m.\u001b[39mtridiag_sym(num_matvecs)\n\u001b[1;32m      3\u001b[0m problem \u001b[38;5;241m=\u001b[39m funm\u001b[38;5;241m.\u001b[39mintegrand_funm_sym_logdet(tridiag_sym)\n\u001b[0;32m----> 4\u001b[0m sampler \u001b[38;5;241m=\u001b[39m stochtrace\u001b[38;5;241m.\u001b[39msampler_normal(\u001b[43mx_like\u001b[49m, num\u001b[38;5;241m=\u001b[39m\u001b[38;5;241m1_000\u001b[39m)\n\u001b[1;32m      5\u001b[0m estimator \u001b[38;5;241m=\u001b[39m stochtrace\u001b[38;5;241m.\u001b[39mestimator(problem, sampler\u001b[38;5;241m=\u001b[39msampler)\n\u001b[1;32m      6\u001b[0m logdet \u001b[38;5;241m=\u001b[39m estimator(matvec, jax\u001b[38;5;241m.\u001b[39mrandom\u001b[38;5;241m.\u001b[39mPRNGKey(\u001b[38;5;241m1\u001b[39m))\n",
      "\u001b[0;31mNameError\u001b[0m: name 'x_like' is not defined"
     ]
    }
   ],
   "source": [
    "num_matvecs = 3\n",
    "tridiag_sym = decomp.tridiag_sym(num_matvecs)\n",
    "problem = funm.integrand_funm_sym_logdet(tridiag_sym)\n",
    "x_like = jnp.ones((nrows,), dtype=float)\n",
    "sampler = stochtrace.sampler_normal(x_like, num=1_000)\n",
    "estimator = stochtrace.estimator(problem, sampler=sampler)\n",
    "logdet = estimator(matvec, jax.random.PRNGKey(1))\n",
    "print(logdet)"
   ]
  },
  {
   "cell_type": "code",
   "execution_count": 773,
   "id": "5301eda0-85d9-4925-a69e-049b1298d603",
   "metadata": {},
   "outputs": [
    {
     "ename": "AttributeError",
     "evalue": "module 'matfree' has no attribute 'slq'",
     "output_type": "error",
     "traceback": [
      "\u001b[0;31m---------------------------------------------------------------------------\u001b[0m",
      "\u001b[0;31mAttributeError\u001b[0m                            Traceback (most recent call last)",
      "Cell \u001b[0;32mIn[773], line 1\u001b[0m\n\u001b[0;32m----> 1\u001b[0m \u001b[43mmatfree\u001b[49m\u001b[38;5;241;43m.\u001b[39;49m\u001b[43mslq\u001b[49m\n",
      "\u001b[0;31mAttributeError\u001b[0m: module 'matfree' has no attribute 'slq'"
     ]
    }
   ],
   "source": [
    "matfree.slq"
   ]
  },
  {
   "cell_type": "code",
   "execution_count": 771,
   "id": "e643fe1e-fbe5-4389-9341-d520ffd0e24e",
   "metadata": {},
   "outputs": [
    {
     "ename": "ModuleNotFoundError",
     "evalue": "No module named 'matfree.trace_estimation'",
     "output_type": "error",
     "traceback": [
      "\u001b[0;31m---------------------------------------------------------------------------\u001b[0m",
      "\u001b[0;31mModuleNotFoundError\u001b[0m                       Traceback (most recent call last)",
      "Cell \u001b[0;32mIn[771], line 1\u001b[0m\n\u001b[0;32m----> 1\u001b[0m \u001b[38;5;28;01mfrom\u001b[39;00m\u001b[38;5;250m \u001b[39m\u001b[38;5;21;01mmatfree\u001b[39;00m\u001b[38;5;21;01m.\u001b[39;00m\u001b[38;5;21;01mtrace_estimation\u001b[39;00m\u001b[38;5;250m \u001b[39m\u001b[38;5;28;01mimport\u001b[39;00m slq\n",
      "\u001b[0;31mModuleNotFoundError\u001b[0m: No module named 'matfree.trace_estimation'"
     ]
    }
   ],
   "source": [
    "from matfree.trace_estimation import slq"
   ]
  },
  {
   "cell_type": "code",
   "execution_count": 765,
   "id": "e5dd1b3c-d93b-4494-b2c3-4f3eb6010bf4",
   "metadata": {},
   "outputs": [
    {
     "ename": "AttributeError",
     "evalue": "module 'matfree.stochtrace' has no attribute 'slq'",
     "output_type": "error",
     "traceback": [
      "\u001b[0;31m---------------------------------------------------------------------------\u001b[0m",
      "\u001b[0;31mAttributeError\u001b[0m                            Traceback (most recent call last)",
      "Cell \u001b[0;32mIn[765], line 2\u001b[0m\n\u001b[1;32m      1\u001b[0m clogl \u001b[38;5;241m=\u001b[39m model\u001b[38;5;241m.\u001b[39mcglogL(\u001b[38;5;241m1000\u001b[39m)\n\u001b[0;32m----> 2\u001b[0m \u001b[43mclogl\u001b[49m\u001b[43m(\u001b[49m\u001b[43mp0\u001b[49m\u001b[43m)\u001b[49m\n",
      "File \u001b[0;32m~/Documents/discovery/src/discovery/likelihood.py:633\u001b[0m, in \u001b[0;36mArrayLikelihood.cglogL.<locals>.loglike\u001b[0;34m(params)\u001b[0m\n\u001b[1;32m    630\u001b[0m cf \u001b[38;5;241m=\u001b[39m matrix\u001b[38;5;241m.\u001b[39mmatrix_factor(Pinv \u001b[38;5;241m+\u001b[39m matrix\u001b[38;5;241m.\u001b[39mjsp\u001b[38;5;241m.\u001b[39mlinalg\u001b[38;5;241m.\u001b[39mblock_diag(\u001b[38;5;241m*\u001b[39mterms[\u001b[38;5;241m2\u001b[39m]))\n\u001b[1;32m    632\u001b[0m sol \u001b[38;5;241m=\u001b[39m jaxopt\u001b[38;5;241m.\u001b[39mlinear_solve\u001b[38;5;241m.\u001b[39msolve_cg(matvec, FtNmy, maxiter\u001b[38;5;241m=\u001b[39mmaxiter)\n\u001b[0;32m--> 633\u001b[0m logdet \u001b[38;5;241m=\u001b[39m \u001b[43mmatfree\u001b[49m\u001b[38;5;241;43m.\u001b[39;49m\u001b[43mstochtrace\u001b[49m\u001b[38;5;241;43m.\u001b[39;49m\u001b[43mslq\u001b[49m(matvec1, n\u001b[38;5;241m=\u001b[39mnpsr \u001b[38;5;241m*\u001b[39m ngp, key\u001b[38;5;241m=\u001b[39mmatrix\u001b[38;5;241m.\u001b[39mjnprandom\u001b[38;5;241m.\u001b[39mPRNGKey(\u001b[38;5;241m0\u001b[39m), num_probes\u001b[38;5;241m=\u001b[39m\u001b[38;5;241m10\u001b[39m, num_lanczos\u001b[38;5;241m=\u001b[39m\u001b[38;5;241m20\u001b[39m)\n\u001b[1;32m    635\u001b[0m \u001b[38;5;28;01mreturn\u001b[39;00m p0 \u001b[38;5;241m+\u001b[39m \u001b[38;5;241m0.5\u001b[39m \u001b[38;5;241m*\u001b[39m (matrix\u001b[38;5;241m.\u001b[39mjnp\u001b[38;5;241m.\u001b[39msum(FtNmy \u001b[38;5;241m*\u001b[39m sol) \u001b[38;5;241m-\u001b[39m ldP \u001b[38;5;241m-\u001b[39m logdet)\n",
      "\u001b[0;31mAttributeError\u001b[0m: module 'matfree.stochtrace' has no attribute 'slq'"
     ]
    }
   ],
   "source": [
    "clogl = model.cglogL(1000)\n",
    "clogl(p0)"
   ]
  },
  {
   "cell_type": "code",
   "execution_count": 751,
   "id": "46a9d5a4-63ec-42d7-af2b-b433d60dd81f",
   "metadata": {},
   "outputs": [
    {
     "data": {
      "text/plain": [
       "Array(885734.59151144, dtype=float64)"
      ]
     },
     "execution_count": 751,
     "metadata": {},
     "output_type": "execute_result"
    }
   ],
   "source": [
    "clogl = jax.jit(model.cglogL(1000))\n",
    "clogl(p0)"
   ]
  },
  {
   "cell_type": "code",
   "execution_count": 752,
   "id": "d5dadd39-b42e-45b5-9e05-17eedcb6ded9",
   "metadata": {},
   "outputs": [
    {
     "name": "stdout",
     "output_type": "stream",
     "text": [
      "18.6 ms ± 48.4 μs per loop (mean ± std. dev. of 7 runs, 100 loops each)\n"
     ]
    }
   ],
   "source": [
    "%timeit clogl(p0)"
   ]
  },
  {
   "cell_type": "code",
   "execution_count": null,
   "id": "141eb788-cf12-4992-b3c6-f0b0ffbb90ac",
   "metadata": {},
   "outputs": [],
   "source": []
  },
  {
   "cell_type": "code",
   "execution_count": 122,
   "id": "15cac806-8806-4412-8381-b1c4d38afd28",
   "metadata": {},
   "outputs": [
    {
     "name": "stdout",
     "output_type": "stream",
     "text": [
      "CPU times: user 128 ms, sys: 231 ms, total: 359 ms\n",
      "Wall time: 64.8 ms\n"
     ]
    },
    {
     "data": {
      "text/plain": [
       "Array(3562941.71161567, dtype=float64)"
      ]
     },
     "execution_count": 122,
     "metadata": {},
     "output_type": "execute_result"
    }
   ],
   "source": [
    "%time logl(p0).block_until_ready()"
   ]
  },
  {
   "cell_type": "code",
   "execution_count": 125,
   "id": "8a94c00f-4c55-4482-b3a9-18f8961f4707",
   "metadata": {},
   "outputs": [
    {
     "name": "stdout",
     "output_type": "stream",
     "text": [
      "64.2 ms ± 472 μs per loop (mean ± std. dev. of 7 runs, 10 loops each)\n"
     ]
    }
   ],
   "source": [
    "%timeit logl(p0).block_until_ready()"
   ]
  },
  {
   "cell_type": "code",
   "execution_count": 127,
   "id": "012b6e6e-05e6-4a20-ad91-451a7292fd17",
   "metadata": {},
   "outputs": [],
   "source": [
    "jlogl = jax.jit(jax.value_and_grad(logl))"
   ]
  },
  {
   "cell_type": "code",
   "execution_count": 130,
   "id": "52235e9b-0f14-479f-9859-92390983700e",
   "metadata": {},
   "outputs": [
    {
     "name": "stdout",
     "output_type": "stream",
     "text": [
      "CPU times: user 740 ms, sys: 305 ms, total: 1.04 s\n",
      "Wall time: 145 ms\n"
     ]
    },
    {
     "data": {
      "text/plain": [
       "Array(3563151.53169641, dtype=float64)"
      ]
     },
     "execution_count": 130,
     "metadata": {},
     "output_type": "execute_result"
    }
   ],
   "source": [
    "%time jlogl(p0)[0].block_until_ready()"
   ]
  },
  {
   "cell_type": "code",
   "execution_count": 131,
   "id": "284beea0-cb26-41d9-86a9-6ec678fc123d",
   "metadata": {},
   "outputs": [
    {
     "name": "stdout",
     "output_type": "stream",
     "text": [
      "118 ms ± 383 μs per loop (mean ± std. dev. of 7 runs, 10 loops each)\n"
     ]
    }
   ],
   "source": [
    "%timeit jlogl(p0)[0].block_until_ready()"
   ]
  },
  {
   "cell_type": "code",
   "execution_count": null,
   "id": "9531c191-5c2a-46fb-9e2f-d3229e23ece8",
   "metadata": {},
   "outputs": [],
   "source": []
  },
  {
   "cell_type": "code",
   "execution_count": 534,
   "id": "f5a89a7d-71c3-4ad4-aab8-08a449fa50c1",
   "metadata": {},
   "outputs": [],
   "source": [
    "Phimat = model.globalgp.Phi.getN(p0)"
   ]
  },
  {
   "cell_type": "code",
   "execution_count": 535,
   "id": "46488188-b2d2-4530-8b16-5e8d7cd25fb4",
   "metadata": {},
   "outputs": [],
   "source": [
    "Phiinv, detPhi = model.globalgp.Phi_inv(p0)"
   ]
  },
  {
   "cell_type": "code",
   "execution_count": 536,
   "id": "5c2908f0-2b79-4831-887a-a64f44918cd6",
   "metadata": {},
   "outputs": [],
   "source": [
    "orfmat = ds.matrix.jnparray([[ds.hd_orf(p1.pos, p2.pos) for p1 in allpsrs[:5]] for p2 in allpsrs[:5]])\n",
    "invorf = jnp.linalg.inv(orfmat)"
   ]
  },
  {
   "cell_type": "code",
   "execution_count": 537,
   "id": "1de738c9-fcc3-483f-8bc5-77c687ccfcf9",
   "metadata": {},
   "outputs": [],
   "source": [
    "phi = Phimat[:61,:61]\n",
    "invphi = jnp.linalg.inv(phi)\n",
    "invPhi = jnp.block([[jnp.make2d(val * invphi) for val in row] for row in invorf])"
   ]
  },
  {
   "cell_type": "code",
   "execution_count": 538,
   "id": "0fafec86-5c2a-478e-9af1-50d6caaf3187",
   "metadata": {},
   "outputs": [],
   "source": [
    "Phiinv = jnp.linalg.inv(Phimat[:61*5,:61*5])"
   ]
  },
  {
   "cell_type": "code",
   "execution_count": 539,
   "id": "740c4897-970b-4213-871b-e52596416d53",
   "metadata": {},
   "outputs": [
    {
     "data": {
      "text/plain": [
       "Array(True, dtype=bool)"
      ]
     },
     "execution_count": 539,
     "metadata": {},
     "output_type": "execute_result"
    }
   ],
   "source": [
    "jnp.allclose(Phiinv, invPhi)"
   ]
  },
  {
   "cell_type": "code",
   "execution_count": null,
   "id": "558f784a-0fa2-40d9-a0df-626b85b3c07d",
   "metadata": {},
   "outputs": [],
   "source": []
  },
  {
   "cell_type": "code",
   "execution_count": 665,
   "id": "af420231-8543-46b1-8406-9d3d35e89883",
   "metadata": {},
   "outputs": [],
   "source": [
    "phicf = jax.scipy.linalg.cho_factor(phi)"
   ]
  },
  {
   "cell_type": "code",
   "execution_count": 666,
   "id": "e3da6b5f-6714-43a3-9c27-07cd6fa04f1e",
   "metadata": {},
   "outputs": [],
   "source": [
    "orfcf = jax.scipy.linalg.cho_factor(orfmat)"
   ]
  },
  {
   "cell_type": "code",
   "execution_count": 680,
   "id": "6c6084e8-d5fa-4d30-bf9e-65c12a2cdb9d",
   "metadata": {},
   "outputs": [],
   "source": [
    "def matvec3(orfcf, phicf, FtNmF):\n",
    "    def apply(FtNmy):\n",
    "        term1 = jax.scipy.linalg.cho_solve(orfcf, jax.scipy.linalg.cho_solve(phicf, FtNmy.T).T)\n",
    "        term2 = jnp.einsum('kij,kj->ki', FtNmF, FtNmy)\n",
    "        return term1 + term2\n",
    "\n",
    "    return apply"
   ]
  },
  {
   "cell_type": "code",
   "execution_count": 540,
   "id": "a6e44e51-5079-4321-94ea-f814b9badbd0",
   "metadata": {},
   "outputs": [],
   "source": [
    "FtNmy = np.random.randn(5*61).reshape(5,61)"
   ]
  },
  {
   "cell_type": "code",
   "execution_count": 541,
   "id": "706636e8-3246-4cda-86e6-4fa02826100f",
   "metadata": {},
   "outputs": [],
   "source": [
    "FtNmF = np.random.randn(5,61,61)\n",
    "FtNmF = 0.5 * (FtNmF + np.swapaxes(FtNmF, 1, 2))"
   ]
  },
  {
   "cell_type": "code",
   "execution_count": 533,
   "id": "ad90a274-16d0-4fed-bdd2-67b85d880b97",
   "metadata": {},
   "outputs": [],
   "source": [
    "# invphi = 0.5 * (invphi + invphi.T)\n",
    "# invorf = 0.5 * (invorf + invorf.T)"
   ]
  },
  {
   "cell_type": "code",
   "execution_count": 569,
   "id": "7f133c58-45cc-496f-88f8-a567adba9e1d",
   "metadata": {},
   "outputs": [],
   "source": [
    "def matvec(invorf, invphi, FtNmF):\n",
    "    def apply(FtNmy):\n",
    "        # return jnp.einsum('lk,ki->li', invorf, jnp.einsum('ij,kj->ki', invphi, FtNmy))\n",
    "        # return invorf @ jnp.einsum('ij,kj->ki', invphi, FtNmy)\n",
    "        # return jnp.einsum('lk,ij,kj->li', invorf, invphi, FtNmy)\n",
    "        return jnp.einsum('kl,ij,lj->ki', invorf, invphi, FtNmy) + jnp.einsum('kij,kj->ki', FtNmF, FtNmy)\n",
    "\n",
    "    return apply"
   ]
  },
  {
   "cell_type": "code",
   "execution_count": 632,
   "id": "3d8754c7-58cf-4c88-a514-c3c900f54bf1",
   "metadata": {},
   "outputs": [],
   "source": [
    "def matvec2(invorf, invphi, FtNmF):\n",
    "    @jax.jit\n",
    "    def apply(FtNmy):\n",
    "        return invorf @ FtNmy @ invphi.T + jnp.einsum('kij,kj->ki', FtNmF, FtNmy)\n",
    "    \n",
    "    return apply"
   ]
  },
  {
   "cell_type": "code",
   "execution_count": 690,
   "id": "0c5cc2c9-48f9-40fc-a50c-ca886ae6e0d9",
   "metadata": {},
   "outputs": [
    {
     "data": {
      "text/plain": [
       "Array([ 5.46434395e+19, -2.09103986e+20,  3.76796681e+20, -4.71736817e+20,\n",
       "        5.07572906e+20, -5.06365776e+20,  4.67263378e+20, -3.77637864e+20,\n",
       "        2.43922535e+20, -1.23418910e+20], dtype=float64)"
      ]
     },
     "execution_count": 690,
     "metadata": {},
     "output_type": "execute_result"
    }
   ],
   "source": [
    "matvec3(orfcf, phicf, FtNmF)(FtNmy)[1,:10]"
   ]
  },
  {
   "cell_type": "code",
   "execution_count": 689,
   "id": "2fd591c3-8c30-4035-a754-936a1bce9f7c",
   "metadata": {},
   "outputs": [
    {
     "data": {
      "text/plain": [
       "Array([ 5.46434396e+19, -2.09103986e+20,  3.76796681e+20, -4.71736817e+20,\n",
       "        5.07572906e+20, -5.06365776e+20,  4.67263379e+20, -3.77637865e+20,\n",
       "        2.43922535e+20, -1.23418911e+20], dtype=float64)"
      ]
     },
     "execution_count": 689,
     "metadata": {},
     "output_type": "execute_result"
    }
   ],
   "source": [
    "matvec2(invorf, invphi, FtNmF)(FtNmy)[1,:10]"
   ]
  },
  {
   "cell_type": "code",
   "execution_count": 688,
   "id": "388c7112-8c82-47f3-8737-a9c2dfc98ce7",
   "metadata": {},
   "outputs": [
    {
     "data": {
      "text/plain": [
       "Array([ 5.46434396e+19, -2.09103986e+20,  3.76796681e+20, -4.71736817e+20,\n",
       "        5.07572906e+20, -5.06365776e+20,  4.67263379e+20, -3.77637865e+20,\n",
       "        2.43922535e+20, -1.23418911e+20], dtype=float64)"
      ]
     },
     "execution_count": 688,
     "metadata": {},
     "output_type": "execute_result"
    }
   ],
   "source": [
    "matvec(invorf, invphi, FtNmF)(FtNmy)[1,:10]"
   ]
  },
  {
   "cell_type": "code",
   "execution_count": 694,
   "id": "c5fa4b70-1ad4-4ff1-82e4-0a4830fabf7b",
   "metadata": {},
   "outputs": [],
   "source": [
    "sol = jaxopt.linear_solve.solve_cg(matvec3(orfcf, phicf, FtNmF), FtNmy, maxiter=20000)"
   ]
  },
  {
   "cell_type": "code",
   "execution_count": 698,
   "id": "14e35c8b-04d6-464f-af5d-4317d3083223",
   "metadata": {},
   "outputs": [
    {
     "data": {
      "text/plain": [
       "Array(1.96560467e-12, dtype=float64)"
      ]
     },
     "execution_count": 698,
     "metadata": {},
     "output_type": "execute_result"
    }
   ],
   "source": [
    "jnp.sum(sol * FtNmy)"
   ]
  },
  {
   "cell_type": "code",
   "execution_count": null,
   "id": "a94dda02-ca05-4298-b7aa-d479d63ae0b0",
   "metadata": {},
   "outputs": [],
   "source": []
  },
  {
   "cell_type": "code",
   "execution_count": 589,
   "id": "d309859d-305f-40f7-9f7d-a5657ad831e6",
   "metadata": {},
   "outputs": [],
   "source": [
    "sigma = invPhi + jax.scipy.linalg.block_diag(*FtNmF)"
   ]
  },
  {
   "cell_type": "code",
   "execution_count": 592,
   "id": "7f03c532-f38c-43f8-be04-17f12a7fa2bc",
   "metadata": {},
   "outputs": [],
   "source": [
    "Y = FtNmy.reshape(5 * 61)"
   ]
  },
  {
   "cell_type": "code",
   "execution_count": 593,
   "id": "f21b4df6-a83b-400d-ab99-a97a376157b3",
   "metadata": {},
   "outputs": [
    {
     "data": {
      "text/plain": [
       "Array([   -512.,   -8192.,    8192.,  -28672.,  -26624.,  -16384.,\n",
       "        -20480.,  -16384.,  -36864.,  180224.,   -4096.,  -12288.,\n",
       "        -14336.,  -61440., -251904.,    8192.,  114688.,  262144.,\n",
       "        -16384.,  -49152.,   57344.,   24576.,   16384.,   57344.,\n",
       "        -65536.,   49152., -163840.,  327680.,  131072.,  -49152.,\n",
       "         57344.,  -89088.,   -4096.,  -61440.,   16384.,  -98304.,\n",
       "        -65536.,   32768., -327680.,   32768.,  -32768., -114688.,\n",
       "        -73728.,       0.,   18432.,  -26624.,  168960.,  -49152.,\n",
       "             0.,  -98304.,  -65536., -229376.,  196608.,  -65536.,\n",
       "        327680.,   65536., -131072.,   65536.,       0.,  114688.,\n",
       "         16384.,   -8192.,       0.,  131072., -393216.,  196608.,\n",
       "        196608.,  -65536.,       0.,   65536.,   32768.,   32768.,\n",
       "        -16384.,  -65536., -163840.,  -32768.,   53248., -196608.,\n",
       "        -98304., -196608.,  -98304.,   65536.,  -65536.,  -32768.,\n",
       "        -32768.,  -16384.,   49152.,       0.,  131072.,       0.,\n",
       "       -180224.,    8192.,       0.,   98304.,  131072., -131072.,\n",
       "         98304.,   98304.,  -65536.,   65536., -196608.,  -32768.,\n",
       "         65536.,  -65536.,       0.,   65536.,   49152.,   40960.,\n",
       "        -40960.,   32768.,   65536.,   49152.,   32768.,  262144.,\n",
       "         65536.,  131072.,  163840.,   32768.,  -65536.,  -32768.,\n",
       "         16384.,   -4096.,  -16384.,   98304., -327680.,  131072.,\n",
       "             0.,       0.,  262144.,  196608., -131072.,   65536.,\n",
       "        131072.,   65536., -131072.,       0.,  -16384.,  -49152.,\n",
       "       -294912., -131072., -262144., -131072.,  -32768., -131072.,\n",
       "        233472.,  131072.,  180224.,  -49152.,   61440.,   61440.,\n",
       "             0.,   90112.,  -65536.,  -81920.,  196608.,  -65536.,\n",
       "             0.,       0.,  -16384.,   65536.,  -16384.,   65536.,\n",
       "        -32768.,  -98304.,  -32768.,   32768., -131072.,  -32768.,\n",
       "         65536.,   16384.,       0.,   65536., -196608.,       0.,\n",
       "       -196608.,  -65536., -131072.,  -98304.,   98304.,   49152.,\n",
       "             0.,  -16384.,   -4096.,    4096.,  -40960.,    8192.,\n",
       "             0.,  -45056.,   16384.,   16384.,   16384.,   16384.,\n",
       "         32768.,  -32768.,  -98304.,  196608.,  131072.,   32768.,\n",
       "       -147456., -131072.,   40960.,   24576.,   57344.,   45056.,\n",
       "         81920.,       0.,   43008.,    6144.,   16384.,  -16384.,\n",
       "        -81920.,  -65536.,   32768.,       0.,  -32768., -131072.,\n",
       "         73728., -106496.,  122880.,  -53248.,   34816.,    4096.,\n",
       "             0.,  -98304.,   65536.,  -65536.,  -65536.,  131072.,\n",
       "        -32768., -131072.,  -13760.,  -49152.,  -20480.,   32768.,\n",
       "        -98304.,   65536.,   98304.,   32768.,       0.,  -16384.,\n",
       "        -16384.,   13312.,   16384.,   -3072.,   12288.,   16384.,\n",
       "        -65536.,  -98304.,       0.,   98304.,   16384.,  -32768.,\n",
       "         98304.,       0., -131072., -262144.,       0.,  -16384.,\n",
       "          9984.,   32768.,   32768.,   65536.,  -98304., -163840.,\n",
       "         65536.,   16384.,    8192.,   14336., -106496.,  -57344.,\n",
       "         -8192.,   32768.,  -65536.,       0.,   65536.,   65536.,\n",
       "         65536.,  147456.,  114688.,  -73728.,   24576.,  -40960.,\n",
       "         24576.,  -24576.,       0.,  -65536., -131072.,  196608.,\n",
       "             0.,  -32768.,  -65536.,   -8192.,  -49152.,   22144.,\n",
       "         16384.,   16384.,   32768.,   16384.,  -81920.,       0.,\n",
       "             0.,   32768.,  -16384.,       0.,       0.], dtype=float64)"
      ]
     },
     "execution_count": 593,
     "metadata": {},
     "output_type": "execute_result"
    }
   ],
   "source": [
    "sigma @ Y - matvec2(invorf, invphi, FtNmF)(FtNmy).reshape(5 * 61)"
   ]
  },
  {
   "cell_type": "code",
   "execution_count": 548,
   "id": "6638aeb6-3662-41dd-94c4-36c3631d624b",
   "metadata": {},
   "outputs": [
    {
     "name": "stdout",
     "output_type": "stream",
     "text": [
      "110 μs ± 414 ns per loop (mean ± std. dev. of 7 runs, 10,000 loops each)\n"
     ]
    }
   ],
   "source": [
    "m1 = matvec(invorf, invphi, FtNmF)\n",
    "%timeit m1(FtNmy)"
   ]
  },
  {
   "cell_type": "code",
   "execution_count": 648,
   "id": "6eca9a8f-bbd5-4338-ab57-ea571b02d3af",
   "metadata": {},
   "outputs": [
    {
     "name": "stdout",
     "output_type": "stream",
     "text": [
      "7.37 μs ± 52.7 ns per loop (mean ± std. dev. of 7 runs, 100,000 loops each)\n"
     ]
    }
   ],
   "source": [
    "m2 = matvec2(invorf, invphi, FtNmF)\n",
    "m2(FtNmy)\n",
    "%timeit m2(FtNmy)"
   ]
  },
  {
   "cell_type": "code",
   "execution_count": 646,
   "id": "1b3e95b5-d903-4ed3-9511-7dcac8a18de1",
   "metadata": {},
   "outputs": [
    {
     "name": "stdout",
     "output_type": "stream",
     "text": [
      "CPU times: user 5.82 ms, sys: 19 ms, total: 24.9 ms\n",
      "Wall time: 8.52 ms\n"
     ]
    },
    {
     "data": {
      "text/plain": [
       "Array([ 3.10286097e-15, -2.03843897e-15, -7.26843340e-15, -1.25109174e-14,\n",
       "       -1.76868895e-14, -2.27157693e-14, -2.75164852e-14, -3.20081264e-14,\n",
       "       -3.61111847e-14, -3.97497703e-14, -4.28538802e-14, -4.53618808e-14,\n",
       "       -4.72231515e-14, -4.84000349e-14, -4.88685748e-14, -4.86180199e-14,\n",
       "       -4.76499189e-14, -4.59776898e-14, -4.36263846e-14, -4.06321279e-14,\n",
       "       -3.70409500e-14, -3.29070795e-14, -2.82912863e-14, -2.32588248e-14,\n",
       "       -1.78780767e-14, -1.22209762e-14, -6.36418745e-15, -3.89649274e-16,\n",
       "        5.61607385e-15,  1.15631918e-14,  1.73592404e-14,  2.29104204e-14,\n",
       "        2.81240402e-14,  3.29113564e-14,  3.71899900e-14,  4.08862219e-14,\n",
       "        4.39373705e-14,  4.62935095e-14,  4.79192655e-14,  4.87955049e-14,\n",
       "        4.89193060e-14,  4.83023008e-14,  4.69677785e-14,  4.49481111e-14,\n",
       "        4.22846513e-14,  3.90285607e-14,  3.52406425e-14,  3.09908660e-14,\n",
       "        2.63580724e-14,  2.14288496e-14], dtype=float64)"
      ]
     },
     "execution_count": 646,
     "metadata": {},
     "output_type": "execute_result"
    }
   ],
   "source": [
    "%time jnp.linalg.solve(sigma, Y)[:50].block_until_ready()"
   ]
  },
  {
   "cell_type": "code",
   "execution_count": 652,
   "id": "4f8d6d79-37b7-4474-b55b-ac95135f4d0d",
   "metadata": {},
   "outputs": [
    {
     "data": {
      "text/plain": [
       "<function jaxopt._src.linear_solve.solve_normal_cg(matvec: Callable, b: Any, ridge: Optional[float] = None, init: Optional[Any] = None, **kwargs) -> Any>"
      ]
     },
     "execution_count": 652,
     "metadata": {},
     "output_type": "execute_result"
    }
   ],
   "source": [
    "import jaxopt\n",
    "jaxopt.linear_solve.solve_normal_cg"
   ]
  },
  {
   "cell_type": "code",
   "execution_count": 663,
   "id": "03b9b4fa-9b7f-4c85-a724-70af7a79283d",
   "metadata": {},
   "outputs": [
    {
     "name": "stdout",
     "output_type": "stream",
     "text": [
      "CPU times: user 159 ms, sys: 11.7 ms, total: 171 ms\n",
      "Wall time: 168 ms\n"
     ]
    },
    {
     "data": {
      "text/plain": [
       "Array([[ 3.10090580e-15, -2.04056289e-15, -7.27070214e-15,\n",
       "        -1.25133040e-14, -1.76893646e-14, -2.27183012e-14,\n",
       "        -2.75190408e-14, -3.20106714e-14, -3.61136843e-14,\n",
       "        -3.97521888e-14, -4.28561819e-14, -4.53640305e-14,\n",
       "        -4.72251152e-14, -4.84017801e-14, -4.88700722e-14,\n",
       "        -4.86192435e-14, -4.76508472e-14, -4.59783060e-14,\n",
       "        -4.36266770e-14, -4.06320899e-14, -3.70405803e-14,\n",
       "        -3.29063817e-14, -2.82902690e-14, -2.32575015e-14,\n",
       "        -1.78764656e-14, -1.22190999e-14, -6.36207295e-15,\n",
       "        -3.87327124e-16,  5.61856999e-15,  1.15658258e-14,\n",
       "         1.73619748e-14,  2.29132165e-14,  2.81268590e-14,\n",
       "         3.29141587e-14,  3.71927369e-14,  4.08888750e-14,\n",
       "         4.39398927e-14,  4.62958656e-14,  4.79214229e-14,\n",
       "         4.87974345e-14,  4.89209824e-14,  4.83037029e-14,\n",
       "         4.69688900e-14,  4.49489201e-14,  4.22851505e-14,\n",
       "         3.90287472e-14,  3.52405177e-14,  3.09904355e-14,\n",
       "         2.63573460e-14,  2.14278411e-14,  1.62936744e-14,\n",
       "         1.10486879e-14,  5.78562891e-15,  5.93199371e-16,\n",
       "        -4.44615166e-15, -9.25764249e-15, -1.37752266e-14,\n",
       "        -1.79429004e-14, -2.17154702e-14, -2.50586790e-14,\n",
       "        -2.79484443e-14],\n",
       "       [-4.42303234e-15, -4.73356948e-15, -4.95850655e-15,\n",
       "        -5.09700820e-15, -5.15157915e-15, -5.12677526e-15,\n",
       "        -5.02798478e-15, -4.86016639e-15, -4.62762575e-15,\n",
       "        -4.33469330e-15, -3.98536878e-15, -3.58271103e-15,\n",
       "        -3.12911448e-15, -2.62656882e-15, -2.07686350e-15,\n",
       "        -1.48169709e-15, -8.43000952e-16, -1.64087529e-16,\n",
       "         5.49287598e-16,  1.28818192e-15,  2.03988103e-15,\n",
       "         2.78826336e-15,  3.51543078e-15,  4.20410830e-15,\n",
       "         4.83902894e-15,  5.40688639e-15,  5.89535432e-15,\n",
       "         6.29262539e-15,  6.58813331e-15,  6.77334247e-15,\n",
       "         6.84090209e-15,  6.78416657e-15,  6.59748408e-15,\n",
       "         6.27650021e-15,  5.81829114e-15,  5.22256276e-15,\n",
       "         4.49329825e-15,  3.63962548e-15,  2.67720146e-15,\n",
       "         1.62898791e-15,  5.23688317e-16, -6.07287510e-16,\n",
       "        -1.73294254e-15, -2.82484091e-15, -3.85676095e-15,\n",
       "        -4.80367450e-15, -5.64186978e-15, -6.34935564e-15,\n",
       "        -6.90624086e-15, -7.29605669e-15, -7.50756750e-15,\n",
       "        -7.53585030e-15, -7.38341265e-15, -7.06067599e-15,\n",
       "        -6.58444783e-15, -5.97531239e-15, -5.25614353e-15,\n",
       "        -4.45114286e-15, -3.58507085e-15, -2.68294132e-15,\n",
       "        -1.76919569e-15],\n",
       "       [-4.02414408e-14, -3.99739459e-14, -3.91535346e-14,\n",
       "        -3.77811127e-14, -3.58686446e-14, -3.34391935e-14,\n",
       "        -3.05260958e-14, -2.71705145e-14, -2.34195925e-14,\n",
       "        -1.93255120e-14, -1.49442008e-14, -1.03340433e-14,\n",
       "        -5.55563542e-15, -6.71887744e-16,  4.25222747e-15,\n",
       "         9.15053825e-15,  1.39560596e-14,  1.86014032e-14,\n",
       "         2.30198277e-14,  2.71462971e-14,  3.09190592e-14,\n",
       "         3.42818343e-14,  3.71864998e-14,  3.95954037e-14,\n",
       "         4.14822144e-14,  4.28308912e-14,  4.36333677e-14,\n",
       "         4.38881289e-14,  4.36000547e-14,  4.27801770e-14,\n",
       "         4.14437234e-14,  3.96083834e-14,  3.72942069e-14,\n",
       "         3.45238606e-14,  3.13221967e-14,  2.77168668e-14,\n",
       "         2.37396826e-14,  1.94276981e-14,  1.48252053e-14,\n",
       "         9.98566647e-15,  4.97150722e-15, -1.48168659e-16,\n",
       "        -5.30088610e-15, -1.04137258e-14, -1.54143573e-14,\n",
       "        -2.02314776e-14, -2.47957518e-14, -2.90400344e-14,\n",
       "        -3.28995652e-14, -3.63132891e-14, -3.92257497e-14,\n",
       "        -4.15889010e-14, -4.33643565e-14, -4.45253302e-14,\n",
       "        -4.50567959e-14, -4.49538443e-14, -4.42206756e-14,\n",
       "        -4.28705998e-14, -4.09269987e-14, -3.84245973e-14,\n",
       "        -3.54093218e-14],\n",
       "       [ 2.43703177e-14,  2.50939558e-14,  2.55043402e-14,\n",
       "         2.55900524e-14,  2.53459071e-14,  2.47725802e-14,\n",
       "         2.38764072e-14,  2.26692780e-14,  2.11688417e-14,\n",
       "         1.93981323e-14,  1.73847285e-14,  1.51594548e-14,\n",
       "         1.27543289e-14,  1.02012971e-14,  7.53081766e-15,\n",
       "         4.77036660e-15,  1.94407148e-15, -9.27304117e-16,\n",
       "        -3.82547719e-15, -6.73282750e-15, -9.63068309e-15,\n",
       "        -1.24983417e-14, -1.53125119e-14, -1.80469079e-14,\n",
       "        -2.06706977e-14, -2.31468450e-14, -2.54317708e-14,\n",
       "        -2.74764557e-14, -2.92284120e-14, -3.06337256e-14,\n",
       "        -3.16395419e-14, -3.21971439e-14, -3.22652401e-14,\n",
       "        -3.18136349e-14, -3.08263927e-14, -2.93037632e-14,\n",
       "        -2.72627035e-14, -2.47359717e-14, -2.17701138e-14,\n",
       "        -1.84228596e-14, -1.47601853e-14, -1.08534946e-14,\n",
       "        -6.77732762e-15, -2.60753474e-15,  1.57990174e-15,\n",
       "         5.70962995e-15,  9.70815721e-15,  1.35062917e-14,\n",
       "         1.70417918e-14,  2.02618994e-14,  2.31247168e-14,\n",
       "         2.55982299e-14,  2.76589435e-14,  2.92910946e-14,\n",
       "         3.04857198e-14,  3.12395130e-14,  3.15534718e-14,\n",
       "         3.14325878e-14,  3.08863220e-14,  2.99294644e-14,\n",
       "         2.85829001e-14],\n",
       "       [ 2.66695379e-14,  3.19922463e-14,  3.68817404e-14,\n",
       "         4.12683312e-14,  4.50950383e-14,  4.83186911e-14,\n",
       "         5.09100913e-14,  5.28529142e-14,  5.41426004e-14,\n",
       "         5.47846768e-14,  5.47924480e-14,  5.41848621e-14,\n",
       "         5.29843071e-14,  5.12153487e-14,  4.89028597e-14,\n",
       "         4.60701851e-14,  4.27387224e-14,  3.89281339e-14,\n",
       "         3.46577408e-14,  2.99492817e-14,  2.48298358e-14,\n",
       "         1.93340258e-14,  1.35059425e-14,  7.39996526e-15,\n",
       "         1.08164782e-15, -5.37139923e-15, -1.18699688e-14,\n",
       "        -1.83156843e-14, -2.46047919e-14, -3.06313765e-14,\n",
       "        -3.62901375e-14, -4.14799646e-14, -4.61082142e-14,\n",
       "        -5.00946516e-14, -5.33734100e-14, -5.58944783e-14,\n",
       "        -5.76247437e-14, -5.85472322e-14, -5.86596213e-14,\n",
       "        -5.79730447e-14, -5.65105073e-14, -5.43046294e-14,\n",
       "        -5.13963370e-14, -4.78348142e-14, -4.36780015e-14,\n",
       "        -3.89929124e-14, -3.38544252e-14, -2.83428928e-14,\n",
       "        -2.25413701e-14, -1.65326854e-14, -1.03974028e-14,\n",
       "        -4.21339495e-15,  1.94385796e-15,  8.00122884e-15,\n",
       "         1.38884061e-14,  1.95378887e-14,  2.48839480e-14,\n",
       "         2.98625573e-14,  3.44129523e-14,  3.84799759e-14,\n",
       "         4.20162333e-14]], dtype=float64)"
      ]
     },
     "execution_count": 663,
     "metadata": {},
     "output_type": "execute_result"
    }
   ],
   "source": [
    "%time jaxopt.linear_solve.solve_cg(m2, FtNmy, maxiter=20000).block_until_ready()"
   ]
  },
  {
   "cell_type": "code",
   "execution_count": 269,
   "id": "f6ce457f-a01a-443c-998c-05e07dfe2ae8",
   "metadata": {},
   "outputs": [],
   "source": [
    "from jaxopt.linear_solve import solve_cg"
   ]
  },
  {
   "cell_type": "code",
   "execution_count": 385,
   "id": "dd659597-2eaa-4cd2-851c-fd6003378fde",
   "metadata": {},
   "outputs": [
    {
     "data": {
      "text/plain": [
       "Array([-16384.,  -8192.,  -4096.,  -2048.,  -1024.,      0.,    512.,\n",
       "         1024.,   2048.,   4096.,   8192.], dtype=float64)"
      ]
     },
     "execution_count": 385,
     "metadata": {},
     "output_type": "execute_result"
    }
   ],
   "source": [
    "jnp.unique((matvec(invorf, invphi, FtNmF)(FtNmy) - matvec2(invorf, invphi, FtNmF)(FtNmy)).reshape(30*61))"
   ]
  },
  {
   "cell_type": "code",
   "execution_count": 397,
   "id": "59f9b358-cb81-470e-95c9-74def1e46916",
   "metadata": {},
   "outputs": [
    {
     "name": "stdout",
     "output_type": "stream",
     "text": [
      "446 ms ± 2.32 ms per loop (mean ± std. dev. of 7 runs, 10 loops each)\n"
     ]
    }
   ],
   "source": [
    "%timeit solve_cg(matvec2(invorf, invphi, FtNmF), FtNmy).reshape(30 * 61)"
   ]
  },
  {
   "cell_type": "code",
   "execution_count": 391,
   "id": "ff4f1fa1-6008-476d-9a0f-db3f3b36371e",
   "metadata": {},
   "outputs": [
    {
     "data": {
      "text/plain": [
       "Array([   8192.,  212992., -778240., ...,  -32768.,       0.,   -4096.],      dtype=float64)"
      ]
     },
     "execution_count": 391,
     "metadata": {},
     "output_type": "execute_result"
    }
   ],
   "source": [
    "matvec(invorf, invphi, FtNmF)(FtNmy).reshape(30 * 61) - (invPhi + jax.scipy.linalg.block_diag(*FtNmF)) @ FtNmy.reshape(30 * 61)"
   ]
  },
  {
   "cell_type": "code",
   "execution_count": 295,
   "id": "e0c5ea60-45e8-4498-adde-54978f2e85b9",
   "metadata": {},
   "outputs": [
    {
     "data": {
      "text/plain": [
       "Array([ 2.34771261e+19, -7.11230689e+19,  7.48679396e+19, ...,\n",
       "       -5.61964122e+19,  3.89658002e+19, -1.14413039e+19], dtype=float64)"
      ]
     },
     "execution_count": 295,
     "metadata": {},
     "output_type": "execute_result"
    }
   ],
   "source": [
    "(invPhi + jax.scipy.linalg.block_diag(*FtNmF)) @ FtNmy.reshape(30 * 61)"
   ]
  },
  {
   "cell_type": "code",
   "execution_count": 398,
   "id": "f7ed7151-fc9c-4185-8b6d-9f5f8d8cca62",
   "metadata": {},
   "outputs": [
    {
     "name": "stdout",
     "output_type": "stream",
     "text": [
      "38.4 ms ± 454 μs per loop (mean ± std. dev. of 7 runs, 100 loops each)\n"
     ]
    }
   ],
   "source": [
    "%timeit cf = jax.scipy.linalg.cho_factor(invPhi + jax.scipy.linalg.block_diag(*FtNmF))"
   ]
  },
  {
   "cell_type": "code",
   "execution_count": 399,
   "id": "d15630b9-43a0-4a1d-83ee-64468b59f385",
   "metadata": {},
   "outputs": [
    {
     "name": "stdout",
     "output_type": "stream",
     "text": [
      "3.88 ms ± 101 μs per loop (mean ± std. dev. of 7 runs, 100 loops each)\n"
     ]
    }
   ],
   "source": [
    "%timeit jax.scipy.linalg.cho_solve(cf, FtNmy.reshape(30 * 61))"
   ]
  },
  {
   "cell_type": "code",
   "execution_count": 218,
   "id": "7f14e8dd-4846-4340-a621-26dd221634be",
   "metadata": {},
   "outputs": [
    {
     "data": {
      "text/plain": [
       "(30, 61)"
      ]
     },
     "execution_count": 218,
     "metadata": {},
     "output_type": "execute_result"
    }
   ],
   "source": [
    "jnp.einsum('ij,ki->kj', invphi, FtNmy)"
   ]
  },
  {
   "cell_type": "code",
   "execution_count": null,
   "id": "ad3c3851-fcd3-4cff-9634-b3006c010f78",
   "metadata": {},
   "outputs": [],
   "source": []
  }
 ],
 "metadata": {
  "kernelspec": {
   "display_name": "Python 3 (ipykernel)",
   "language": "python",
   "name": "python3"
  },
  "language_info": {
   "codemirror_mode": {
    "name": "ipython",
    "version": 3
   },
   "file_extension": ".py",
   "mimetype": "text/x-python",
   "name": "python",
   "nbconvert_exporter": "python",
   "pygments_lexer": "ipython3",
   "version": "3.13.1"
  }
 },
 "nbformat": 4,
 "nbformat_minor": 5
}
