{
 "cells": [
  {
   "cell_type": "markdown",
   "id": "4c423324-39e4-43ac-baad-e8425f9bcdc9",
   "metadata": {},
   "source": [
    "## Optimal statistic with discovery"
   ]
  },
  {
   "cell_type": "code",
   "execution_count": 1,
   "id": "c6454b33-412b-4ec9-9570-d1953caec6c4",
   "metadata": {},
   "outputs": [],
   "source": [
    "import sys\n",
    "import os\n",
    "import glob\n",
    "\n",
    "import tqdm"
   ]
  },
  {
   "cell_type": "code",
   "execution_count": 2,
   "id": "296177d2-81d9-4515-92d1-63ed47b103e1",
   "metadata": {},
   "outputs": [],
   "source": [
    "import numpy as np\n",
    "import pandas as pd\n",
    "import matplotlib.pyplot as pp\n",
    "\n",
    "%matplotlib inline"
   ]
  },
  {
   "cell_type": "code",
   "execution_count": 3,
   "id": "24fb3bee-f511-40f7-919f-614d468106a5",
   "metadata": {},
   "outputs": [],
   "source": [
    "import jax\n",
    "jax.config.update('jax_enable_x64', True)\n",
    "\n",
    "import jax.random\n",
    "import jax.numpy as jnp"
   ]
  },
  {
   "cell_type": "code",
   "execution_count": 4,
   "id": "dc8632d7-04af-42a4-a856-35517be1677b",
   "metadata": {},
   "outputs": [],
   "source": [
    "import discovery as ds"
   ]
  },
  {
   "cell_type": "markdown",
   "id": "d3bd4b98-7b56-445a-b50d-9b317f3df4d8",
   "metadata": {},
   "source": [
    "Read nanograv pulsars"
   ]
  },
  {
   "cell_type": "code",
   "execution_count": 5,
   "id": "0a1a5ab1-9254-426c-970e-06da0f78aac4",
   "metadata": {},
   "outputs": [],
   "source": [
    "allpsrs = [ds.Pulsar.read_feather(psrfile) for psrfile in sorted(glob.glob('../data/*-[JB]*.feather'))]"
   ]
  },
  {
   "cell_type": "markdown",
   "id": "587db81d-b3f3-4259-b025-d8b6e231bdb9",
   "metadata": {},
   "source": [
    "Run with fewer pulsars"
   ]
  },
  {
   "cell_type": "code",
   "execution_count": 6,
   "id": "39192995-c7fc-43a3-a2b0-a3312870426b",
   "metadata": {},
   "outputs": [],
   "source": [
    "psrs = allpsrs[:5]"
   ]
  },
  {
   "cell_type": "markdown",
   "id": "51078118-ddef-4f83-8876-9c00219213b6",
   "metadata": {},
   "source": [
    "Set up GlobalLikelihood object. The GP named 'gw' will be used to build the optimal statistic; everything else will be included in individual pulsar noise. This GW object should be identical for every pulsar, and have common parameters only."
   ]
  },
  {
   "cell_type": "code",
   "execution_count": 259,
   "id": "996317c4-703a-421e-abd5-f2cbe6550b6a",
   "metadata": {},
   "outputs": [],
   "source": [
    "Tspan = ds.getspan(psrs)\n",
    "t0 = ds.getstart(psrs)\n",
    "\n",
    "gbl = ds.GlobalLikelihood([ds.PulsarLikelihood([psr.residuals,\n",
    "                                                ds.makenoise_measurement(psr, psr.noisedict),\n",
    "                                                ds.makegp_ecorr(psr, psr.noisedict),\n",
    "                                                ds.makegp_timing(psr, svd=True, variable=True),\n",
    "                                                ds.makegp_fftcov(psr, ds.powerlaw, 61, oversample=6, T=Tspan, name='red_noise'),\n",
    "                                                ds.makegp_fftcov(psr, ds.brokenpowerlaw, 61, oversample=6, T=Tspan, t0=t0,\n",
    "                                                                 common=['gw_log10_A', 'gw_gamma', 'gw_log10_fb'], name='gw')\n",
    "                                                ]) for psr in psrs])"
   ]
  },
  {
   "cell_type": "markdown",
   "id": "8f7666c0-2754-46b0-bb16-49569f350f81",
   "metadata": {},
   "source": [
    "### Basic OS"
   ]
  },
  {
   "cell_type": "markdown",
   "id": "9bf5fab0-65a6-4702-b4ee-b7295787ca64",
   "metadata": {},
   "source": [
    "Make OS object"
   ]
  },
  {
   "cell_type": "code",
   "execution_count": 9,
   "id": "2eecd9b0-df92-4cd9-9c94-a20190990b4c",
   "metadata": {},
   "outputs": [
    {
     "name": "stdout",
     "output_type": "stream",
     "text": [
      "CPU times: user 44.8 ms, sys: 2.52 ms, total: 47.3 ms\n",
      "Wall time: 45.9 ms\n"
     ]
    }
   ],
   "source": [
    "%time os = ds.OS(gbl)"
   ]
  },
  {
   "cell_type": "markdown",
   "id": "008f35b5-9930-4b98-a0f8-ba8d03065462",
   "metadata": {},
   "source": [
    "Get a random set of parameters, force gamma to 13/3"
   ]
  },
  {
   "cell_type": "code",
   "execution_count": 10,
   "id": "d2a13f36-3e5e-424b-a751-57a8a6add516",
   "metadata": {},
   "outputs": [],
   "source": [
    "p0 = ds.sample_uniform(os.params, priordict={'gw_(.*_)?gamma': [13/3,13/3]})"
   ]
  },
  {
   "cell_type": "markdown",
   "id": "5023f127-76cd-4795-965d-b5060c5fb21b",
   "metadata": {},
   "source": [
    "Compute the OS for the data. You get also the corresponding sigma, SNR, and the amplitude of the GW."
   ]
  },
  {
   "cell_type": "code",
   "execution_count": 11,
   "id": "02dbb033-1243-48be-a5db-26801617bb95",
   "metadata": {},
   "outputs": [
    {
     "data": {
      "text/plain": [
       "{'os': Array(5.9910104e-30, dtype=float64),\n",
       " 'os_sigma': Array(1.99077814e-27, dtype=float64),\n",
       " 'snr': Array(0.00300938, dtype=float64),\n",
       " 'log10_A': -12.96304169401837}"
      ]
     },
     "execution_count": 11,
     "metadata": {},
     "output_type": "execute_result"
    }
   ],
   "source": [
    "os.os(p0)"
   ]
  },
  {
   "cell_type": "markdown",
   "id": "d5fdaee3-8436-4cce-956a-540d9f58bb98",
   "metadata": {
    "jp-MarkdownHeadingCollapsed": true
   },
   "source": [
    "### Alternative ORFs"
   ]
  },
  {
   "cell_type": "markdown",
   "id": "756eb6c1-0dac-4a22-bbf7-51c6f4f0d202",
   "metadata": {},
   "source": [
    "The ORF takes only one parameter (the product `z = dot(pos1, pos2)`). Discovery predefines `hd_orfa`, `monopole_orfa`, `dipole_orfa`."
   ]
  },
  {
   "cell_type": "code",
   "execution_count": 63,
   "id": "ab6e706a-834a-4b08-b224-a75b11444038",
   "metadata": {},
   "outputs": [
    {
     "data": {
      "text/plain": [
       "{'os': Array(5.50934365e-30, dtype=float64),\n",
       " 'os_sigma': Array(1.03401729e-29, dtype=float64),\n",
       " 'snr': Array(0.53280963, dtype=float64),\n",
       " 'log10_A': -12.11677005017712}"
      ]
     },
     "execution_count": 63,
     "metadata": {},
     "output_type": "execute_result"
    }
   ],
   "source": [
    "os.os(p0, ds.monopole_orfa)"
   ]
  },
  {
   "cell_type": "code",
   "execution_count": 64,
   "id": "8c322c6b-2b08-4bab-90af-f474ba972071",
   "metadata": {},
   "outputs": [
    {
     "data": {
      "text/plain": [
       "{'os': Array(7.35383537e-30, dtype=float64),\n",
       " 'os_sigma': Array(1.75419332e-29, dtype=float64),\n",
       " 'snr': Array(0.41921465, dtype=float64),\n",
       " 'log10_A': -12.11677005017712}"
      ]
     },
     "execution_count": 64,
     "metadata": {},
     "output_type": "execute_result"
    }
   ],
   "source": [
    "os.os(p0, ds.dipole_orfa)"
   ]
  },
  {
   "cell_type": "markdown",
   "id": "92772234-842e-4155-84c3-3db71b8d77da",
   "metadata": {
    "jp-MarkdownHeadingCollapsed": true
   },
   "source": [
    "### \"Marginalized\" OS "
   ]
  },
  {
   "cell_type": "markdown",
   "id": "3f26f52c-29ab-4363-9658-f7e5b3356a21",
   "metadata": {},
   "source": [
    "Create a population of parameters (normally we'd get them from an MCMC run)."
   ]
  },
  {
   "cell_type": "code",
   "execution_count": 65,
   "id": "4d831d02-e0ba-45ca-9f88-197330a850e3",
   "metadata": {},
   "outputs": [],
   "source": [
    "p0s = ds.sample_uniform(os.params, priordict={'gw_(.*_)?gamma': [13/3,13/3]}, n=5)"
   ]
  },
  {
   "cell_type": "code",
   "execution_count": 66,
   "id": "4a082435-7eef-46f8-a5b3-1882ba874b27",
   "metadata": {},
   "outputs": [
    {
     "data": {
      "text/plain": [
       "array([0.89509136, 4.93412033, 3.98655564, 1.34624826, 5.96623953])"
      ]
     },
     "execution_count": 66,
     "metadata": {},
     "output_type": "execute_result"
    }
   ],
   "source": [
    "p0s['B1855+09_red_noise_gamma']"
   ]
  },
  {
   "cell_type": "markdown",
   "id": "568a6f98-6364-4f91-a672-ffebd72dc20c",
   "metadata": {},
   "source": [
    "Then we `jax.vmap` over parameter sets"
   ]
  },
  {
   "cell_type": "code",
   "execution_count": 67,
   "id": "95b8ad5d-7a2e-459c-a5c3-20ca05fd5c11",
   "metadata": {},
   "outputs": [],
   "source": [
    "os_vpar = jax.vmap(os.os)"
   ]
  },
  {
   "cell_type": "code",
   "execution_count": 68,
   "id": "22617978-b92b-4528-a4a1-000f6fa96ebe",
   "metadata": {},
   "outputs": [
    {
     "data": {
      "text/plain": [
       "{'log10_A': array([-15.38365639, -14.23822937, -14.7741985 , -13.83253618,\n",
       "        -12.85009408]),\n",
       " 'os': Array([ 1.09293369e-29,  4.94251978e-30,  1.83796125e-30, -8.71881909e-30,\n",
       "         2.06918798e-30], dtype=float64),\n",
       " 'os_sigma': Array([8.25075514e-31, 5.87877944e-31, 4.84132509e-31, 2.30306809e-30,\n",
       "        4.59172685e-30], dtype=float64),\n",
       " 'snr': Array([13.24646861,  8.40739108,  3.79640122, -3.78574092,  0.45063394],      dtype=float64)}"
      ]
     },
     "execution_count": 68,
     "metadata": {},
     "output_type": "execute_result"
    }
   ],
   "source": [
    "os_vpar(p0s)"
   ]
  },
  {
   "cell_type": "markdown",
   "id": "b85435d5-f4a5-4b0c-8bbf-bf4b671a0f71",
   "metadata": {
    "jp-MarkdownHeadingCollapsed": true
   },
   "source": [
    "### Scrambles"
   ]
  },
  {
   "cell_type": "markdown",
   "id": "37eadbca-e3ff-4eb8-8edc-5380cab6e59f",
   "metadata": {},
   "source": [
    "`os.scramble` takes as a second argument an array (or list) of pulsar positions of dimension `(npsr, 3)`"
   ]
  },
  {
   "cell_type": "code",
   "execution_count": 69,
   "id": "c470b099-33f7-44bc-896d-f9107163e639",
   "metadata": {},
   "outputs": [
    {
     "data": {
      "text/plain": [
       "Array([[ 0.235276  , -0.95735312,  0.16769083],\n",
       "       [ 0.38400231, -0.84770959,  0.36596539],\n",
       "       [ 0.41542527, -0.76954724,  0.4849937 ],\n",
       "       [ 0.98151466,  0.10005025,  0.16315308],\n",
       "       [ 0.98761743,  0.1320268 ,  0.08473928],\n",
       "       [ 0.42846049,  0.61411581,  0.66278457],\n",
       "       [ 0.40865968,  0.75692046,  0.5099693 ],\n",
       "       [ 0.23974131,  0.63501757, -0.73435467],\n",
       "       [ 0.21645786,  0.96384399,  0.15540512],\n",
       "       [ 0.01039278,  0.96199519,  0.27286854]], dtype=float64)"
      ]
     },
     "execution_count": 69,
     "metadata": {},
     "output_type": "execute_result"
    }
   ],
   "source": [
    "jnp.array(os.pos)"
   ]
  },
  {
   "cell_type": "code",
   "execution_count": 70,
   "id": "6efd8d53-38ca-41a5-b319-3aeb1f780bf6",
   "metadata": {},
   "outputs": [
    {
     "data": {
      "text/plain": [
       "{'os': Array(-3.83283248e-30, dtype=float64),\n",
       " 'os_sigma': Array(4.35015195e-29, dtype=float64),\n",
       " 'snr': Array(-0.08810801, dtype=float64),\n",
       " 'log10_A': -12.11677005017712}"
      ]
     },
     "execution_count": 70,
     "metadata": {},
     "output_type": "execute_result"
    }
   ],
   "source": [
    "os.scramble(p0, jnp.array(os.pos))"
   ]
  },
  {
   "cell_type": "markdown",
   "id": "199c62e1-fb9d-445d-a3d6-27eedcc38f49",
   "metadata": {},
   "source": [
    "To build a background you'll want a random array of positions of dimension `(nscramble, npsr, 3)`"
   ]
  },
  {
   "cell_type": "code",
   "execution_count": 71,
   "id": "a22888ad-f8ac-4c64-aeac-cd0908347004",
   "metadata": {},
   "outputs": [],
   "source": [
    "key = ds.matrix.jnpkey(42)\n",
    "rpos = jax.random.normal(key, (15, len(psrs), 3))\n",
    "npos = rpos / jnp.linalg.norm(rpos, axis=2)[:,:,None] # normalize vectors"
   ]
  },
  {
   "cell_type": "markdown",
   "id": "7965b68d-1c1e-4c8d-8206-b86f28a5b5f0",
   "metadata": {},
   "source": [
    "Then we `jax.vmap` over positions (the second argument)."
   ]
  },
  {
   "cell_type": "code",
   "execution_count": 72,
   "id": "a4608072-c475-4c34-bd55-7c0ac6bdb28d",
   "metadata": {},
   "outputs": [],
   "source": [
    "scramble_vpos = jax.vmap(os.scramble, (None,0))"
   ]
  },
  {
   "cell_type": "code",
   "execution_count": 73,
   "id": "b7241577-7e0c-4ff5-80c1-6a5895c22926",
   "metadata": {},
   "outputs": [
    {
     "data": {
      "text/plain": [
       "{'log10_A': Array([-12.11677005, -12.11677005, -12.11677005, -12.11677005,\n",
       "        -12.11677005, -12.11677005, -12.11677005, -12.11677005,\n",
       "        -12.11677005, -12.11677005, -12.11677005, -12.11677005,\n",
       "        -12.11677005, -12.11677005, -12.11677005],      dtype=float64, weak_type=True),\n",
       " 'os': Array([ 1.95249806e-29,  1.81802271e-29,  2.09065617e-30,  5.97532235e-30,\n",
       "        -5.60806608e-29, -7.20305872e-30,  1.25598639e-29, -2.93565709e-29,\n",
       "        -5.66463939e-30,  2.57360339e-29, -4.86104165e-29, -1.53192259e-29,\n",
       "         9.88381790e-31, -1.09649446e-30, -7.70309569e-30], dtype=float64),\n",
       " 'os_sigma': Array([8.33156373e-29, 1.08359434e-28, 3.68741026e-29, 6.98922008e-29,\n",
       "        1.02361543e-28, 9.82447774e-29, 6.26563180e-29, 7.74374387e-29,\n",
       "        5.41309179e-29, 5.00710894e-29, 8.15971780e-29, 8.88932359e-29,\n",
       "        6.98856407e-29, 7.25703275e-29, 6.73513784e-29], dtype=float64),\n",
       " 'snr': Array([ 0.23434953,  0.16777706,  0.05669714,  0.08549341, -0.54786846,\n",
       "        -0.07331747,  0.20045646, -0.37910049, -0.10464702,  0.51398989,\n",
       "        -0.59573649, -0.17233286,  0.01414285, -0.0151094 , -0.11437176],      dtype=float64)}"
      ]
     },
     "execution_count": 73,
     "metadata": {},
     "output_type": "execute_result"
    }
   ],
   "source": [
    "scramble_vpos(p0, npos)"
   ]
  },
  {
   "cell_type": "markdown",
   "id": "b069a97b-2277-44e3-bbf5-c441ae38f842",
   "metadata": {
    "jp-MarkdownHeadingCollapsed": true
   },
   "source": [
    "### Phase shifts"
   ]
  },
  {
   "cell_type": "markdown",
   "id": "51a80095-c4a4-47aa-9a77-ce6a6cf47621",
   "metadata": {},
   "source": [
    "These require a diagonal Fourier GW object."
   ]
  },
  {
   "cell_type": "code",
   "execution_count": 191,
   "id": "5147b8f2-2323-44e9-9783-ef8a37fd29e8",
   "metadata": {},
   "outputs": [],
   "source": [
    "gbl = ds.GlobalLikelihood([ds.PulsarLikelihood([psr.residuals,\n",
    "                                                ds.makenoise_measurement(psr, psr.noisedict),\n",
    "                                                ds.makegp_ecorr(psr, psr.noisedict),\n",
    "                                                ds.makegp_timing(psr, svd=True),\n",
    "                                                ds.makegp_fourier(psr, ds.brokenpowerlaw, 30, T=Tspan, name='red_noise'),\n",
    "                                                ds.makegp_fourier(psr, ds.brokenpowerlaw, 14, T=Tspan,\n",
    "                                                                  common=['gw_log10_A', 'gw_gamma', 'gw_log10_fb'], name='gw')\n",
    "                                                ]) for psr in psrs])"
   ]
  },
  {
   "cell_type": "code",
   "execution_count": 192,
   "id": "2b91a20c-7bad-446c-82ad-477de0ac603e",
   "metadata": {},
   "outputs": [],
   "source": [
    "os = ds.OS(gbl)"
   ]
  },
  {
   "cell_type": "code",
   "execution_count": 193,
   "id": "e7b4f219-4266-4b89-a678-e0e7bc7a0e5e",
   "metadata": {},
   "outputs": [
    {
     "data": {
      "text/plain": [
       "{'os': Array(-4.30823733e-27, dtype=float64),\n",
       " 'os_sigma': Array(6.93011257e-25, dtype=float64),\n",
       " 'snr': Array(-0.00621669, dtype=float64),\n",
       " 'log10_A': -11.735012908976142}"
      ]
     },
     "execution_count": 193,
     "metadata": {},
     "output_type": "execute_result"
    }
   ],
   "source": [
    "os.os(p0)"
   ]
  },
  {
   "cell_type": "markdown",
   "id": "0e4308e7-04bf-4b13-91d0-033939170faa",
   "metadata": {},
   "source": [
    "`os.shift` takes as a second argument an array (or list) of pulsar positions of dimension `(npsr, nfreq)`."
   ]
  },
  {
   "cell_type": "markdown",
   "id": "e0c5b1bc-cb95-42eb-a423-ca43432f03e7",
   "metadata": {},
   "source": [
    "Sanity check..."
   ]
  },
  {
   "cell_type": "code",
   "execution_count": 194,
   "id": "00302cc7-cc3d-416d-9907-9e09f314fb33",
   "metadata": {},
   "outputs": [
    {
     "data": {
      "text/plain": [
       "{'os': Array(-4.30823733e-27, dtype=float64),\n",
       " 'os_sigma': Array(6.93011257e-25, dtype=float64),\n",
       " 'snr': Array(-0.00621669, dtype=float64),\n",
       " 'log10_A': -11.735012908976142}"
      ]
     },
     "execution_count": 194,
     "metadata": {},
     "output_type": "execute_result"
    }
   ],
   "source": [
    "zero = jnp.zeros((len(psrs),14))\n",
    "os.shift(p0, zero)"
   ]
  },
  {
   "cell_type": "code",
   "execution_count": 195,
   "id": "e7c7562e-4a73-4f95-999b-173c6bfd56d2",
   "metadata": {},
   "outputs": [],
   "source": [
    "key = ds.matrix.jnpkey(42)\n",
    "phases = 2.0 * jnp.pi * jax.random.uniform(key, shape=(20,10,14))"
   ]
  },
  {
   "cell_type": "markdown",
   "id": "b7b69e56-1270-4984-96dc-24eb47fbff46",
   "metadata": {},
   "source": [
    "Then we `jax.vmap` over phases (the second argument)."
   ]
  },
  {
   "cell_type": "code",
   "execution_count": 196,
   "id": "7fa8be52-3fb3-4ced-8f76-4985078d02b8",
   "metadata": {},
   "outputs": [],
   "source": [
    "shift_vphase = jax.vmap(os.shift, (None,0))"
   ]
  },
  {
   "cell_type": "code",
   "execution_count": 197,
   "id": "0b010936-d19e-4bb1-9e6c-eb7ae5d3b489",
   "metadata": {},
   "outputs": [
    {
     "data": {
      "text/plain": [
       "{'log10_A': Array([-11.73501291, -11.73501291, -11.73501291, -11.73501291,\n",
       "        -11.73501291, -11.73501291, -11.73501291, -11.73501291,\n",
       "        -11.73501291, -11.73501291, -11.73501291, -11.73501291,\n",
       "        -11.73501291, -11.73501291, -11.73501291, -11.73501291,\n",
       "        -11.73501291, -11.73501291, -11.73501291, -11.73501291],      dtype=float64, weak_type=True),\n",
       " 'os': Array([ 3.33941002e-27, -7.33895271e-28,  8.43668277e-28,  6.88771478e-28,\n",
       "        -4.11956898e-27, -4.53248655e-27, -1.41526412e-28,  3.27782405e-29,\n",
       "         2.40576463e-27,  4.13801015e-28,  1.67877729e-27,  7.12885800e-28,\n",
       "        -2.09995848e-28, -4.57350093e-28, -3.42784005e-27,  4.21363613e-27,\n",
       "        -1.01422436e-27,  2.77293787e-27, -4.00326034e-28,  1.39401202e-27],      dtype=float64),\n",
       " 'os_sigma': Array([6.93011257e-25, 6.93011257e-25, 6.93011257e-25, 6.93011257e-25,\n",
       "        6.93011257e-25, 6.93011257e-25, 6.93011257e-25, 6.93011257e-25,\n",
       "        6.93011257e-25, 6.93011257e-25, 6.93011257e-25, 6.93011257e-25,\n",
       "        6.93011257e-25, 6.93011257e-25, 6.93011257e-25, 6.93011257e-25,\n",
       "        6.93011257e-25, 6.93011257e-25, 6.93011257e-25, 6.93011257e-25],      dtype=float64),\n",
       " 'snr': Array([ 4.81869520e-03, -1.05899473e-03,  1.21739477e-03,  9.93882092e-04,\n",
       "        -5.94444742e-03, -6.54027840e-03, -2.04219499e-04,  4.72982801e-05,\n",
       "         3.47146544e-03,  5.97105762e-04,  2.42243871e-03,  1.02867853e-03,\n",
       "        -3.03019389e-04, -6.59946124e-04, -4.94629779e-03,  6.08018425e-03,\n",
       "        -1.46350344e-03,  4.00128835e-03, -5.77661662e-04,  2.01152868e-03],      dtype=float64)}"
      ]
     },
     "execution_count": 197,
     "metadata": {},
     "output_type": "execute_result"
    }
   ],
   "source": [
    "shift_vphase(p0, phases)"
   ]
  },
  {
   "cell_type": "markdown",
   "id": "18982470-fa17-4e8e-8272-cdb98013c3c7",
   "metadata": {
    "jp-MarkdownHeadingCollapsed": true
   },
   "source": [
    "### Plotting correlation coefficients"
   ]
  },
  {
   "cell_type": "markdown",
   "id": "00c20119-6b09-4659-bb48-f8409a53adbf",
   "metadata": {},
   "source": [
    "Build a NANOGrav 15-yr model using all the pulsars."
   ]
  },
  {
   "cell_type": "code",
   "execution_count": 25,
   "id": "6a1b8c22-c42f-4f47-9764-864db9de1634",
   "metadata": {},
   "outputs": [],
   "source": [
    "import importlib"
   ]
  },
  {
   "cell_type": "code",
   "execution_count": 24,
   "id": "831790d9-ef3f-4acb-88e1-9fae985246a0",
   "metadata": {},
   "outputs": [],
   "source": [
    "import discovery.ostat as ostat"
   ]
  },
  {
   "cell_type": "code",
   "execution_count": 197,
   "id": "2505af6a-2876-43b3-a3cd-27a9d3d1491c",
   "metadata": {},
   "outputs": [
    {
     "data": {
      "text/plain": [
       "<module 'discovery.ostat' from '/Users/vallis/Documents/discovery/src/discovery/ostat.py'>"
      ]
     },
     "execution_count": 197,
     "metadata": {},
     "output_type": "execute_result"
    }
   ],
   "source": [
    "importlib.reload(ds.signals)\n",
    "importlib.reload(ds)\n",
    "importlib.reload(ostat)"
   ]
  },
  {
   "cell_type": "code",
   "execution_count": 6,
   "id": "7c586885-d158-4f70-82aa-c0d740a87742",
   "metadata": {},
   "outputs": [],
   "source": [
    "Tspan = ds.getspan(allpsrs)\n",
    "\n",
    "gbl = ds.GlobalLikelihood([ds.PulsarLikelihood([psr.residuals,\n",
    "                                                ds.makenoise_measurement(psr, psr.noisedict),\n",
    "                                                ds.makegp_ecorr(psr, psr.noisedict),\n",
    "                                                ds.makegp_timing(psr, svd=True),\n",
    "                                                ds.makegp_fourier(psr, ds.powerlaw, 30, T=Tspan, name='red_noise'),\n",
    "                                                ds.makegp_fourier(psr, ds.powerlaw, 14, T=Tspan,\n",
    "                                                                  common=['gw_log10_A', 'gw_gamma'], name='gw')\n",
    "                                                ]) for psr in allpsrs])"
   ]
  },
  {
   "cell_type": "markdown",
   "id": "e437d5b0-5e95-4ab6-a66b-a2d5977a891a",
   "metadata": {},
   "source": [
    "Get the MAP parameter set from an actual MCMC run on 15-yr NANOGrav data"
   ]
  },
  {
   "cell_type": "code",
   "execution_count": 8,
   "id": "7bfe0ce6-6bd8-4ff0-92d6-c0917d3b608b",
   "metadata": {},
   "outputs": [],
   "source": [
    "df = pd.read_feather('../data/NG15yr-m2a-chain.feather')"
   ]
  },
  {
   "cell_type": "code",
   "execution_count": 9,
   "id": "1c92db61-e1c9-41db-9eae-8400c2a4044f",
   "metadata": {},
   "outputs": [],
   "source": [
    "p0 = df.iloc[df['logp'].argmax()].to_dict()"
   ]
  },
  {
   "cell_type": "markdown",
   "id": "96df9e44-78ec-4a7e-8cbd-755e50880173",
   "metadata": {},
   "source": [
    "Sanity check"
   ]
  },
  {
   "cell_type": "code",
   "execution_count": null,
   "id": "3472597d-1c13-4379-b731-68d445874f05",
   "metadata": {},
   "outputs": [],
   "source": [
    "os = ds.OS(gbl)"
   ]
  },
  {
   "cell_type": "code",
   "execution_count": 47,
   "id": "aee3aa5c-afa5-4b1b-b3f2-0385dcb614a7",
   "metadata": {},
   "outputs": [
    {
     "data": {
      "text/plain": [
       "{'os': Array(4.80080526e-29, dtype=float64),\n",
       " 'os_sigma': Array(9.44338793e-30, dtype=float64),\n",
       " 'snr': Array(5.08377427, dtype=float64),\n",
       " 'log10_A': -14.186517715454102}"
      ]
     },
     "execution_count": 47,
     "metadata": {},
     "output_type": "execute_result"
    }
   ],
   "source": [
    "os.os(p0)"
   ]
  },
  {
   "cell_type": "markdown",
   "id": "d7672301-3569-4f07-bff2-554ba864f890",
   "metadata": {},
   "source": [
    "Simple minded correlation plot: get angles and bin the data"
   ]
  },
  {
   "cell_type": "code",
   "execution_count": 16,
   "id": "2a91e47a-3830-4301-9e2f-934125592a0a",
   "metadata": {},
   "outputs": [],
   "source": [
    "def oscorr(os, p0, nbins=10):\n",
    "    iota = np.arccos(jnp.array(os.angles)) * (180 / np.pi)\n",
    "\n",
    "    bins = np.linspace(0, 180, nbins + 1)\n",
    "    indices = np.digitize(iota, bins) - 1\n",
    "    masks = [np.where(indices == i)[0] for i in range(nbins)]\n",
    "\n",
    "    # orfs = ds.hd_orfa(np.array(os.angles))\n",
    "    orfs = np.ones_like(os.angles)\n",
    "\n",
    "    rhos, sigmas = os.os_rhosigma(p0)\n",
    "    gwnorm = 10**(2.0 * p0[os.gwpar])\n",
    "    rhos, sigmas = gwnorm * rhos, gwnorm * sigmas\n",
    "    \n",
    "    iotas = [np.mean(iota[mask]) for mask in masks]\n",
    "    oses = [np.sum(rhos[mask] * orfs[mask] / sigmas[mask]**2) / np.sum(orfs[mask]**2 / sigmas[mask]**2)\n",
    "            for mask in masks]\n",
    "    osigs = [1 / np.sqrt(np.sum(orfs[mask]**2 / sigmas[mask]**2))\n",
    "           for mask in masks]\n",
    "\n",
    "    return iotas, oses, osigs"
   ]
  },
  {
   "cell_type": "code",
   "execution_count": 17,
   "id": "07fd1061-af3e-4488-9ac5-34ba1e186a6f",
   "metadata": {},
   "outputs": [],
   "source": [
    "iotas, oses, osigs = oscorr(os, p0)"
   ]
  },
  {
   "cell_type": "code",
   "execution_count": 18,
   "id": "4f4518dc-1d51-4f77-84e2-969e81fd66f1",
   "metadata": {},
   "outputs": [
    {
     "data": {
      "image/png": "[encoded data removed]",
      "text/plain": [
       "<Figure size 640x480 with 1 Axes>"
      ]
     },
     "metadata": {},
     "output_type": "display_data"
    }
   ],
   "source": [
    "pp.errorbar(iotas, oses, yerr=osigs, fmt='.')\n",
    "\n",
    "a = np.linspace(1e-6, 180)\n",
    "hd = ost.os(p0)['os'] * ds.hd_orfa(np.cos(a * (np.pi/180.0)))\n",
    "\n",
    "pp.plot(a, hd)\n",
    "pp.xlabel('iota'); pp.ylabel(r'$A_\\mathrm{gw}^2$');"
   ]
  },
  {
   "cell_type": "markdown",
   "id": "470cf270-9523-4e21-b4dd-bcf77e6a90c7",
   "metadata": {},
   "source": [
    "Plot the distribution of SNRs on a subchain"
   ]
  },
  {
   "cell_type": "code",
   "execution_count": 19,
   "id": "2ea34406-86ce-4149-b535-616e616a868e",
   "metadata": {},
   "outputs": [],
   "source": [
    "chain = df.sample(1000).astype(np.float64)\n",
    "p0s = {var: jnp.array(chain[var]) for var in df.columns}"
   ]
  },
  {
   "cell_type": "code",
   "execution_count": 20,
   "id": "2b0426e2-59a7-44c7-b133-b3b8cbb5467b",
   "metadata": {},
   "outputs": [],
   "source": [
    "vos = jax.jit(jax.vmap(os.os))"
   ]
  },
  {
   "cell_type": "code",
   "execution_count": 21,
   "id": "787b88dc-e589-4a86-9178-ea8c88678fcd",
   "metadata": {},
   "outputs": [
    {
     "name": "stdout",
     "output_type": "stream",
     "text": [
      "CPU times: user 33.1 s, sys: 1.13 s, total: 34.2 s\n",
      "Wall time: 34.1 s\n"
     ]
    }
   ],
   "source": [
    "%time oses = vos(p0s)"
   ]
  },
  {
   "cell_type": "code",
   "execution_count": 31,
   "id": "f86a72c7-9fe1-4580-ac55-65e0c349bcdc",
   "metadata": {},
   "outputs": [
    {
     "data": {
      "text/plain": [
       "<matplotlib.legend.Legend at 0x9351bdf90>"
      ]
     },
     "execution_count": 31,
     "metadata": {},
     "output_type": "execute_result"
    },
    {
     "data": {
      "image/png": "[encoded data removed]",
      "text/plain": [
       "<Figure size 640x480 with 1 Axes>"
      ]
     },
     "metadata": {},
     "output_type": "display_data"
    }
   ],
   "source": [
    "pp.hist(oses['snr'], histtype='step', bins=20, density=True, label='fourier');\n",
    "# pp.hist(ostes['snr'], histtype='step', bins=20, density=True, label='fftcov');\n",
    "pp.axvline(np.mean(oses['snr']), color='C0', ls=':');\n",
    "# pp.axvline(np.mean(ostes['snr']), color='C1', ls=':');\n",
    "pp.legend()"
   ]
  },
  {
   "cell_type": "markdown",
   "id": "b5dd7066-c729-4d30-85c5-787cd97787ad",
   "metadata": {},
   "source": [
    "### Rapid sim"
   ]
  },
  {
   "cell_type": "code",
   "execution_count": 172,
   "id": "0237109d-5c10-4d6d-a6f5-8b2ed9ac6111",
   "metadata": {},
   "outputs": [
    {
     "data": {
      "text/plain": [
       "<module 'discovery.os' from '/Users/vallis/Documents/discovery/src/discovery/os.py'>"
      ]
     },
     "execution_count": 172,
     "metadata": {},
     "output_type": "execute_result"
    }
   ],
   "source": [
    "import importlib\n",
    "import discovery.os as ostat\n",
    "\n",
    "importlib.reload(ostat)"
   ]
  },
  {
   "cell_type": "code",
   "execution_count": 7,
   "id": "77d355b0-7af8-43c2-8c6c-6e41983ec25a",
   "metadata": {},
   "outputs": [],
   "source": [
    "Tspan = ds.getspan(allpsrs[:4])\n",
    "\n",
    "sim = ds.GlobalLikelihood([ds.PulsarLikelihood([ds.makedelay(psr, ds.getresiduals, name='sim'), \n",
    "                                                ds.makenoise_measurement(psr, psr.noisedict),\n",
    "                                                # ds.makegp_ecorr(psr, psr.noisedict), # cannot do fixed GP at this time \n",
    "                                                ds.makegp_timing(psr, variance=1e-12, variable=True),\n",
    "                                                ds.makegp_fourier(psr, ds.powerlaw, 30, T=Tspan, name='red_noise'),\n",
    "                                                ds.makegp_fourier(psr, ds.powerlaw, 14, T=Tspan,\n",
    "                                                                  common=['gw_log10_A', 'gw_gamma'], name='gw')\n",
    "                                                ]) for psr in allpsrs[:4]])"
   ]
  },
  {
   "cell_type": "code",
   "execution_count": 8,
   "id": "5b689182-d66d-4acb-be8c-b256145aaa68",
   "metadata": {},
   "outputs": [],
   "source": [
    "os = ds.os.OS(sim)"
   ]
  },
  {
   "cell_type": "code",
   "execution_count": 10,
   "id": "e56a892e-cee2-4ca9-b0a6-d6231cc0e976",
   "metadata": {},
   "outputs": [],
   "source": [
    "df = pd.read_feather('../data/NG15yr-m2a-chain.feather')\n",
    "p0 = df.iloc[df['logp'].argmax()].to_dict()"
   ]
  },
  {
   "cell_type": "code",
   "execution_count": 11,
   "id": "699260c8-88b7-47e1-96dd-99c9012b6185",
   "metadata": {},
   "outputs": [
    {
     "data": {
      "text/plain": [
       "{'os': Array(-2.41053159e-28, dtype=float64),\n",
       " 'os_sigma': Array(1.79208965e-28, dtype=float64),\n",
       " 'snr': Array(-1.34509542, dtype=float64),\n",
       " 'log10_A': -14.186517715454102}"
      ]
     },
     "execution_count": 11,
     "metadata": {},
     "output_type": "execute_result"
    }
   ],
   "source": [
    "os.os({**p0, **{f'{psr.name}_sim_y': psr.residuals for psr in allpsrs[:4]}})"
   ]
  },
  {
   "cell_type": "code",
   "execution_count": 12,
   "id": "8ea93a27-3937-4875-a136-bf209ac3d0d3",
   "metadata": {},
   "outputs": [],
   "source": [
    "oss = os.sample_rhosigma(p0)"
   ]
  },
  {
   "cell_type": "code",
   "execution_count": 13,
   "id": "1a9f34b1-e895-43d2-b5f6-116e6cc25b59",
   "metadata": {},
   "outputs": [],
   "source": []
  },
  {
   "cell_type": "code",
   "execution_count": null,
   "id": "3c4aec80-946a-4d19-8fdc-42bcfa012b69",
   "metadata": {},
   "outputs": [],
   "source": [
    "voss = jax.jit(jax.vmap(oss))"
   ]
  },
  {
   "cell_type": "code",
   "execution_count": 223,
   "id": "b5dcf2b9-ea5c-4f82-80aa-e135ff3afd4b",
   "metadata": {},
   "outputs": [],
   "source": [
    "n = 10000"
   ]
  },
  {
   "cell_type": "code",
   "execution_count": 179,
   "id": "6d71202a-fb94-4b67-926c-395d6b2a0668",
   "metadata": {},
   "outputs": [
    {
     "name": "stdout",
     "output_type": "stream",
     "text": [
      "CPU times: user 3.15 s, sys: 599 ms, total: 3.74 s\n",
      "Wall time: 875 ms\n"
     ]
    }
   ],
   "source": [
    "%time snrs=voss(ds.matrix.jnpnormal(key, (n, oss.cnt))).block_until_ready()"
   ]
  },
  {
   "cell_type": "code",
   "execution_count": 226,
   "id": "9c7f5a1a-682e-4a48-a9ce-60d4123fa91f",
   "metadata": {},
   "outputs": [],
   "source": [
    "snrs = []\n",
    "for i in range(10):\n",
    " snrs.append(voss(ds.matrix.jnpnormal(key, (n, oss.cnt))).block_until_ready())\n",
    "snrs = jnp.concatenate(snrs)"
   ]
  },
  {
   "cell_type": "code",
   "execution_count": null,
   "id": "27ae08dd-792b-44a6-ba9f-97b8c0f53a83",
   "metadata": {},
   "outputs": [],
   "source": []
  },
  {
   "cell_type": "code",
   "execution_count": 26,
   "id": "7369995d-4df4-42e1-bc22-72dde87a391d",
   "metadata": {},
   "outputs": [],
   "source": [
    "joss, doss, voss = jax.jit(oss), jax.jit(jax.grad(oss)), jax.jit(jax.vmap(oss))\n",
    "Q = lambda x: 0.5 * doss(x)"
   ]
  },
  {
   "cell_type": "code",
   "execution_count": 23,
   "id": "ccb090e3-e253-4738-8d19-b31569c309fc",
   "metadata": {},
   "outputs": [],
   "source": [
    "x = ds.matrix.jnpnormal(ds.matrix.jnpkey(42), oss.cnt)"
   ]
  },
  {
   "cell_type": "code",
   "execution_count": 24,
   "id": "d23f6a5a-208a-4ae7-8a64-3c95bcd2a466",
   "metadata": {},
   "outputs": [
    {
     "data": {
      "text/plain": [
       "Array(-0.61385414, dtype=float64)"
      ]
     },
     "execution_count": 24,
     "metadata": {},
     "output_type": "execute_result"
    }
   ],
   "source": [
    "joss(x)"
   ]
  },
  {
   "cell_type": "code",
   "execution_count": 28,
   "id": "cea9e243-e2ea-45d9-927f-01d538449128",
   "metadata": {},
   "outputs": [
    {
     "data": {
      "text/plain": [
       "Array(-0.61385414, dtype=float64)"
      ]
     },
     "execution_count": 28,
     "metadata": {},
     "output_type": "execute_result"
    }
   ],
   "source": [
    "x.T @ Q(x)"
   ]
  },
  {
   "cell_type": "code",
   "execution_count": 188,
   "id": "367c43d1-2a76-4de5-a154-e37e076dc7f1",
   "metadata": {},
   "outputs": [
    {
     "name": "stdout",
     "output_type": "stream",
     "text": [
      "4.59 ms ± 32 μs per loop (mean ± std. dev. of 7 runs, 100 loops each)\n"
     ]
    }
   ],
   "source": [
    "%timeit joss(ds.matrix.jnpnormal(key, oss.cnt))"
   ]
  },
  {
   "cell_type": "code",
   "execution_count": 189,
   "id": "a3eebf88-5a64-475c-a756-062b9e47ea6c",
   "metadata": {},
   "outputs": [
    {
     "name": "stdout",
     "output_type": "stream",
     "text": [
      "8.49 ms ± 26.2 μs per loop (mean ± std. dev. of 7 runs, 100 loops each)\n"
     ]
    }
   ],
   "source": [
    "%timeit doss(ds.matrix.jnpnormal(key, oss.cnt))"
   ]
  },
  {
   "cell_type": "markdown",
   "id": "91688701-35bc-4e2e-a493-f109d156697d",
   "metadata": {},
   "source": [
    "Estimate $\\lambda_\\mathrm{max}$"
   ]
  },
  {
   "cell_type": "code",
   "execution_count": 29,
   "id": "7f832a8e-548f-4ac8-93b9-b5a56c997805",
   "metadata": {},
   "outputs": [],
   "source": [
    "def estimate_spectral_norm(Q, n, num_iters=20, seed=42):\n",
    "    v = jax.random.normal(ds.matrix.jnpkey(seed), n)\n",
    "    \n",
    "    v = v / jnp.linalg.norm(v)\n",
    "    for _ in range(num_iters):\n",
    "        v = Q(v)\n",
    "        norm_v = jnp.linalg.norm(v)\n",
    "        if norm_v == 0:\n",
    "            return 0.0\n",
    "        v = v / norm_v\n",
    "\n",
    "    return jnp.abs(jnp.dot(v, Q(v)))"
   ]
  },
  {
   "cell_type": "code",
   "execution_count": 35,
   "id": "b29006b5-5d14-4e78-8e7f-60452ade276a",
   "metadata": {},
   "outputs": [],
   "source": [
    "Qnorm = estimate_spectral_norm(Q, oss.cnt, 40)"
   ]
  },
  {
   "cell_type": "markdown",
   "id": "6df9318e-a169-41e8-86b8-aec7cc6e131a",
   "metadata": {},
   "source": [
    "This means the maximum $\\theta$ is $1 / (2 \\lambda_\\mathrm{max})$."
   ]
  },
  {
   "cell_type": "code",
   "execution_count": 36,
   "id": "888e6c5a-7101-462a-9249-eed6d04abb72",
   "metadata": {},
   "outputs": [
    {
     "data": {
      "text/plain": [
       "(Array(0.22945884, dtype=float64), Array(2.17904, dtype=float64))"
      ]
     },
     "execution_count": 36,
     "metadata": {},
     "output_type": "execute_result"
    }
   ],
   "source": [
    "Qnorm, 1 / (2 * Qnorm)"
   ]
  },
  {
   "cell_type": "markdown",
   "id": "3bb6ecd2-6e03-4d60-be2e-223cae50b645",
   "metadata": {},
   "source": [
    "Solve $\\mathrm{tr} (Q (I - 2 \\theta Q)^{-1}) = s$, where $s$ is the desired tail value."
   ]
  },
  {
   "cell_type": "code",
   "execution_count": 45,
   "id": "eb63f427-c905-4a20-b900-45719967cdfc",
   "metadata": {},
   "outputs": [],
   "source": [
    "def rademacher(key, shape):\n",
    "    return 2.0 * jax.random.randint(key, shape=shape, minval=0, maxval=2) - 1.0"
   ]
  },
  {
   "cell_type": "code",
   "execution_count": 56,
   "id": "b9326ed3-23cd-4b7c-98b6-cd376b3c4e2e",
   "metadata": {},
   "outputs": [],
   "source": [
    "def get_trace(theta, Q, n, m=20, seed=42):\n",
    "    keys = ds.matrix.jnpsplit(jax.random.PRNGKey(seed), m)\n",
    "    \n",
    "    matvec = lambda v: v - 2 * theta * Q(v)\n",
    "\n",
    "    return np.mean([jnp.dot(z, Q(jax.scipy.sparse.linalg.cg(matvec, z)[0]))\n",
    "                    for z in rademacher(jax.random.PRNGKey(seed), (m, n))])"
   ]
  },
  {
   "cell_type": "code",
   "execution_count": 212,
   "id": "ce7ce2f4-4e85-4ca2-bcbc-69b1b19d0e6e",
   "metadata": {},
   "outputs": [],
   "source": [
    "theta0 = 1.6"
   ]
  },
  {
   "cell_type": "code",
   "execution_count": 58,
   "id": "6079f4d4-9c6a-482d-a7a6-d8405fcbd4f3",
   "metadata": {},
   "outputs": [
    {
     "data": {
      "text/plain": [
       "np.float64(2.656684271396586)"
      ]
     },
     "execution_count": 58,
     "metadata": {},
     "output_type": "execute_result"
    }
   ],
   "source": [
    "tr0 = get_trace(theta0, Q, oss.cnt, 42)\n",
    "tr0"
   ]
  },
  {
   "cell_type": "markdown",
   "id": "d62183a5-cbd3-44ca-9a4b-b060807d8b3d",
   "metadata": {},
   "source": [
    "Sample from tilted distribution: $x \\sim \\mathcal{N}(0, I)$, solve $(I - 2 \\theta Q) y = x$."
   ]
  },
  {
   "cell_type": "code",
   "execution_count": 63,
   "id": "61f09c1f-1b0d-476a-b9d3-1763851f5ff0",
   "metadata": {},
   "outputs": [],
   "source": [
    "def sample_sigma(theta, Q, n, m=1, seed=42):\n",
    "    x = ds.matrix.jnpnormal(jax.random.PRNGKey(seed), (m, oss.cnt))\n",
    "    matvec = lambda v: v - 2 * theta * Q(v)\n",
    "    \n",
    "    return jax.vmap(lambda v: jax.scipy.sparse.linalg.cg(matvec, v)[0])(x)"
   ]
  },
  {
   "cell_type": "code",
   "execution_count": 68,
   "id": "31374bd0-1a68-42df-ba6f-db219b341aef",
   "metadata": {},
   "outputs": [
    {
     "name": "stdout",
     "output_type": "stream",
     "text": [
      "CPU times: user 1.36 s, sys: 343 ms, total: 1.71 s\n",
      "Wall time: 1.49 s\n"
     ]
    }
   ],
   "source": [
    "%time y = sample_sigma(theta0, Q, oss.cnt, 100, 42)"
   ]
  },
  {
   "cell_type": "code",
   "execution_count": 213,
   "id": "0d709480-96af-4ca6-81aa-32fbae339885",
   "metadata": {},
   "outputs": [
    {
     "name": "stdout",
     "output_type": "stream",
     "text": [
      "CPU times: user 2.58 s, sys: 701 ms, total: 3.28 s\n",
      "Wall time: 1.47 s\n"
     ]
    }
   ],
   "source": [
    "%time y = sample_sigma(theta0, Q, oss.cnt, 1000, 42)"
   ]
  },
  {
   "cell_type": "markdown",
   "id": "53d11544-00de-426d-9455-27752404ae87",
   "metadata": {},
   "source": [
    "Evaluate OS and weights $\\exp -\\theta x^T Q x$ for these samples. Note weights should be normalized by $\\sqrt{\\Sigma}$ with $\\Sigma = (I - 2\\theta Q)^{-1}$."
   ]
  },
  {
   "cell_type": "code",
   "execution_count": 214,
   "id": "26a546d6-c57b-4498-9e63-6df81b2a2b9f",
   "metadata": {},
   "outputs": [],
   "source": [
    "o = voss(y)\n",
    "w = jnp.exp(-theta0 * o)"
   ]
  },
  {
   "cell_type": "code",
   "execution_count": 215,
   "id": "839ee219-2408-4201-a86f-2b06611bb5ff",
   "metadata": {},
   "outputs": [
    {
     "data": {
      "image/png": "[encoded data removed]",
      "text/plain": [
       "<Figure size 640x480 with 1 Axes>"
      ]
     },
     "metadata": {},
     "output_type": "display_data"
    }
   ],
   "source": [
    "pp.hist(o, weights=w, bins=40);"
   ]
  },
  {
   "cell_type": "code",
   "execution_count": 216,
   "id": "03b4e37c-71e3-4e24-bae1-8b7f95a6b7fe",
   "metadata": {},
   "outputs": [],
   "source": [
    "def makecdf(array, weights=None, xmin=None, xcdf=0):\n",
    "    if weights is None:\n",
    "        return np.sort(array), np.arange(1, len(array) + 1) / len(array)\n",
    "    else:\n",
    "        if xmin is not None:\n",
    "            weights = weights[array > xmin]\n",
    "            array = array[array > xmin]\n",
    "        \n",
    "        sort_idx = np.argsort(array)\n",
    "        return array[sort_idx], xcdf + (1 - xcdf) * np.cumsum(weights[sort_idx]) / np.sum(weights)"
   ]
  },
  {
   "cell_type": "code",
   "execution_count": 217,
   "id": "b2ec7d8d-109d-43e3-92ca-6831368ae10f",
   "metadata": {},
   "outputs": [],
   "source": [
    "oval, cval = makecdf(o, w)"
   ]
  },
  {
   "cell_type": "code",
   "execution_count": 224,
   "id": "05681674-9fcc-4a44-9cfe-1eeb7e367a2e",
   "metadata": {},
   "outputs": [
    {
     "data": {
      "text/plain": [
       "[<matplotlib.lines.Line2D at 0x74aff01310>]"
      ]
     },
     "execution_count": 224,
     "metadata": {},
     "output_type": "execute_result"
    },
    {
     "data": {
      "image/png": "[encoded data removed]",
      "text/plain": [
       "<Figure size 400x300 with 1 Axes>"
      ]
     },
     "metadata": {},
     "output_type": "display_data"
    }
   ],
   "source": [
    "pp.figure(figsize=(4,3))\n",
    "pp.semilogy(oval, 1 - cval)"
   ]
  },
  {
   "cell_type": "code",
   "execution_count": null,
   "id": "5ad883d0-a125-45a8-8b96-e669a498e953",
   "metadata": {},
   "outputs": [],
   "source": [
    "%time oo = voss(ds.matrix.jnpnormal(ds.matrix.jnpkey(42), (10000, oss.cnt))).block_until_ready()"
   ]
  },
  {
   "cell_type": "code",
   "execution_count": 235,
   "id": "61bd5d4c-c996-4acf-ac11-c00227799be3",
   "metadata": {},
   "outputs": [],
   "source": [
    "ooval, ccval = makecdf(oo)"
   ]
  },
  {
   "cell_type": "markdown",
   "id": "6edab6f9-6864-48fa-b627-e2cf000fc875",
   "metadata": {},
   "source": [
    "Patch the two distributions together."
   ]
  },
  {
   "cell_type": "code",
   "execution_count": 247,
   "id": "8124a981-ad24-46b5-9551-ba0bec072628",
   "metadata": {},
   "outputs": [],
   "source": [
    "omatch = 1 * tr0\n",
    "offset = np.interp(omatch, ooval, ccval) \n",
    "oval, cval = makecdf(o, w, omatch, offset)"
   ]
  },
  {
   "cell_type": "code",
   "execution_count": 248,
   "id": "ec76c527-8cf3-47d5-bd1d-8a4a35708fac",
   "metadata": {},
   "outputs": [
    {
     "data": {
      "text/plain": [
       "(np.float64(0.0), np.float64(15.0), np.float64(1e-08), np.float64(0.1))"
      ]
     },
     "execution_count": 248,
     "metadata": {},
     "output_type": "execute_result"
    },
    {
     "data": {
      "image/png": "[encoded data removed]",
      "text/plain": [
       "<Figure size 400x300 with 1 Axes>"
      ]
     },
     "metadata": {},
     "output_type": "display_data"
    }
   ],
   "source": [
    "pp.figure(figsize=(4,3))\n",
    "pp.semilogy(ooval, 1 - ccval)\n",
    "pp.semilogy(oval, 1 - cval)\n",
    "pp.axvline(omatch, ls=':'); pp.axhline(1 - offset, ls=':')\n",
    "pp.axis(xmin=0, xmax=15, ymin=1e-8, ymax=1e-1)"
   ]
  },
  {
   "cell_type": "code",
   "execution_count": null,
   "id": "37bd4259-34db-4084-a9c7-9f2ab140f168",
   "metadata": {},
   "outputs": [],
   "source": []
  },
  {
   "cell_type": "code",
   "execution_count": 205,
   "id": "acfced76-5f60-4ca7-ad79-3d48fa193cee",
   "metadata": {},
   "outputs": [],
   "source": [
    "Qnorm = estimate_spectral_norm(matvec, oss.cnt, 100)"
   ]
  },
  {
   "cell_type": "code",
   "execution_count": 213,
   "id": "f3445835-97aa-408d-bed4-240e1542808a",
   "metadata": {},
   "outputs": [],
   "source": [
    "def estimate_frobenius_norm(Q_func, n, num_samples=50, seed=42):\n",
    "    trace_estimate = 0.0\n",
    "\n",
    "    for i in range(num_samples):\n",
    "        z = 2.0 * jax.random.randint(ds.matrix.jnpkey(seed + i), shape=(n,), minval=0, maxval=2) - 1.0\n",
    "        Qz = Q_func(z)\n",
    "        trace_estimate += jnp.dot(Qz, Qz)\n",
    "\n",
    "    trace_estimate /= num_samples\n",
    "    frobenius_norm = jnp.sqrt(trace_estimate)\n",
    "    return frobenius_norm"
   ]
  },
  {
   "cell_type": "code",
   "execution_count": 222,
   "id": "344c2d2f-29a3-402b-ae33-f242aeda4c73",
   "metadata": {},
   "outputs": [],
   "source": [
    "QFnorm = estimate_frobenius_norm(matvec, oss.cnt, 100, 42)"
   ]
  },
  {
   "cell_type": "code",
   "execution_count": 255,
   "id": "1bb5c080-81aa-432c-a3f0-551953933bac",
   "metadata": {},
   "outputs": [],
   "source": [
    "survival1 = 2 * jnp.exp(-(1/8) * s**2 / QFnorm**2)"
   ]
  },
  {
   "cell_type": "code",
   "execution_count": 257,
   "id": "24cd3131-e428-45df-b4d0-f6066883b14b",
   "metadata": {},
   "outputs": [],
   "source": [
    "survival2 = 2 * jnp.exp(-(1/8) * s / Qnorm)"
   ]
  },
  {
   "cell_type": "code",
   "execution_count": 231,
   "id": "9312d9e4-a74f-4886-8ebb-7badad88df5d",
   "metadata": {},
   "outputs": [],
   "source": [
    "s, c = makecdf(snrs)"
   ]
  },
  {
   "cell_type": "code",
   "execution_count": 267,
   "id": "8e6416e4-89a3-4ae5-84bb-c74b9bb5ad19",
   "metadata": {},
   "outputs": [
    {
     "data": {
      "text/plain": [
       "(np.float64(2.0), np.float64(5.0), np.float64(0.0001), np.float64(0.1))"
      ]
     },
     "execution_count": 267,
     "metadata": {},
     "output_type": "execute_result"
    },
    {
     "data": {
      "image/png": "[encoded data removed]",
      "text/plain": [
       "<Figure size 640x480 with 1 Axes>"
      ]
     },
     "metadata": {},
     "output_type": "display_data"
    }
   ],
   "source": [
    "pp.semilogy(s, 1 - c)\n",
    "\n",
    "pp.semilogy(s, survival)\n",
    "pp.semilogy(s, survival2)\n",
    "\n",
    "pp.axis(xmin=2, xmax=5, ymin=1e-4, ymax=1e-1)"
   ]
  },
  {
   "cell_type": "markdown",
   "id": "ab39459f-4400-44a6-a514-b8407a8f3a9d",
   "metadata": {},
   "source": [
    "### Tilted tail sampling"
   ]
  },
  {
   "cell_type": "code",
   "execution_count": 347,
   "id": "c2941b66-81c5-4f25-bec5-637c8c3cb4dd",
   "metadata": {},
   "outputs": [],
   "source": [
    "def matvec(v):\n",
    "    return v - 2 * theta * 0.5 * doss(v)"
   ]
  },
  {
   "cell_type": "code",
   "execution_count": 348,
   "id": "85d9c084-e395-4f00-b9f5-1d38d1b9712f",
   "metadata": {},
   "outputs": [],
   "source": [
    "def rademacher(key, n):\n",
    "    return 2.0 * jax.random.randint(key, shape=(n,), minval=0, maxval=2) - 1.0"
   ]
  },
  {
   "cell_type": "code",
   "execution_count": 349,
   "id": "bb1e370d-ccd2-4343-9190-d218eca00d24",
   "metadata": {},
   "outputs": [],
   "source": [
    "def get_trace(theta, m=20, key=jax.random.PRNGKey(42)):\n",
    "    trace_est = 0.0\n",
    "    for _ in range(m):\n",
    "        key, subkey = ds.matrix.jnpsplit(key)\n",
    "        z = rademacher(subkey, oss.cnt)\n",
    "        trace_est += np.dot(z, doss(jax.scipy.sparse.linalg.cg(lambda v: v - theta * doss(v), z)[0]))\n",
    "    return trace_est / m"
   ]
  },
  {
   "cell_type": "code",
   "execution_count": 337,
   "id": "6994bfeb-707f-47ed-8392-2673bb589f22",
   "metadata": {},
   "outputs": [
    {
     "data": {
      "text/plain": [
       "np.float64(-0.01703971947728193)"
      ]
     },
     "execution_count": 337,
     "metadata": {},
     "output_type": "execute_result"
    }
   ],
   "source": [
    "get_trace(0.1, key=jax.random.PRNGKey(43))"
   ]
  },
  {
   "cell_type": "code",
   "execution_count": 338,
   "id": "11321a7f-cc8a-4695-8226-8667674c6ebd",
   "metadata": {},
   "outputs": [
    {
     "data": {
      "text/plain": [
       "np.float64(0.16237751525388971)"
      ]
     },
     "execution_count": 338,
     "metadata": {},
     "output_type": "execute_result"
    }
   ],
   "source": [
    "get_trace(0.2, key=jax.random.PRNGKey(43))"
   ]
  },
  {
   "cell_type": "code",
   "execution_count": 339,
   "id": "bfae01df-2331-416e-8c56-20e5cd619f84",
   "metadata": {},
   "outputs": [
    {
     "data": {
      "text/plain": [
       "np.float64(0.3467426477078107)"
      ]
     },
     "execution_count": 339,
     "metadata": {},
     "output_type": "execute_result"
    }
   ],
   "source": [
    "get_trace(0.3, key=jax.random.PRNGKey(43))"
   ]
  },
  {
   "cell_type": "code",
   "execution_count": 351,
   "id": "fd571e28-5878-48ed-ba80-4249bcb08cfb",
   "metadata": {},
   "outputs": [
    {
     "data": {
      "text/plain": [
       "np.float64(3.867240299569159)"
      ]
     },
     "execution_count": 351,
     "metadata": {},
     "output_type": "execute_result"
    }
   ],
   "source": [
    "get_trace(1.5, key=jax.random.PRNGKey(43))"
   ]
  },
  {
   "cell_type": "code",
   "execution_count": 357,
   "id": "76e899e1-f4c0-4a83-a420-79599d258959",
   "metadata": {},
   "outputs": [],
   "source": [
    "def sample_sigma(theta, key=jax.random.PRNGKey(42)):\n",
    "    key, subkey = ds.matrix.jnpsplit(key)\n",
    "    x = ds.matrix.jnpnormal(subkey, oss.cnt)\n",
    "    return key, jax.scipy.sparse.linalg.cg(lambda v: v - theta * doss(v), x)[0]"
   ]
  },
  {
   "cell_type": "code",
   "execution_count": null,
   "id": "205907ad-3459-4e67-be54-52be7d6832e8",
   "metadata": {},
   "outputs": [
    {
     "name": "stderr",
     "output_type": "stream",
     "text": [
      "  8%|█████████▊                                                                                                           | 84/1000 [01:08<11:56,  1.28it/s]"
     ]
    }
   ],
   "source": [
    "vo, vw = [], []\n",
    "for i in tqdm.tqdm(range(1000)):\n",
    "    key, x1 = sample_sigma(1.5, key)\n",
    "    o = oss(x1)\n",
    "    w = jnp.exp(-1.5 * o)\n",
    "    vo.append(o)\n",
    "    vw.append(w)"
   ]
  },
  {
   "cell_type": "code",
   "execution_count": 376,
   "id": "b98e9e62-0f75-445d-adfa-3e4250bfe89e",
   "metadata": {},
   "outputs": [],
   "source": []
  },
  {
   "cell_type": "code",
   "execution_count": null,
   "id": "3e5cc465-8e8d-482a-b3aa-1bbf90be8fca",
   "metadata": {},
   "outputs": [],
   "source": [
    "def lanczos(matvec, v, m):\n",
    "    \"\"\"\n",
    "    Run m steps of Lanczos on (I - 2*theta*Q) using starting vector v.\n",
    "    Returns:\n",
    "        - alphas: diagonal entries of T\n",
    "        - betas: off-diagonal entries of T\n",
    "    \"\"\"\n",
    "    n = v.shape[0]\n",
    "    \n",
    "    beta_prev = 0.0\n",
    "    q_prev = jnp.zeros_like(v)\n",
    "    q = v / jnp.linalg.norm(v)\n",
    "    \n",
    "    alphas = []\n",
    "    betas = []\n",
    "    \n",
    "    for j in range(m):\n",
    "        w = matvec(q) - beta_prev * q_prev\n",
    "        alpha = jnp.dot(q, w)\n",
    "        w = w - alpha * q\n",
    "        beta = jnp.linalg.norm(w)\n",
    "        \n",
    "        alphas.append(alpha)\n",
    "        betas.append(beta)\n",
    "        \n",
    "        q_prev = q\n",
    "        q = jnp.where(beta > 1e-10, w / beta, q)   # avoid divide by zero\n",
    "        beta_prev = beta\n",
    "    \n",
    "    betas = jnp.array(betas[:-1])  # last beta unused\n",
    "    alphas = jnp.array(alphas)\n",
    "    return alphas, betas"
   ]
  },
  {
   "cell_type": "code",
   "execution_count": 294,
   "id": "a659d5c6-3cf5-4ecf-a823-0632966dcb2f",
   "metadata": {},
   "outputs": [],
   "source": [
    "def log_trace_from_tridiagonal(alphas, betas):\n",
    "    \"\"\"\n",
    "    Compute e1^T log(T) e1 from T defined by alphas, betas.\n",
    "    \"\"\"\n",
    "    T = jnp.diag(alphas)\n",
    "    if betas.shape[0] > 0:\n",
    "        T = T.at[jnp.arange(len(betas)), jnp.arange(1, len(betas)+1)].set(betas)\n",
    "        T = T.at[jnp.arange(1, len(betas)+1), jnp.arange(len(betas))].set(betas)\n",
    "\n",
    "    eigvals, eigvecs = jnp.linalg.eigh(T)\n",
    "    log_eigs = jnp.log(eigvals)\n",
    "    weights = eigvecs[0, :] ** 2\n",
    "    return jnp.sum(weights * log_eigs)"
   ]
  },
  {
   "cell_type": "code",
   "execution_count": 320,
   "id": "7e0c4cea-8308-4284-b8c9-8375ec2b9e81",
   "metadata": {},
   "outputs": [],
   "source": [
    "def estimate_logdet(matvec, n, num_samples=30, lanczos_steps=10, key=jax.random.PRNGKey(42)):\n",
    "    keys = jax.random.split(key, num_samples)\n",
    "    log_traces = []\n",
    "    \n",
    "    for k in keys:\n",
    "        v = jax.random.choice(k, jnp.array([-1.0, 1.0]), shape=(n,))\n",
    "        v = v / jnp.linalg.norm(v)\n",
    "        \n",
    "        alphas, betas = lanczos(matvec, v, lanczos_steps)\n",
    "        log_trace = log_trace_from_tridiagonal(alphas, betas)\n",
    "        log_traces.append(log_trace)\n",
    "    \n",
    "    logdet_est = jnp.mean(jnp.stack(log_traces))\n",
    "    return logdet_est"
   ]
  },
  {
   "cell_type": "code",
   "execution_count": 328,
   "id": "dd696201-be71-4b9c-83af-79895c698b18",
   "metadata": {},
   "outputs": [
    {
     "data": {
      "text/plain": [
       "Array(-1.70486385e-06, dtype=float64)"
      ]
     },
     "execution_count": 328,
     "metadata": {},
     "output_type": "execute_result"
    }
   ],
   "source": [
    "estimate_logdet(matvec, oss.cnt, num_samples=100, lanczos_steps=6)"
   ]
  },
  {
   "cell_type": "code",
   "execution_count": null,
   "id": "abd616ae-57ef-4414-a376-9129717cb243",
   "metadata": {},
   "outputs": [],
   "source": []
  },
  {
   "cell_type": "code",
   "execution_count": null,
   "id": "e87778e3-eedc-46f2-aa60-4e3e329ef85f",
   "metadata": {},
   "outputs": [],
   "source": []
  },
  {
   "cell_type": "code",
   "execution_count": 106,
   "id": "e810f42c-4e62-4110-b52c-8f769964ab8c",
   "metadata": {},
   "outputs": [
    {
     "data": {
      "text/plain": [
       "Array(-0.38577951, dtype=float64)"
      ]
     },
     "execution_count": 106,
     "metadata": {},
     "output_type": "execute_result"
    }
   ],
   "source": [
    "xs = ds.matrix.jnpnormal(key, oss.cnt)\n",
    "0.5 * xs.T @ jax.grad(oss)(xs)"
   ]
  },
  {
   "cell_type": "code",
   "execution_count": 107,
   "id": "1df696be-0c40-45da-b349-eceb6cede86a",
   "metadata": {},
   "outputs": [
    {
     "data": {
      "text/plain": [
       "Array(-0.38577951, dtype=float64)"
      ]
     },
     "execution_count": 107,
     "metadata": {},
     "output_type": "execute_result"
    }
   ],
   "source": [
    "oss(xs)"
   ]
  },
  {
   "cell_type": "code",
   "execution_count": 83,
   "id": "c90242b4-b937-4202-91db-c0c4539ad37c",
   "metadata": {},
   "outputs": [
    {
     "data": {
      "text/plain": [
       "Array([ 0.36483167, -0.62490848,  0.37543487,  0.03663539, -0.69401098,\n",
       "        1.32743395, -0.7791543 , -0.55100144, -0.55858581, -1.16300828,\n",
       "       -1.28403422, -0.35372767,  0.57559881,  0.53311216, -1.37435635,\n",
       "        0.96541891,  1.68058525,  0.10877546,  1.13169174,  1.59352168,\n",
       "        0.01857742, -0.35951232, -0.49468275,  0.50376966,  0.19649796,\n",
       "        1.40603886,  0.46198887, -0.36756025, -0.04997445, -0.68143705,\n",
       "        0.03807464, -0.10837285, -0.28118007, -0.69391441, -0.72788802,\n",
       "        0.06069207,  0.9093868 ,  0.23647343,  0.12099958, -0.22389388,\n",
       "        0.85802271,  1.54176417,  0.02971224,  1.33132291,  0.18095233,\n",
       "        0.76455502, -1.57663932,  0.47975498, -0.17677378,  0.95957763,\n",
       "       -0.33487153,  0.77524031,  0.00949535, -0.66636239, -1.39080722,\n",
       "       -0.05478418, -0.13928131,  0.25150378,  0.45754259,  0.5037931 ,\n",
       "        2.16954691,  1.39880449,  0.75966486,  1.34160553, -1.17604516,\n",
       "       -0.15743136,  0.28232148, -0.35077017, -0.92181179,  2.08456175,\n",
       "        0.56779486,  0.34178896, -1.12415734, -1.7742236 , -0.63930371,\n",
       "       -0.83646447,  0.37430336, -0.92166872,  0.47645469, -2.00543174,\n",
       "       -0.48969148, -0.16396636,  0.31556474,  1.22526801,  1.11987781,\n",
       "        2.04965919,  0.66790543, -0.35385342,  0.31301166, -0.97987572,\n",
       "        0.06539071, -0.21941855, -0.04428763, -0.95073753, -0.76833714,\n",
       "       -1.18082436, -1.06577116,  0.15221798, -1.1953371 ,  0.81677496],      dtype=float64)"
      ]
     },
     "execution_count": 83,
     "metadata": {},
     "output_type": "execute_result"
    }
   ],
   "source": [
    "oss(ds.matrix.jnpnormal(key, (100, oss.cnt)))"
   ]
  },
  {
   "cell_type": "code",
   "execution_count": 61,
   "id": "c5e8bb84-7661-4ad7-baf1-52af9d04324e",
   "metadata": {},
   "outputs": [
    {
     "name": "stdout",
     "output_type": "stream",
     "text": [
      "CPU times: user 5.28 s, sys: 714 ms, total: 5.99 s\n",
      "Wall time: 1.6 s\n"
     ]
    }
   ],
   "source": [
    "%time nsnrs = os.sample_rhosigma(key, p0, 1000).block_until_ready()"
   ]
  },
  {
   "cell_type": "code",
   "execution_count": null,
   "id": "6a276014-d23d-4eac-973d-f541aac8ced4",
   "metadata": {},
   "outputs": [],
   "source": []
  },
  {
   "cell_type": "code",
   "execution_count": null,
   "id": "bfa2a7c0-7647-4f2b-8d12-58a3b8810446",
   "metadata": {},
   "outputs": [],
   "source": []
  },
  {
   "cell_type": "code",
   "execution_count": 6,
   "id": "ab1c2cb4-550c-414d-98a0-78349822c238",
   "metadata": {},
   "outputs": [],
   "source": [
    "Tspan = ds.getspan(allpsrs)\n",
    "\n",
    "sim = ds.GlobalLikelihood([ds.PulsarLikelihood([ds.makedelay(psr, ds.getresiduals, name='sim'), \n",
    "                                                ds.makenoise_measurement(psr, psr.noisedict),\n",
    "                                                # ds.makegp_ecorr(psr, psr.noisedict), # cannot do fixed GP at this time \n",
    "                                                ds.makegp_timing(psr, variance=1e-12, variable=True),\n",
    "                                                ds.makegp_fourier(psr, ds.powerlaw, 30, T=Tspan, name='red_noise'),\n",
    "                                                ds.makegp_fourier(psr, ds.powerlaw, 14, T=Tspan,\n",
    "                                                                  common=['gw_log10_A', 'gw_gamma'], name='gw')\n",
    "                                                ]) for psr in allpsrs])"
   ]
  },
  {
   "cell_type": "code",
   "execution_count": 8,
   "id": "02f0f265-e0f5-4789-834c-bbabc6db4a12",
   "metadata": {},
   "outputs": [],
   "source": [
    "os = ds.os.OS(sim)"
   ]
  },
  {
   "cell_type": "code",
   "execution_count": 9,
   "id": "d8a545ae-541a-4c1f-85d5-4f04a89fb8cc",
   "metadata": {},
   "outputs": [],
   "source": [
    "df = pd.read_feather('../data/NG15yr-m2a-chain.feather')\n",
    "p0 = df.iloc[df['logp'].argmax()].to_dict()"
   ]
  },
  {
   "cell_type": "code",
   "execution_count": 10,
   "id": "90cb8660-865e-4e81-961d-11c4d8e61d88",
   "metadata": {},
   "outputs": [
    {
     "data": {
      "text/plain": [
       "{'os': Array(8.32615431e-30, dtype=float64),\n",
       " 'os_sigma': Array(4.83943727e-30, dtype=float64),\n",
       " 'snr': Array(1.72047985, dtype=float64),\n",
       " 'log10_A': -14.186517715454102}"
      ]
     },
     "execution_count": 10,
     "metadata": {},
     "output_type": "execute_result"
    }
   ],
   "source": [
    "os.os({**p0, **{f'{psr.name}_sim_y': psr.residuals for psr in allpsrs}})"
   ]
  },
  {
   "cell_type": "code",
   "execution_count": 12,
   "id": "f9a2cc31-36eb-42ee-8683-dd2e3c0ecda0",
   "metadata": {},
   "outputs": [],
   "source": [
    "key = ds.jnpkey(42)"
   ]
  },
  {
   "cell_type": "code",
   "execution_count": 13,
   "id": "20ff91c4-0f95-4819-9ca9-75437b4eded0",
   "metadata": {},
   "outputs": [
    {
     "name": "stdout",
     "output_type": "stream",
     "text": [
      "CPU times: user 45.4 s, sys: 5.46 s, total: 50.9 s\n",
      "Wall time: 30.3 s\n"
     ]
    }
   ],
   "source": [
    "%time snrs = os.sample_rhosigma(key, p0, 1).block_until_ready()"
   ]
  },
  {
   "cell_type": "code",
   "execution_count": 16,
   "id": "0a70abfc-3e15-408c-abaa-36dbdf042772",
   "metadata": {},
   "outputs": [
    {
     "name": "stdout",
     "output_type": "stream",
     "text": [
      "CPU times: user 43.4 s, sys: 5.66 s, total: 49.1 s\n",
      "Wall time: 27 s\n"
     ]
    }
   ],
   "source": [
    "%time snrs = os.sample_rhosigma(key, p0, 100).block_until_ready()"
   ]
  },
  {
   "cell_type": "code",
   "execution_count": 19,
   "id": "101caa9e-0f0a-480a-a8c0-c26dbc4c0bd7",
   "metadata": {},
   "outputs": [
    {
     "name": "stdout",
     "output_type": "stream",
     "text": [
      "CPU times: user 1min 21s, sys: 7.56 s, total: 1min 29s\n",
      "Wall time: 31.7 s\n"
     ]
    }
   ],
   "source": [
    "%time snrs = os.sample_rhosigma(key, p0, 1000).block_until_ready()"
   ]
  },
  {
   "cell_type": "code",
   "execution_count": 21,
   "id": "88c9544f-4c80-48b3-b3dd-85939d667c5a",
   "metadata": {},
   "outputs": [
    {
     "name": "stdout",
     "output_type": "stream",
     "text": [
      "CPU times: user 6min 59s, sys: 17.1 s, total: 7min 16s\n",
      "Wall time: 1min 10s\n"
     ]
    }
   ],
   "source": [
    "%time snrs = os.sample_rhosigma(key, p0, 10000).block_until_ready()"
   ]
  },
  {
   "cell_type": "code",
   "execution_count": 43,
   "id": "dfcc99cb-efbd-46be-8e43-6805b267addb",
   "metadata": {},
   "outputs": [
    {
     "name": "stdout",
     "output_type": "stream",
     "text": [
      "CPU times: user 1h 5min 35s, sys: 3min 28s, total: 1h 9min 3s\n",
      "Wall time: 11min 2s\n"
     ]
    }
   ],
   "source": [
    "%%time\n",
    "lsnrs = [snrs]\n",
    "for i in range(9):\n",
    "    key, subkey = ds.jnpsplit(key)\n",
    "    lsnrs.append(os.sample_rhosigma(key, p0, 10000))\n",
    "lsnrs = jnp.concatenate(lsnrs)"
   ]
  },
  {
   "cell_type": "code",
   "execution_count": 23,
   "id": "41f08362-6b0a-490a-81c4-91f0020c51cb",
   "metadata": {},
   "outputs": [],
   "source": [
    "def makecdf(array):\n",
    "    return np.sort(array), np.arange(1, len(array) + 1) / len(array)"
   ]
  },
  {
   "cell_type": "code",
   "execution_count": 47,
   "id": "0004a069-11cf-4c9b-a18d-a0dfb9e96cfc",
   "metadata": {},
   "outputs": [
    {
     "data": {
      "text/plain": [
       "(np.float64(1.0), np.float64(6.0), np.float64(1e-05), np.float64(1.0))"
      ]
     },
     "execution_count": 47,
     "metadata": {},
     "output_type": "execute_result"
    },
    {
     "data": {
      "image/png": "[encoded data removed]",
      "text/plain": [
       "<Figure size 640x480 with 1 Axes>"
      ]
     },
     "metadata": {},
     "output_type": "display_data"
    }
   ],
   "source": [
    "s, c = makecdf(snrs - jnp.mean(snrs))\n",
    "pp.semilogy(s, 1 - c, lw=4, alpha=0.5)\n",
    "\n",
    "mask = (s > 3) & (s < 5)\n",
    "pp.plot(s, jnp.exp(jnp.polyval(jnp.polyfit(s[mask], jnp.log(1 - c[mask]), 2), s)))\n",
    "\n",
    "mask = (s > 4) & (s < 5)\n",
    "pp.plot(s, jnp.exp(jnp.polyval(jnp.polyfit(s[mask], jnp.log(1 - c[mask]), 1), s)))\n",
    "\n",
    "pp.axis(xmin=1, xmax=6, ymin=1e-5, ymax=1)"
   ]
  },
  {
   "cell_type": "code",
   "execution_count": 50,
   "id": "6e2d88b7-44ba-400c-8716-bf017cd3e1dc",
   "metadata": {},
   "outputs": [
    {
     "data": {
      "text/plain": [
       "(np.float64(1.0), np.float64(6.0), np.float64(1e-05), np.float64(1.0))"
      ]
     },
     "execution_count": 50,
     "metadata": {},
     "output_type": "execute_result"
    },
    {
     "data": {
      "image/png": "[encoded data removed]",
      "text/plain": [
       "<Figure size 640x480 with 1 Axes>"
      ]
     },
     "metadata": {},
     "output_type": "display_data"
    }
   ],
   "source": [
    "s, c = makecdf(lsnrs - jnp.mean(lsnrs))\n",
    "pp.semilogy(s, 1 - c, lw=4, alpha=0.5)\n",
    "\n",
    "mask = (s > 3) & (s < 5)\n",
    "pp.plot(s, jnp.exp(jnp.polyval(jnp.polyfit(s[mask], jnp.log(1 - c[mask]), 2), s)))\n",
    "\n",
    "mask = (s > 4) & (s < 5)\n",
    "pp.plot(s, jnp.exp(jnp.polyval(jnp.polyfit(s[mask], jnp.log(1 - c[mask]), 1), s)))\n",
    "\n",
    "pp.axis(xmin=1, xmax=6, ymin=1e-5, ymax=1)"
   ]
  },
  {
   "cell_type": "code",
   "execution_count": 619,
   "id": "04cf2436-7906-4cbc-9e9b-da9f346e20f5",
   "metadata": {},
   "outputs": [],
   "source": [
    "jsample, jos = jax.jit(sim.sample), jax.jit(os.os)"
   ]
  },
  {
   "cell_type": "code",
   "execution_count": 620,
   "id": "d891f209-5666-4c6b-8d72-a5f0bce01a20",
   "metadata": {},
   "outputs": [
    {
     "name": "stderr",
     "output_type": "stream",
     "text": [
      "100%|███████████████████████████████████████████████████████████████████████████████████████████████████████████████████| 1000/1000 [08:00<00:00,  2.08it/s]\n"
     ]
    }
   ],
   "source": [
    "key = ds.matrix.jnpkey(42)\n",
    "\n",
    "oslist = []\n",
    "for i in tqdm.tqdm(range(1000)):\n",
    "    key, ys = jsample(key, p0)\n",
    "    oslist.append(jos({**p0, **{f'{psr.name}_sim_y': y for psr, y in zip(allpsrs, ys)}}))\n",
    "ssnrs = np.array([o['snr'] for o in oslist])"
   ]
  },
  {
   "cell_type": "code",
   "execution_count": 584,
   "id": "3ef12811-fdfe-417c-8abc-be3934466269",
   "metadata": {},
   "outputs": [
    {
     "name": "stdout",
     "output_type": "stream",
     "text": [
      "CPU times: user 1.85 s, sys: 270 ms, total: 2.12 s\n",
      "Wall time: 1.12 s\n"
     ]
    }
   ],
   "source": [
    "%time snrs = os.sample_rhosigma(key, p0, 100).block_until_ready()"
   ]
  },
  {
   "cell_type": "code",
   "execution_count": 585,
   "id": "df528b48-89c8-41e1-9d47-e3091c13673e",
   "metadata": {},
   "outputs": [
    {
     "name": "stdout",
     "output_type": "stream",
     "text": [
      "CPU times: user 4.35 s, sys: 629 ms, total: 4.98 s\n",
      "Wall time: 1.53 s\n"
     ]
    }
   ],
   "source": [
    "%time snrs = os.sample_rhosigma(key, p0, 1000).block_until_ready()"
   ]
  },
  {
   "cell_type": "code",
   "execution_count": 586,
   "id": "f41d5930-379a-484a-9252-ea9af056d94d",
   "metadata": {},
   "outputs": [
    {
     "name": "stdout",
     "output_type": "stream",
     "text": [
      "CPU times: user 29.7 s, sys: 3.81 s, total: 33.5 s\n",
      "Wall time: 5.78 s\n"
     ]
    }
   ],
   "source": [
    "%time snrs = os.sample_rhosigma(key, p0, 10000).block_until_ready()"
   ]
  },
  {
   "cell_type": "code",
   "execution_count": null,
   "id": "62ab0118-0b78-4167-b6aa-e9510aaf918f",
   "metadata": {},
   "outputs": [],
   "source": [
    "%time snrs2 = os.sample_rhosigma(key, p0, 100000).block_until_ready()"
   ]
  },
  {
   "cell_type": "markdown",
   "id": "b11859fa-6efe-4666-ac66-e0d604207e12",
   "metadata": {},
   "source": [
    "The tail goes from Gaussian to subexponential. The bound is 2 exp(-min(t^2/|Q_F|^2, t/|Q|))."
   ]
  },
  {
   "cell_type": "code",
   "execution_count": 14,
   "id": "213ff1ef-f5cf-4a30-84fb-bd867ec26db8",
   "metadata": {},
   "outputs": [
    {
     "ename": "NameError",
     "evalue": "name 'makecdf' is not defined",
     "output_type": "error",
     "traceback": [
      "\u001b[0;31m---------------------------------------------------------------------------\u001b[0m",
      "\u001b[0;31mNameError\u001b[0m                                 Traceback (most recent call last)",
      "Cell \u001b[0;32mIn[14], line 1\u001b[0m\n\u001b[0;32m----> 1\u001b[0m s, c \u001b[38;5;241m=\u001b[39m \u001b[43mmakecdf\u001b[49m(snrs \u001b[38;5;241m-\u001b[39m jnp\u001b[38;5;241m.\u001b[39mmean(snrs))\n\u001b[1;32m      2\u001b[0m pp\u001b[38;5;241m.\u001b[39msemilogy(s, \u001b[38;5;241m1\u001b[39m \u001b[38;5;241m-\u001b[39m c, lw\u001b[38;5;241m=\u001b[39m\u001b[38;5;241m4\u001b[39m, alpha\u001b[38;5;241m=\u001b[39m\u001b[38;5;241m0.5\u001b[39m)\n\u001b[1;32m      4\u001b[0m mask \u001b[38;5;241m=\u001b[39m (s \u001b[38;5;241m>\u001b[39m \u001b[38;5;241m0\u001b[39m) \u001b[38;5;241m&\u001b[39m (s \u001b[38;5;241m<\u001b[39m \u001b[38;5;241m4\u001b[39m)\n",
      "\u001b[0;31mNameError\u001b[0m: name 'makecdf' is not defined"
     ]
    }
   ],
   "source": [
    "s, c = makecdf(snrs - jnp.mean(snrs))\n",
    "pp.semilogy(s, 1 - c, lw=4, alpha=0.5)\n",
    "\n",
    "mask = (s > 0) & (s < 4)\n",
    "pp.plot(s[mask], jnp.exp(jnp.polyval(jnp.polyfit(s[mask], jnp.log(1 - c[mask]), 2), s[mask])))\n",
    "\n",
    "mask = (s > 2) & (s < 4.5)\n",
    "pp.plot(s[mask], jnp.exp(jnp.polyval(jnp.polyfit(s[mask], jnp.log(1 - c[mask]), 1), s[mask])))"
   ]
  },
  {
   "cell_type": "code",
   "execution_count": 629,
   "id": "9a8a1465-0ec2-4e73-86c3-b882eb92e669",
   "metadata": {},
   "outputs": [
    {
     "data": {
      "text/plain": [
       "[<matplotlib.lines.Line2D at 0x388a1ead0>]"
      ]
     },
     "execution_count": 629,
     "metadata": {},
     "output_type": "execute_result"
    },
    {
     "data": {
      "image/png": "[encoded data removed]",
      "text/plain": [
       "<Figure size 640x480 with 1 Axes>"
      ]
     },
     "metadata": {},
     "output_type": "display_data"
    }
   ],
   "source": []
  },
  {
   "cell_type": "code",
   "execution_count": 595,
   "id": "f4c2fde6-ab28-47f7-bf7d-4b67ae975e23",
   "metadata": {},
   "outputs": [
    {
     "data": {
      "text/plain": [
       "<matplotlib.legend.Legend at 0x43c285bd0>"
      ]
     },
     "execution_count": 595,
     "metadata": {},
     "output_type": "execute_result"
    },
    {
     "data": {
      "image/png": "[encoded data removed]",
      "text/plain": [
       "<Figure size 640x480 with 1 Axes>"
      ]
     },
     "metadata": {},
     "output_type": "display_data"
    }
   ],
   "source": [
    "pp.plot(*makecdf(snrs), label='direct')\n",
    "pp.plot(*makecdf(ssnrs),label='sims')\n",
    "pp.axis(xmin=1, xmax=3, ymin=0.8); pp.legend()"
   ]
  },
  {
   "cell_type": "code",
   "execution_count": 588,
   "id": "a619bbf9-9c13-4a36-bcba-4c3ec4f04741",
   "metadata": {},
   "outputs": [
    {
     "data": {
      "image/png": "[encoded data removed]",
      "text/plain": [
       "<Figure size 640x480 with 1 Axes>"
      ]
     },
     "metadata": {},
     "output_type": "display_data"
    }
   ],
   "source": [
    "pp.hist(snrs, histtype='step', density=True, bins=30);\n",
    "pp.hist(ssnrs, histtype='step', density=True, bins=30);"
   ]
  },
  {
   "cell_type": "markdown",
   "id": "3a8ca8dd-7543-4bcc-bc79-42fcc6e87775",
   "metadata": {},
   "source": [
    "### GX2 distribution"
   ]
  },
  {
   "cell_type": "code",
   "execution_count": 260,
   "id": "e798c821-de93-4b7f-ba29-8b20ae737ee1",
   "metadata": {},
   "outputs": [
    {
     "data": {
      "text/plain": [
       "<module 'discovery' from '/Users/vallis/Documents/discovery/src/discovery/__init__.py'>"
      ]
     },
     "execution_count": 260,
     "metadata": {},
     "output_type": "execute_result"
    }
   ],
   "source": [
    "import importlib\n",
    "\n",
    "importlib.reload(ds.os)\n",
    "importlib.reload(ds.matrix)\n",
    "importlib.reload(ds.signals)\n",
    "importlib.reload(ds.likelihood)\n",
    "importlib.reload(ds)"
   ]
  },
  {
   "cell_type": "code",
   "execution_count": 122,
   "id": "e8ab3414-6336-4050-8b8b-6dc2ae92779c",
   "metadata": {},
   "outputs": [],
   "source": [
    "import discovery.ostat as ostat\n",
    "importlib.reload(ostat)"
   ]
  },
  {
   "cell_type": "markdown",
   "id": "94415d96-e5ec-4158-b1c1-f4eaeb8db54c",
   "metadata": {},
   "source": [
    "We will compute the distribution of OS over a set of simulated datasets, and compare with the GP-only GX2 distribution."
   ]
  },
  {
   "cell_type": "code",
   "execution_count": 6,
   "id": "b40d3c37-05f7-4267-b845-2c526441c050",
   "metadata": {},
   "outputs": [],
   "source": [
    "Tspan = ds.getspan(allpsrs)\n",
    "\n",
    "sim = ds.GlobalLikelihood([ds.PulsarLikelihood([ds.makedelay(psr, ds.getresiduals, name='sim'), \n",
    "                                                ds.makenoise_measurement(psr, psr.noisedict),\n",
    "                                                ds.makegp_ecorr(psr, psr.noisedict),\n",
    "                                                ds.makegp_timing(psr, variance=1e-12),\n",
    "                                                ds.makegp_fourier(psr, ds.powerlaw, 30, T=Tspan, name='red_noise'),\n",
    "                                                ds.makegp_fourier(psr, ds.powerlaw, 14, T=Tspan,\n",
    "                                                                  common=['gw_log10_A', 'gw_gamma'], name='gw')\n",
    "                                                ]) for psr in allpsrs])"
   ]
  },
  {
   "cell_type": "code",
   "execution_count": 7,
   "id": "907a3cc9-e8bf-4c32-922a-41eb850ab02c",
   "metadata": {},
   "outputs": [],
   "source": [
    "df = pd.read_feather('../data/NG15yr-m2a-chain.feather')\n",
    "p0 = df.iloc[df['logp'].argmax()].to_dict()"
   ]
  },
  {
   "cell_type": "code",
   "execution_count": 159,
   "id": "a6e7e32a-c590-4bab-9fbc-148fc6325db7",
   "metadata": {},
   "outputs": [],
   "source": [
    "os = ostat.OS(sim)"
   ]
  },
  {
   "cell_type": "markdown",
   "id": "e7e6f9a7-aa64-4936-91ff-5bc04e4319d0",
   "metadata": {},
   "source": [
    "Evaluate the OS for the dataset residuals."
   ]
  },
  {
   "cell_type": "code",
   "execution_count": 155,
   "id": "f9821e81-91ed-481c-b19b-b98447e1379a",
   "metadata": {},
   "outputs": [
    {
     "data": {
      "text/plain": [
       "{'os': Array(1.13607126e-29, dtype=float64),\n",
       " 'os_sigma': Array(5.06952954e-30, dtype=float64),\n",
       " 'snr': Array(2.24097967, dtype=float64),\n",
       " 'log10_A': -14.186517715454102}"
      ]
     },
     "execution_count": 155,
     "metadata": {},
     "output_type": "execute_result"
    }
   ],
   "source": [
    "os.os({**p0, **{f'{psr.name}_sim_y': psr.residuals for psr in allpsrs}})"
   ]
  },
  {
   "cell_type": "code",
   "execution_count": 168,
   "id": "f8ee4aa2-744b-42a6-889e-2c43b4657459",
   "metadata": {},
   "outputs": [
    {
     "name": "stderr",
     "output_type": "stream",
     "text": [
      "100%|███████████████████████████████████████████████████████████████████████████████████████████████████████████████████| 1000/1000 [18:02<00:00,  1.08s/it]\n"
     ]
    }
   ],
   "source": [
    "key = ds.matrix.jnpkey(42)\n",
    "\n",
    "oslist = []\n",
    "for i in tqdm.tqdm(range(1000)):\n",
    "    key, ys = sim.sample(key, p0)\n",
    "    oslist.append(os.os({**p0, **{f'{psr.name}_sim_y': y for psr, y in zip(allpsrs, ys)}}))\n",
    "snrs = np.array([o['snr'] for o in oslist])"
   ]
  },
  {
   "cell_type": "code",
   "execution_count": 171,
   "id": "24e90ae2-a798-4e2b-99b9-a248fdac9a75",
   "metadata": {},
   "outputs": [
    {
     "name": "stdout",
     "output_type": "stream",
     "text": [
      "CPU times: user 9min 13s, sys: 1min 14s, total: 10min 27s\n",
      "Wall time: 17min 48s\n"
     ]
    }
   ],
   "source": [
    "%%time\n",
    "xs = np.linspace(-3, 6, 50)\n",
    "cs = os.gx2cdf(p0, xs, cutoff=1e-6, limit=200, epsabs=1e-6)"
   ]
  },
  {
   "cell_type": "code",
   "execution_count": 194,
   "id": "1728cb09-aa20-4708-8d08-0508b9b20e98",
   "metadata": {},
   "outputs": [
    {
     "data": {
      "text/plain": [
       "array([0.95516926])"
      ]
     },
     "execution_count": 194,
     "metadata": {},
     "output_type": "execute_result"
    }
   ],
   "source": [
    "os.gx2cdf(p0, [1.5], cutoff=1e-6, limit=200, epsabs=1e-6)"
   ]
  },
  {
   "cell_type": "code",
   "execution_count": 195,
   "id": "7e56fa85-26ed-48ef-9055-af4679b5466a",
   "metadata": {},
   "outputs": [
    {
     "data": {
      "text/plain": [
       "array([0.9551681])"
      ]
     },
     "execution_count": 195,
     "metadata": {},
     "output_type": "execute_result"
    }
   ],
   "source": [
    "os.gx2cdf(p0, [1.5], cutoff=1e-8, limit=200, epsabs=1e-6)"
   ]
  },
  {
   "cell_type": "code",
   "execution_count": 175,
   "id": "a491596e-9c88-474c-a422-6906a0517911",
   "metadata": {},
   "outputs": [
    {
     "data": {
      "text/plain": [
       "[<matplotlib.lines.Line2D at 0x3272702d0>]"
      ]
     },
     "execution_count": 175,
     "metadata": {},
     "output_type": "execute_result"
    },
    {
     "data": {
      "image/png": "[encoded data removed]",
      "text/plain": [
       "<Figure size 640x480 with 1 Axes>"
      ]
     },
     "metadata": {},
     "output_type": "display_data"
    }
   ],
   "source": [
    "pp.hist(snrs, histtype='step', bins=20, density=True);\n",
    "pp.plot(0.5*(xs[1:] + xs[:-1]), np.diff(cs) / (xs[1] - xs[0]))"
   ]
  },
  {
   "cell_type": "code",
   "execution_count": 205,
   "id": "eb163a6b-8218-413e-9187-913c32076b41",
   "metadata": {},
   "outputs": [
    {
     "data": {
      "text/plain": [
       "[<matplotlib.lines.Line2D at 0x1783b3890>]"
      ]
     },
     "execution_count": 205,
     "metadata": {},
     "output_type": "execute_result"
    },
    {
     "data": {
      "image/png": "[encoded data removed]",
      "text/plain": [
       "<Figure size 640x480 with 1 Axes>"
      ]
     },
     "metadata": {},
     "output_type": "display_data"
    }
   ],
   "source": [
    "ssnrs = np.sort(snrs)\n",
    "cdf = np.arange(1, len(ssnrs) + 1) / len(ssnrs)\n",
    "pp.plot(ssnrs, cdf)\n",
    "\n",
    "# pp.plot(xs, cs)\n",
    "pp.plot(1.25 * xs, cs)"
   ]
  },
  {
   "cell_type": "code",
   "execution_count": 8,
   "id": "e25192b2-7064-433c-aae4-0276d0fd4299",
   "metadata": {},
   "outputs": [],
   "source": [
    "Tspan = ds.getspan(allpsrs)\n",
    "\n",
    "sim2 = ds.GlobalLikelihood([ds.PulsarLikelihood([ds.makedelay(psr, ds.getresiduals, name='sim'), \n",
    "                                                 ds.makenoise_measurement(psr, psr.noisedict),\n",
    "                                                 ds.makegp_fourier(psr, ds.powerlaw, 30, T=Tspan, name='red_noise'),\n",
    "                                                 ds.makegp_fourier(psr, ds.powerlaw, 14, T=Tspan,\n",
    "                                                                   common=['gw_log10_A', 'gw_gamma'], name='gw')\n",
    "                                                 ]) for psr in allpsrs])"
   ]
  },
  {
   "cell_type": "code",
   "execution_count": 223,
   "id": "b2fb7b50-8be5-4fee-b0dd-c08f5a6ae8a6",
   "metadata": {},
   "outputs": [
    {
     "data": {
      "text/plain": [
       "Array([1.30327430e-06, 1.06194464e-05, 1.80645535e-06, ...,\n",
       "       2.20375972e-06, 7.17404447e-07, 1.33880154e-06], dtype=float64)"
      ]
     },
     "execution_count": 223,
     "metadata": {},
     "output_type": "execute_result"
    }
   ],
   "source": [
    "sim2.psls[0].N.N.make_sqrt()({})"
   ]
  },
  {
   "cell_type": "code",
   "execution_count": 11,
   "id": "d7accfdd-7ce5-4ffe-99ef-17ebefb1a9c9",
   "metadata": {},
   "outputs": [],
   "source": [
    "os2 = ds.OS(sim2)"
   ]
  },
  {
   "cell_type": "code",
   "execution_count": 56,
   "id": "5e67a01d-a502-4a78-b6f3-aed301cca8ce",
   "metadata": {},
   "outputs": [
    {
     "data": {
      "text/plain": [
       "{'os': Array(4.28545956e-30, dtype=float64),\n",
       " 'os_sigma': Array(3.65150911e-30, dtype=float64),\n",
       " 'snr': Array(1.17361327, dtype=float64),\n",
       " 'log10_A': -14.186517715454102}"
      ]
     },
     "execution_count": 56,
     "metadata": {},
     "output_type": "execute_result"
    }
   ],
   "source": [
    "os2.os({**p0, **{f'{psr.name}_sim_y': psr.residuals for psr in allpsrs}})"
   ]
  },
  {
   "cell_type": "code",
   "execution_count": 62,
   "id": "7d9d25ba-bad4-41f2-8a31-0b2106635b40",
   "metadata": {},
   "outputs": [],
   "source": [
    "jsim, jos = jax.jit(sim2.sample), jax.jit(os2.os)"
   ]
  },
  {
   "cell_type": "code",
   "execution_count": 65,
   "id": "336b032a-b575-4cb5-8c56-94e8fabc03df",
   "metadata": {},
   "outputs": [
    {
     "name": "stderr",
     "output_type": "stream",
     "text": [
      "100%|█████████████████████████████████████████████████████████████████████████████████████████████████████████████████| 10000/10000 [09:12<00:00, 18.09it/s]\n"
     ]
    }
   ],
   "source": [
    "key = ds.matrix.jnpkey(42)\n",
    "\n",
    "oslist2 = []\n",
    "for i in tqdm.tqdm(range(10000)):\n",
    "    key, ys = jsim(key, p0)\n",
    "    oslist2.append(jos({**p0, **{f'{psr.name}_sim_y': y for psr, y in zip(allpsrs, ys)}}))\n",
    "snrs2 = np.array([o['snr'] for o in oslist2])"
   ]
  },
  {
   "cell_type": "code",
   "execution_count": 46,
   "id": "dbe845e8-3f89-42d1-9e51-cde3c5775c25",
   "metadata": {},
   "outputs": [
    {
     "name": "stdout",
     "output_type": "stream",
     "text": [
      "CPU times: user 3min 37s, sys: 22.7 s, total: 3min 59s\n",
      "Wall time: 30.1 s\n"
     ]
    }
   ],
   "source": [
    "%%time\n",
    "xs2 = np.linspace(-3, 4, 50)\n",
    "cs2 = os2.gx2cdf(p0, xs2, cutoff=1e-6, limit=200, epsabs=1e-6)"
   ]
  },
  {
   "cell_type": "markdown",
   "id": "a1d7f245-ae93-49aa-bcad-a27303d50d57",
   "metadata": {},
   "source": [
    "Try a direct calculation"
   ]
  },
  {
   "cell_type": "code",
   "execution_count": 15,
   "id": "5002e639-06ab-4e61-a86e-1b42889be781",
   "metadata": {},
   "outputs": [
    {
     "name": "stdout",
     "output_type": "stream",
     "text": [
      "CPU times: user 622 ms, sys: 290 ms, total: 912 ms\n",
      "Wall time: 388 ms\n"
     ]
    }
   ],
   "source": [
    "%time amat = os2.gx2mat(p0)"
   ]
  },
  {
   "cell_type": "code",
   "execution_count": 50,
   "id": "28fd1487-725f-4145-8ba8-e28c0b718fc8",
   "metadata": {},
   "outputs": [
    {
     "name": "stdout",
     "output_type": "stream",
     "text": [
      "CPU times: user 1e+03 ns, sys: 8 μs, total: 9 μs\n",
      "Wall time: 21.9 μs\n"
     ]
    }
   ],
   "source": [
    "%time\n",
    "xmat = np.random.randn(10000, amat.shape[0])"
   ]
  },
  {
   "cell_type": "code",
   "execution_count": 52,
   "id": "e23b622d-dd6a-4dad-9d15-bf66d6e8c06f",
   "metadata": {},
   "outputs": [
    {
     "name": "stdout",
     "output_type": "stream",
     "text": [
      "CPU times: user 817 ms, sys: 104 ms, total: 921 ms\n",
      "Wall time: 88.9 ms\n"
     ]
    }
   ],
   "source": [
    "%time dsnr = np.sum((xmat @ amat) * xmat, axis=1)"
   ]
  },
  {
   "cell_type": "code",
   "execution_count": 59,
   "id": "5b2ba71c-f62a-4f80-a89c-01113431d9f1",
   "metadata": {},
   "outputs": [],
   "source": [
    "def makecdf(array):\n",
    "    return np.sort(array), np.arange(1, len(array) + 1) / len(array)"
   ]
  },
  {
   "cell_type": "code",
   "execution_count": 67,
   "id": "c6de76b0-820c-4f1c-a5ab-6b467b53de40",
   "metadata": {},
   "outputs": [
    {
     "data": {
      "text/plain": [
       "<matplotlib.legend.Legend at 0x7d5a69590>"
      ]
     },
     "execution_count": 67,
     "metadata": {},
     "output_type": "execute_result"
    },
    {
     "data": {
      "image/png": "[encoded data removed]",
      "text/plain": [
       "<Figure size 640x480 with 1 Axes>"
      ]
     },
     "metadata": {},
     "output_type": "display_data"
    }
   ],
   "source": [
    "pp.plot(*makecdf(snrs2), label='sim')\n",
    "pp.plot(*makecdf(dsnr), label='direct gx2')\n",
    "pp.plot(xs2, cs2, label='imhof gx2')\n",
    "pp.legend()"
   ]
  },
  {
   "cell_type": "code",
   "execution_count": 80,
   "id": "6a703b51-b540-4038-9ed7-584313b5fcba",
   "metadata": {},
   "outputs": [
    {
     "data": {
      "text/plain": [
       "<matplotlib.legend.Legend at 0x7d5ec34d0>"
      ]
     },
     "execution_count": 80,
     "metadata": {},
     "output_type": "execute_result"
    },
    {
     "data": {
      "image/png": "[encoded data removed]",
      "text/plain": [
       "<Figure size 640x480 with 1 Axes>"
      ]
     },
     "metadata": {},
     "output_type": "display_data"
    }
   ],
   "source": [
    "pp.plot(*makecdf(snrs2), label='sim')\n",
    "pp.plot(*makecdf(dsnr), label='direct gx2')\n",
    "pp.plot(xs2, cs2, label='imhof gx2')\n",
    "pp.axis(xmin=2, ymin=0.96, ymax=1.02)\n",
    "pp.legend()"
   ]
  },
  {
   "cell_type": "code",
   "execution_count": 75,
   "id": "5a3d2944-ff1c-4a48-9196-97ec36105655",
   "metadata": {},
   "outputs": [
    {
     "data": {
      "image/png": "[encoded data removed]",
      "text/plain": [
       "<Figure size 640x480 with 1 Axes>"
      ]
     },
     "metadata": {},
     "output_type": "display_data"
    }
   ],
   "source": [
    "pp.hist(snrs2, histtype='step', bins=40, density=True, label='sim')\n",
    "pp.hist(dsnr, histtype='step', bins=40, density=True, label='direct gx2')\n",
    "pp.plot(0.5*(xs2[1:] + xs2[:-1]), np.diff(cs2) / np.diff(xs2)[0], label='imhof gx2')\n",
    "pp.legend();"
   ]
  },
  {
   "cell_type": "code",
   "execution_count": 107,
   "id": "94ee68ec-f605-4578-b924-18a1022a7285",
   "metadata": {},
   "outputs": [
    {
     "data": {
      "text/plain": [
       "<matplotlib.legend.Legend at 0x870bbfc50>"
      ]
     },
     "execution_count": 107,
     "metadata": {},
     "output_type": "execute_result"
    },
    {
     "data": {
      "image/png": "[encoded data removed]",
      "text/plain": [
       "<Figure size 640x480 with 1 Axes>"
      ]
     },
     "metadata": {},
     "output_type": "display_data"
    }
   ],
   "source": [
    "pp.plot(*makecdf(snrs2), label='sim')\n",
    "pp.plot(*makecdf(dsnr), label='direct gx2')\n",
    "pp.plot(xs2, cs2, label='imhof gx2')\n",
    "pp.legend()"
   ]
  },
  {
   "cell_type": "code",
   "execution_count": 83,
   "id": "59a6398d-5121-4312-81e9-6cb8bc1922e8",
   "metadata": {},
   "outputs": [],
   "source": [
    "def lownoise(noisedict):\n",
    "    return {par: (val / 10) if 'efac' in par else val - 1 if 'equad' in par else val \n",
    "            for par, val in noisedict.items()}"
   ]
  },
  {
   "cell_type": "code",
   "execution_count": 87,
   "id": "301d3b2e-d5a0-495a-9673-5e4e8be3f11c",
   "metadata": {},
   "outputs": [],
   "source": [
    "sim2lw = ds.GlobalLikelihood([ds.PulsarLikelihood([ds.makedelay(psr, ds.getresiduals, name='sim'), \n",
    "                                                   ds.makenoise_measurement(psr, lownoise(psr.noisedict)),\n",
    "                                                   ds.makegp_fourier(psr, ds.powerlaw, 30, T=Tspan, name='red_noise'),\n",
    "                                                   ds.makegp_fourier(psr, ds.powerlaw, 14, T=Tspan,\n",
    "                                                                     common=['gw_log10_A', 'gw_gamma'], name='gw')\n",
    "                                                   ]) for psr in allpsrs])"
   ]
  },
  {
   "cell_type": "code",
   "execution_count": 88,
   "id": "959628ed-0848-4d52-b034-f9319c0a2016",
   "metadata": {},
   "outputs": [],
   "source": [
    "os2lw = ds.OS(sim2lw)"
   ]
  },
  {
   "cell_type": "code",
   "execution_count": 89,
   "id": "9b64e243-9e5c-451c-979a-8f1dab3238f0",
   "metadata": {},
   "outputs": [
    {
     "name": "stdout",
     "output_type": "stream",
     "text": [
      "Warning: delays are ignored in PulsarLikelihood.sample.\n",
      "Warning: delays are ignored in PulsarLikelihood.sample.\n",
      "Warning: delays are ignored in PulsarLikelihood.sample.\n",
      "Warning: delays are ignored in PulsarLikelihood.sample.\n",
      "Warning: delays are ignored in PulsarLikelihood.sample.\n",
      "Warning: delays are ignored in PulsarLikelihood.sample.\n",
      "Warning: delays are ignored in PulsarLikelihood.sample.\n",
      "Warning: delays are ignored in PulsarLikelihood.sample.\n",
      "Warning: delays are ignored in PulsarLikelihood.sample.\n",
      "Warning: delays are ignored in PulsarLikelihood.sample.\n",
      "Warning: delays are ignored in PulsarLikelihood.sample.\n",
      "Warning: delays are ignored in PulsarLikelihood.sample.\n",
      "Warning: delays are ignored in PulsarLikelihood.sample.\n",
      "Warning: delays are ignored in PulsarLikelihood.sample.\n",
      "Warning: delays are ignored in PulsarLikelihood.sample.\n",
      "Warning: delays are ignored in PulsarLikelihood.sample.\n",
      "Warning: delays are ignored in PulsarLikelihood.sample.\n",
      "Warning: delays are ignored in PulsarLikelihood.sample.\n",
      "Warning: delays are ignored in PulsarLikelihood.sample.\n",
      "Warning: delays are ignored in PulsarLikelihood.sample.\n",
      "Warning: delays are ignored in PulsarLikelihood.sample.\n",
      "Warning: delays are ignored in PulsarLikelihood.sample.\n",
      "Warning: delays are ignored in PulsarLikelihood.sample.\n",
      "Warning: delays are ignored in PulsarLikelihood.sample.\n",
      "Warning: delays are ignored in PulsarLikelihood.sample.\n",
      "Warning: delays are ignored in PulsarLikelihood.sample.\n",
      "Warning: delays are ignored in PulsarLikelihood.sample.\n",
      "Warning: delays are ignored in PulsarLikelihood.sample.\n",
      "Warning: delays are ignored in PulsarLikelihood.sample.\n",
      "Warning: delays are ignored in PulsarLikelihood.sample.\n",
      "Warning: delays are ignored in PulsarLikelihood.sample.\n",
      "Warning: delays are ignored in PulsarLikelihood.sample.\n",
      "Warning: delays are ignored in PulsarLikelihood.sample.\n",
      "Warning: delays are ignored in PulsarLikelihood.sample.\n",
      "Warning: delays are ignored in PulsarLikelihood.sample.\n",
      "Warning: delays are ignored in PulsarLikelihood.sample.\n",
      "Warning: delays are ignored in PulsarLikelihood.sample.\n",
      "Warning: delays are ignored in PulsarLikelihood.sample.\n",
      "Warning: delays are ignored in PulsarLikelihood.sample.\n",
      "Warning: delays are ignored in PulsarLikelihood.sample.\n",
      "Warning: delays are ignored in PulsarLikelihood.sample.\n",
      "Warning: delays are ignored in PulsarLikelihood.sample.\n",
      "Warning: delays are ignored in PulsarLikelihood.sample.\n",
      "Warning: delays are ignored in PulsarLikelihood.sample.\n",
      "Warning: delays are ignored in PulsarLikelihood.sample.\n",
      "Warning: delays are ignored in PulsarLikelihood.sample.\n",
      "Warning: delays are ignored in PulsarLikelihood.sample.\n",
      "Warning: delays are ignored in PulsarLikelihood.sample.\n",
      "Warning: delays are ignored in PulsarLikelihood.sample.\n",
      "Warning: delays are ignored in PulsarLikelihood.sample.\n",
      "Warning: delays are ignored in PulsarLikelihood.sample.\n",
      "Warning: delays are ignored in PulsarLikelihood.sample.\n",
      "Warning: delays are ignored in PulsarLikelihood.sample.\n",
      "Warning: delays are ignored in PulsarLikelihood.sample.\n",
      "Warning: delays are ignored in PulsarLikelihood.sample.\n",
      "Warning: delays are ignored in PulsarLikelihood.sample.\n",
      "Warning: delays are ignored in PulsarLikelihood.sample.\n",
      "Warning: delays are ignored in PulsarLikelihood.sample.\n",
      "Warning: delays are ignored in PulsarLikelihood.sample.\n",
      "Warning: delays are ignored in PulsarLikelihood.sample.\n",
      "Warning: delays are ignored in PulsarLikelihood.sample.\n",
      "Warning: delays are ignored in PulsarLikelihood.sample.\n",
      "Warning: delays are ignored in PulsarLikelihood.sample.\n",
      "Warning: delays are ignored in PulsarLikelihood.sample.\n",
      "Warning: delays are ignored in PulsarLikelihood.sample.\n",
      "Warning: delays are ignored in PulsarLikelihood.sample.\n",
      "Warning: delays are ignored in PulsarLikelihood.sample.\n"
     ]
    }
   ],
   "source": [
    "joslw, jsimlw = jax.jit(os2lw.os), jax.jit(sim2lw.sample)"
   ]
  },
  {
   "cell_type": "code",
   "execution_count": 90,
   "id": "5fe51cf1-4542-4251-b74f-665bfdb22b1f",
   "metadata": {},
   "outputs": [
    {
     "data": {
      "text/plain": [
       "{'log10_A': Array(-14.18651772, dtype=float64, weak_type=True),\n",
       " 'os': Array(3.4013086e-29, dtype=float64),\n",
       " 'os_sigma': Array(2.50486393e-30, dtype=float64),\n",
       " 'snr': Array(13.57881586, dtype=float64)}"
      ]
     },
     "execution_count": 90,
     "metadata": {},
     "output_type": "execute_result"
    }
   ],
   "source": [
    "%time joslw({**p0, **{f'{psr.name}_sim_y': psr.residuals for psr in allpsrs}})"
   ]
  },
  {
   "cell_type": "code",
   "execution_count": 92,
   "id": "46947336-d53d-4238-872f-e9b3af3d4318",
   "metadata": {},
   "outputs": [
    {
     "name": "stdout",
     "output_type": "stream",
     "text": [
      "CPU times: user 1.06 ms, sys: 1.22 ms, total: 2.28 ms\n",
      "Wall time: 1.26 ms\n"
     ]
    }
   ],
   "source": [
    "%time allys = jsimlw(key, p0)"
   ]
  },
  {
   "cell_type": "code",
   "execution_count": 93,
   "id": "8bf96f28-183f-4885-917c-dd9396c81600",
   "metadata": {},
   "outputs": [
    {
     "name": "stderr",
     "output_type": "stream",
     "text": [
      "100%|█████████████████████████████████████████████████████████████████████████████████████████████████████████████████| 10000/10000 [09:09<00:00, 18.19it/s]\n"
     ]
    }
   ],
   "source": [
    "key = ds.matrix.jnpkey(42)\n",
    "\n",
    "oslist2lw = []\n",
    "for i in tqdm.tqdm(range(10000)):\n",
    "    key, ys = jsimlw(key, p0)\n",
    "    oslist2lw.append(joslw({**p0, **{f'{psr.name}_sim_y': y for psr, y in zip(allpsrs, ys)}}))\n",
    "snrs2lw = np.array([o['snr'] for o in oslist2lw])"
   ]
  },
  {
   "cell_type": "code",
   "execution_count": 110,
   "id": "9e62a522-e84f-402d-94ef-e6fc5d372779",
   "metadata": {},
   "outputs": [
    {
     "name": "stdout",
     "output_type": "stream",
     "text": [
      "CPU times: user 4min 20s, sys: 25.2 s, total: 4min 45s\n",
      "Wall time: 33.3 s\n"
     ]
    }
   ],
   "source": [
    "%%time\n",
    "xs2lw = np.linspace(-3, 4, 50)\n",
    "cs2lw = os2lw.gx2cdf(p0, xs2lw, cutoff=1e-6, limit=200, epsabs=1e-6)"
   ]
  },
  {
   "cell_type": "code",
   "execution_count": 94,
   "id": "92132ff8-64b6-4c71-bcbf-dad40db89063",
   "metadata": {},
   "outputs": [
    {
     "name": "stdout",
     "output_type": "stream",
     "text": [
      "CPU times: user 9.94 s, sys: 635 ms, total: 10.6 s\n",
      "Wall time: 1.79 s\n"
     ]
    }
   ],
   "source": [
    "%%time\n",
    "amatlw = os2lw.gx2mat(p0)\n",
    "xmatlw = np.random.randn(10000, amatlw.shape[0])\n",
    "dsnrlw = np.sum((xmatlw @ amatlw) * xmatlw, axis=1)"
   ]
  },
  {
   "cell_type": "code",
   "execution_count": 111,
   "id": "6f467a4e-5fb6-4c02-b608-7cb86ad9afee",
   "metadata": {},
   "outputs": [
    {
     "data": {
      "text/plain": [
       "<matplotlib.legend.Legend at 0x870ed6490>"
      ]
     },
     "execution_count": 111,
     "metadata": {},
     "output_type": "execute_result"
    },
    {
     "data": {
      "image/png": "[encoded data removed]",
      "text/plain": [
       "<Figure size 1200x400 with 2 Axes>"
      ]
     },
     "metadata": {},
     "output_type": "display_data"
    }
   ],
   "source": [
    "pp.figure(figsize=(12,4))\n",
    "\n",
    "pp.subplot(1,2,1)\n",
    "pp.plot(*makecdf(snrs2), label='sim')\n",
    "pp.plot(*makecdf(dsnr), label='direct gx2')\n",
    "pp.legend()\n",
    "\n",
    "pp.subplot(1,2,2)\n",
    "pp.plot(*makecdf(snrs2lw), label='sim LW')\n",
    "pp.plot(*makecdf(dsnrlw), label='direct gx2 LW')\n",
    "pp.legend()"
   ]
  },
  {
   "cell_type": "code",
   "execution_count": 112,
   "id": "f2cdb3b2-e88f-4365-a941-e45747449e8e",
   "metadata": {},
   "outputs": [
    {
     "data": {
      "text/plain": [
       "<matplotlib.legend.Legend at 0x870fbbd90>"
      ]
     },
     "execution_count": 112,
     "metadata": {},
     "output_type": "execute_result"
    },
    {
     "data": {
      "image/png": "[encoded data removed]",
      "text/plain": [
       "<Figure size 1200x400 with 2 Axes>"
      ]
     },
     "metadata": {},
     "output_type": "display_data"
    }
   ],
   "source": [
    "pp.figure(figsize=(12,4))\n",
    "\n",
    "pp.subplot(1,2,1)\n",
    "pp.plot(*makecdf(snrs2), label='sim')\n",
    "pp.plot(xs2, cs2, label='imhof gx2')\n",
    "pp.plot(*makecdf(dsnr), label='direct gx2')\n",
    "pp.axis(xmin=2, ymin=0.96, ymax=1.02)\n",
    "pp.legend()\n",
    "\n",
    "pp.subplot(1,2,2)\n",
    "pp.plot(*makecdf(snrs2lw), label='sim LN')\n",
    "pp.plot(xs2lw, cs2lw, label='imhof gx2 LN')\n",
    "pp.plot(*makecdf(dsnrlw), label='direct gx2 LN')\n",
    "pp.axis(xmin=2, ymin=0.96, ymax=1.02)\n",
    "pp.legend()"
   ]
  },
  {
   "cell_type": "code",
   "execution_count": 114,
   "id": "65b7098a-b3b6-44a4-a85f-615a830b9273",
   "metadata": {},
   "outputs": [],
   "source": [
    "def lownoise(noisedict, factor=10):\n",
    "    return {par: (val / factor) if 'efac' in par else val - np.log10(factor) if 'equad' in par else val \n",
    "            for par, val in noisedict.items()}"
   ]
  },
  {
   "cell_type": "code",
   "execution_count": 126,
   "id": "8c8bcf74-cf31-4d6f-b9ba-c946f2bad508",
   "metadata": {},
   "outputs": [],
   "source": [
    "sim2vlw = ds.GlobalLikelihood([ds.PulsarLikelihood([ds.makedelay(psr, ds.getresiduals, name='sim'), \n",
    "                                                    ds.makenoise_measurement(psr, lownoise(psr.noisedict, 100)),\n",
    "                                                    ds.makegp_fourier(psr, ds.powerlaw, 30, T=Tspan, name='red_noise'),\n",
    "                                                    ds.makegp_fourier(psr, ds.powerlaw, 14, T=Tspan,\n",
    "                                                                      common=['gw_log10_A', 'gw_gamma'], name='gw')\n",
    "                                                    ]) for psr in allpsrs])"
   ]
  },
  {
   "cell_type": "code",
   "execution_count": 127,
   "id": "249f4894-773d-42c3-a536-695245033d30",
   "metadata": {},
   "outputs": [],
   "source": [
    "os2vlw = ds.OS(sim2vlw)"
   ]
  },
  {
   "cell_type": "code",
   "execution_count": 128,
   "id": "d8d2c688-e4e7-4566-972d-514bf877bb9f",
   "metadata": {},
   "outputs": [
    {
     "name": "stdout",
     "output_type": "stream",
     "text": [
      "Warning: delays are ignored in PulsarLikelihood.sample.\n",
      "Warning: delays are ignored in PulsarLikelihood.sample.\n",
      "Warning: delays are ignored in PulsarLikelihood.sample.\n",
      "Warning: delays are ignored in PulsarLikelihood.sample.\n",
      "Warning: delays are ignored in PulsarLikelihood.sample.\n",
      "Warning: delays are ignored in PulsarLikelihood.sample.\n",
      "Warning: delays are ignored in PulsarLikelihood.sample.\n",
      "Warning: delays are ignored in PulsarLikelihood.sample.\n",
      "Warning: delays are ignored in PulsarLikelihood.sample.\n",
      "Warning: delays are ignored in PulsarLikelihood.sample.\n",
      "Warning: delays are ignored in PulsarLikelihood.sample.\n",
      "Warning: delays are ignored in PulsarLikelihood.sample.\n",
      "Warning: delays are ignored in PulsarLikelihood.sample.\n",
      "Warning: delays are ignored in PulsarLikelihood.sample.\n",
      "Warning: delays are ignored in PulsarLikelihood.sample.\n",
      "Warning: delays are ignored in PulsarLikelihood.sample.\n",
      "Warning: delays are ignored in PulsarLikelihood.sample.\n",
      "Warning: delays are ignored in PulsarLikelihood.sample.\n",
      "Warning: delays are ignored in PulsarLikelihood.sample.\n",
      "Warning: delays are ignored in PulsarLikelihood.sample.\n",
      "Warning: delays are ignored in PulsarLikelihood.sample.\n",
      "Warning: delays are ignored in PulsarLikelihood.sample.\n",
      "Warning: delays are ignored in PulsarLikelihood.sample.\n",
      "Warning: delays are ignored in PulsarLikelihood.sample.\n",
      "Warning: delays are ignored in PulsarLikelihood.sample.\n",
      "Warning: delays are ignored in PulsarLikelihood.sample.\n",
      "Warning: delays are ignored in PulsarLikelihood.sample.\n",
      "Warning: delays are ignored in PulsarLikelihood.sample.\n",
      "Warning: delays are ignored in PulsarLikelihood.sample.\n",
      "Warning: delays are ignored in PulsarLikelihood.sample.\n",
      "Warning: delays are ignored in PulsarLikelihood.sample.\n",
      "Warning: delays are ignored in PulsarLikelihood.sample.\n",
      "Warning: delays are ignored in PulsarLikelihood.sample.\n",
      "Warning: delays are ignored in PulsarLikelihood.sample.\n",
      "Warning: delays are ignored in PulsarLikelihood.sample.\n",
      "Warning: delays are ignored in PulsarLikelihood.sample.\n",
      "Warning: delays are ignored in PulsarLikelihood.sample.\n",
      "Warning: delays are ignored in PulsarLikelihood.sample.\n",
      "Warning: delays are ignored in PulsarLikelihood.sample.\n",
      "Warning: delays are ignored in PulsarLikelihood.sample.\n",
      "Warning: delays are ignored in PulsarLikelihood.sample.\n",
      "Warning: delays are ignored in PulsarLikelihood.sample.\n",
      "Warning: delays are ignored in PulsarLikelihood.sample.\n",
      "Warning: delays are ignored in PulsarLikelihood.sample.\n",
      "Warning: delays are ignored in PulsarLikelihood.sample.\n",
      "Warning: delays are ignored in PulsarLikelihood.sample.\n",
      "Warning: delays are ignored in PulsarLikelihood.sample.\n",
      "Warning: delays are ignored in PulsarLikelihood.sample.\n",
      "Warning: delays are ignored in PulsarLikelihood.sample.\n",
      "Warning: delays are ignored in PulsarLikelihood.sample.\n",
      "Warning: delays are ignored in PulsarLikelihood.sample.\n",
      "Warning: delays are ignored in PulsarLikelihood.sample.\n",
      "Warning: delays are ignored in PulsarLikelihood.sample.\n",
      "Warning: delays are ignored in PulsarLikelihood.sample.\n",
      "Warning: delays are ignored in PulsarLikelihood.sample.\n",
      "Warning: delays are ignored in PulsarLikelihood.sample.\n",
      "Warning: delays are ignored in PulsarLikelihood.sample.\n",
      "Warning: delays are ignored in PulsarLikelihood.sample.\n",
      "Warning: delays are ignored in PulsarLikelihood.sample.\n",
      "Warning: delays are ignored in PulsarLikelihood.sample.\n",
      "Warning: delays are ignored in PulsarLikelihood.sample.\n",
      "Warning: delays are ignored in PulsarLikelihood.sample.\n",
      "Warning: delays are ignored in PulsarLikelihood.sample.\n",
      "Warning: delays are ignored in PulsarLikelihood.sample.\n",
      "Warning: delays are ignored in PulsarLikelihood.sample.\n",
      "Warning: delays are ignored in PulsarLikelihood.sample.\n",
      "Warning: delays are ignored in PulsarLikelihood.sample.\n"
     ]
    }
   ],
   "source": [
    "josvlw, jsimvlw = jax.jit(os2vlw.os), jax.jit(sim2vlw.sample)"
   ]
  },
  {
   "cell_type": "code",
   "execution_count": 129,
   "id": "c2e85254-0db3-4f34-bea8-89ea75d00eb6",
   "metadata": {},
   "outputs": [
    {
     "name": "stdout",
     "output_type": "stream",
     "text": [
      "CPU times: user 27.9 s, sys: 1.17 s, total: 29.1 s\n",
      "Wall time: 29 s\n"
     ]
    },
    {
     "data": {
      "text/plain": [
       "{'log10_A': Array(-14.18651772, dtype=float64, weak_type=True),\n",
       " 'os': Array(-9.19316003e-28, dtype=float64),\n",
       " 'os_sigma': Array(2.21382613e-30, dtype=float64),\n",
       " 'snr': Array(-415.26115837, dtype=float64)}"
      ]
     },
     "execution_count": 129,
     "metadata": {},
     "output_type": "execute_result"
    }
   ],
   "source": [
    "%time josvlw({**p0, **{f'{psr.name}_sim_y': psr.residuals for psr in allpsrs}})"
   ]
  },
  {
   "cell_type": "code",
   "execution_count": 130,
   "id": "ed73df3a-1157-4249-85dd-5383e896705d",
   "metadata": {},
   "outputs": [
    {
     "name": "stdout",
     "output_type": "stream",
     "text": [
      "CPU times: user 10.9 s, sys: 589 ms, total: 11.5 s\n",
      "Wall time: 11.4 s\n"
     ]
    }
   ],
   "source": [
    "%time allys = jsimvlw(key, p0)"
   ]
  },
  {
   "cell_type": "code",
   "execution_count": 131,
   "id": "4ba20d4c-d377-459e-97cf-09a9571090eb",
   "metadata": {},
   "outputs": [
    {
     "name": "stderr",
     "output_type": "stream",
     "text": [
      "100%|█████████████████████████████████████████████████████████████████████████████████████████████████████████████████| 10000/10000 [09:12<00:00, 18.10it/s]\n"
     ]
    }
   ],
   "source": [
    "key = ds.matrix.jnpkey(42)\n",
    "\n",
    "oslist2vlw = []\n",
    "for i in tqdm.tqdm(range(10000)):\n",
    "    key, ys = jsimvlw(key, p0)\n",
    "    oslist2vlw.append(josvlw({**p0, **{f'{psr.name}_sim_y': y for psr, y in zip(allpsrs, ys)}}))\n",
    "snrs2vlw = np.array([o['snr'] for o in oslist2vlw])"
   ]
  },
  {
   "cell_type": "code",
   "execution_count": 133,
   "id": "b33f302f-2197-43a1-9ed7-03163a9e8be5",
   "metadata": {},
   "outputs": [
    {
     "name": "stdout",
     "output_type": "stream",
     "text": [
      "CPU times: user 3min 30s, sys: 25.6 s, total: 3min 56s\n",
      "Wall time: 30.7 s\n"
     ]
    }
   ],
   "source": [
    "%%time\n",
    "xs2vlw = np.linspace(-3, 4, 50)\n",
    "cs2vlw = os2vlw.gx2cdf(p0, xs2vlw, cutoff=1e-6, limit=200, epsabs=1e-6)"
   ]
  },
  {
   "cell_type": "code",
   "execution_count": 132,
   "id": "4397d71f-388e-46ca-a6db-c313ee27c451",
   "metadata": {},
   "outputs": [
    {
     "name": "stdout",
     "output_type": "stream",
     "text": [
      "CPU times: user 8.7 s, sys: 586 ms, total: 9.29 s\n",
      "Wall time: 1.71 s\n"
     ]
    }
   ],
   "source": [
    "%%time\n",
    "amatvlw = os2vlw.gx2mat(p0)\n",
    "xmatvlw = np.random.randn(10000, amatvlw.shape[0])\n",
    "dsnrvlw = np.sum((xmatvlw @ amatvlw) * xmatvlw, axis=1)"
   ]
  },
  {
   "cell_type": "code",
   "execution_count": 142,
   "id": "44818f9a-5bd7-4d4e-9c2f-b81f130e9bcd",
   "metadata": {},
   "outputs": [
    {
     "data": {
      "text/plain": [
       "<matplotlib.legend.Legend at 0x73ae6d450>"
      ]
     },
     "execution_count": 142,
     "metadata": {},
     "output_type": "execute_result"
    },
    {
     "data": {
      "image/png": "[encoded data removed]",
      "text/plain": [
       "<Figure size 1200x300 with 3 Axes>"
      ]
     },
     "metadata": {},
     "output_type": "display_data"
    }
   ],
   "source": [
    "pp.figure(figsize=(12,3))\n",
    "\n",
    "pp.subplot(1,3,1)\n",
    "pp.plot(*makecdf(snrs2), label='sim')\n",
    "pp.plot(xs2, cs2, label='imhof gx2')\n",
    "pp.legend()\n",
    "\n",
    "pp.subplot(1,3,2)\n",
    "pp.plot(*makecdf(snrs2lw), label='sim LN')\n",
    "pp.plot(xs2lw, cs2lw, label='imhof gx2 LN')\n",
    "pp.legend()\n",
    "\n",
    "pp.subplot(1,3,3)\n",
    "pp.plot(*makecdf(snrs2vlw), label='sim VLN')\n",
    "pp.plot(xs2vlw, cs2vlw, label='imhof gx2 VLN')\n",
    "pp.legend()"
   ]
  },
  {
   "cell_type": "code",
   "execution_count": 139,
   "id": "04c9a0f3-e9d2-4361-b28b-25abac5accf1",
   "metadata": {},
   "outputs": [
    {
     "data": {
      "image/png": "[encoded data removed]",
      "text/plain": [
       "<Figure size 1200x300 with 3 Axes>"
      ]
     },
     "metadata": {},
     "output_type": "display_data"
    }
   ],
   "source": [
    "pp.figure(figsize=(12,3))\n",
    "\n",
    "pp.subplot(1,3,1)\n",
    "pp.plot(*makecdf(snrs2), label='sim')\n",
    "pp.plot(xs2, cs2, label='imhof gx2')\n",
    "pp.plot(*makecdf(dsnr), label='direct gx2')\n",
    "pp.axis(xmin=2, ymin=0.97, ymax=1.005)\n",
    "pp.legend()\n",
    "\n",
    "pp.subplot(1,3,2)\n",
    "pp.plot(*makecdf(snrs2lw), label='sim LN')\n",
    "pp.plot(xs2lw, cs2lw, label='imhof gx2 LN')\n",
    "pp.plot(*makecdf(dsnrlw), label='direct gx2 LN')\n",
    "pp.axis(xmin=2, ymin=0.97, ymax=1.005)\n",
    "pp.legend()\n",
    "\n",
    "pp.subplot(1,3,3)\n",
    "pp.plot(*makecdf(snrs2vlw), label='sim VLN')\n",
    "pp.plot(xs2vlw, cs2vlw, label='imhof gx2 VLN')\n",
    "pp.plot(*makecdf(dsnrvlw), label='direct gx2 VLN')\n",
    "pp.axis(xmin=2, ymin=0.97, ymax=1.005)\n",
    "pp.legend()\n",
    "\n",
    "pp.tight_layout()"
   ]
  },
  {
   "cell_type": "code",
   "execution_count": 148,
   "id": "a4bc41f0-4645-469c-9e13-4d94b0f4de54",
   "metadata": {},
   "outputs": [],
   "source": [
    "def matvec(x):\n",
    "    return amat @ x"
   ]
  },
  {
   "cell_type": "code",
   "execution_count": 168,
   "id": "ccbb740e-7eb7-4bd0-b30d-e92ca325bef6",
   "metadata": {},
   "outputs": [],
   "source": [
    "def Lanczos( A, v, m=100 ):\n",
    "    n = len(v)\n",
    "    if m>n: m = n;\n",
    "    # from here https://en.wikipedia.org/wiki/Lanczos_algorithm\n",
    "    V = np.zeros( (m,n) )\n",
    "    T = np.zeros( (m,m) )\n",
    "    vo   = np.zeros(n)\n",
    "    beta = 0\n",
    "    for j in range( m-1 ):\n",
    "        w    = np.dot( A, v )\n",
    "        alfa = np.dot( w, v )\n",
    "        w    = w - alfa * v - beta * vo\n",
    "        beta = np.sqrt( np.dot( w, w ) ) \n",
    "        vo   = v\n",
    "        v    = w / beta \n",
    "        T[j,j  ] = alfa \n",
    "        T[j,j+1] = beta\n",
    "        T[j+1,j] = beta\n",
    "        V[j,:]   = v\n",
    "    w    = np.dot( A,  v )\n",
    "    alfa = np.dot( w, v )\n",
    "    w    = w - alfa * v - beta * vo\n",
    "    T[m-1,m-1] = np.dot( w, v )\n",
    "    V[m-1]     = w / np.sqrt( np.dot( w, w ) ) \n",
    "    return T, V"
   ]
  },
  {
   "cell_type": "code",
   "execution_count": 202,
   "id": "6a987bcf-b1b1-4a31-b9e5-83e3cb8a727c",
   "metadata": {},
   "outputs": [],
   "source": [
    "def estimate_eigenvalues(A, m=30, num_probes=20, seed=0):\n",
    "    n = A.shape[0]\n",
    "    rng = np.random.default_rng(seed)\n",
    "    all_eigs = []\n",
    "\n",
    "    for _ in range(num_probes):\n",
    "        v = rng.normal(size=n)\n",
    "        v = v / np.linalg.norm(v)\n",
    "        T, _ = Lanczos(A, v, m)\n",
    "        eigs = np.linalg.eigvalsh(T)\n",
    "        all_eigs.append(eigs)\n",
    "\n",
    "    return np.array(all_eigs)  # shape: (num_probes, m)"
   ]
  },
  {
   "cell_type": "code",
   "execution_count": 217,
   "id": "8bb8dcc0-1edf-41e4-ac09-62c0942ea663",
   "metadata": {},
   "outputs": [
    {
     "data": {
      "text/plain": [
       "[<matplotlib.lines.Line2D at 0x776b15450>]"
      ]
     },
     "execution_count": 217,
     "metadata": {},
     "output_type": "execute_result"
    },
    {
     "data": {
      "image/png": "[encoded data removed]",
      "text/plain": [
       "<Figure size 640x480 with 1 Axes>"
      ]
     },
     "metadata": {},
     "output_type": "display_data"
    }
   ],
   "source": [
    "pp.plot(np.sort(np.mean(estimate_eigenvalues(amat, m=60, num_probes=200), axis=0))[::-1], 'x')\n",
    "pp.plot(np.sort(np.abs(esA))[::-1][:len(esT)])"
   ]
  },
  {
   "cell_type": "code",
   "execution_count": 169,
   "id": "a9904270-70e2-4e4c-8f5f-d6bdc4a672c8",
   "metadata": {},
   "outputs": [],
   "source": [
    "v0 = np.random.rand(amat.shape[0]); v0 /= np.sqrt(np.dot(v0,v0))"
   ]
  },
  {
   "cell_type": "code",
   "execution_count": 200,
   "id": "2cc4f70b-972b-455c-a41e-abca2ef4bbd6",
   "metadata": {},
   "outputs": [],
   "source": [
    "T, V = Lanczos(amat, v0, m=35)\n",
    "esT, vsT = np.linalg.eig(T)"
   ]
  },
  {
   "cell_type": "code",
   "execution_count": 174,
   "id": "a83a43b1-b2e9-4a95-98bc-0d77de2b5222",
   "metadata": {},
   "outputs": [],
   "source": [
    "esA, vsA = np.linalg.eig(amat)"
   ]
  },
  {
   "cell_type": "code",
   "execution_count": 201,
   "id": "bf996be7-9272-48b4-ba98-cd6bd9ae09f8",
   "metadata": {},
   "outputs": [
    {
     "data": {
      "text/plain": [
       "[<matplotlib.lines.Line2D at 0x7762dd810>]"
      ]
     },
     "execution_count": 201,
     "metadata": {},
     "output_type": "execute_result"
    },
    {
     "data": {
      "image/png": "[encoded data removed]",
      "text/plain": [
       "<Figure size 640x480 with 1 Axes>"
      ]
     },
     "metadata": {},
     "output_type": "display_data"
    }
   ],
   "source": [
    "pp.plot(np.sort(np.abs(esT))[::-1], 'x')\n",
    "pp.plot(np.sort(np.abs(esA))[::-1][:len(esT)])"
   ]
  },
  {
   "cell_type": "code",
   "execution_count": null,
   "id": "d0fc9043-72d4-4ec5-9748-dd9a4abb9aa8",
   "metadata": {},
   "outputs": [],
   "source": []
  }
 ],
 "metadata": {
  "kernelspec": {
   "display_name": "Python 3 (ipykernel)",
   "language": "python",
   "name": "python3"
  },
  "language_info": {
   "codemirror_mode": {
    "name": "ipython",
    "version": 3
   },
   "file_extension": ".py",
   "mimetype": "text/x-python",
   "name": "python",
   "nbconvert_exporter": "python",
   "pygments_lexer": "ipython3",
   "version": "3.13.1"
  }
 },
 "nbformat": 4,
 "nbformat_minor": 5
}
